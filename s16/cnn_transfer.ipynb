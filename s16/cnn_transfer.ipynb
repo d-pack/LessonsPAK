{
 "cells": [
  {
   "cell_type": "markdown",
   "metadata": {},
   "source": [
    "## Pretrained models"
   ]
  },
  {
   "cell_type": "markdown",
   "metadata": {},
   "source": [
    "### Torchvision\n",
    "\n",
    "[torchvision](https://github.com/pytorch/vision) - библиотека, содержащая популярные CV датасеты, утилиты для препроцессинга и, самое важное, pre-trained модели для классификации, обученные на [ImageNet](http://image-net.org/).\n",
    "\n",
    "Большая часть потребностей покрывается имеющимися моделями, но если нужна какая-то другая архитектура или нужно решать задачу, отличную от классификации, то хорошую реализацию и веса, скорее всего, получится нагуглить или найти на github"
   ]
  },
  {
   "cell_type": "code",
   "execution_count": 1,
   "metadata": {},
   "outputs": [],
   "source": [
    "import os\n",
    "\n",
    "os.environ['CUDA_VISIBLE_DEVICES'] = '7'"
   ]
  },
  {
   "cell_type": "code",
   "execution_count": 2,
   "metadata": {},
   "outputs": [
    {
     "name": "stderr",
     "output_type": "stream",
     "text": [
      "\n",
      "Bad key \"text.kerning_factor\" on line 4 in\n",
      "/home/brodt/.local/lib/python3.6/site-packages/matplotlib/mpl-data/stylelib/_classic_test_patch.mplstyle.\n",
      "You probably need to get an updated matplotlibrc file from\n",
      "http://github.com/matplotlib/matplotlib/blob/master/matplotlibrc.template\n",
      "or from the matplotlib source distribution\n"
     ]
    }
   ],
   "source": [
    "import os\n",
    "from pathlib import Path\n",
    "from copy import deepcopy\n",
    "from collections import defaultdict\n",
    "\n",
    "import numpy as np\n",
    "import matplotlib.pyplot as plt\n",
    "import PIL.Image as Image\n",
    "import torchvision\n",
    "import torch\n",
    "import torch.nn as nn\n",
    "import tqdm\n",
    "from sklearn.model_selection import train_test_split\n",
    "from sklearn.ensemble import RandomForestClassifier\n",
    "from sklearn.metrics import roc_curve, roc_auc_score\n",
    "\n",
    "%matplotlib inline"
   ]
  },
  {
   "cell_type": "code",
   "execution_count": 3,
   "metadata": {},
   "outputs": [
    {
     "data": {
      "text/plain": [
       "ResNet(\n",
       "  (conv1): Conv2d(3, 64, kernel_size=(7, 7), stride=(2, 2), padding=(3, 3), bias=False)\n",
       "  (bn1): BatchNorm2d(64, eps=1e-05, momentum=0.1, affine=True, track_running_stats=True)\n",
       "  (relu): ReLU(inplace=True)\n",
       "  (maxpool): MaxPool2d(kernel_size=3, stride=2, padding=1, dilation=1, ceil_mode=False)\n",
       "  (layer1): Sequential(\n",
       "    (0): Bottleneck(\n",
       "      (conv1): Conv2d(64, 64, kernel_size=(1, 1), stride=(1, 1), bias=False)\n",
       "      (bn1): BatchNorm2d(64, eps=1e-05, momentum=0.1, affine=True, track_running_stats=True)\n",
       "      (conv2): Conv2d(64, 64, kernel_size=(3, 3), stride=(1, 1), padding=(1, 1), bias=False)\n",
       "      (bn2): BatchNorm2d(64, eps=1e-05, momentum=0.1, affine=True, track_running_stats=True)\n",
       "      (conv3): Conv2d(64, 256, kernel_size=(1, 1), stride=(1, 1), bias=False)\n",
       "      (bn3): BatchNorm2d(256, eps=1e-05, momentum=0.1, affine=True, track_running_stats=True)\n",
       "      (relu): ReLU(inplace=True)\n",
       "      (downsample): Sequential(\n",
       "        (0): Conv2d(64, 256, kernel_size=(1, 1), stride=(1, 1), bias=False)\n",
       "        (1): BatchNorm2d(256, eps=1e-05, momentum=0.1, affine=True, track_running_stats=True)\n",
       "      )\n",
       "    )\n",
       "    (1): Bottleneck(\n",
       "      (conv1): Conv2d(256, 64, kernel_size=(1, 1), stride=(1, 1), bias=False)\n",
       "      (bn1): BatchNorm2d(64, eps=1e-05, momentum=0.1, affine=True, track_running_stats=True)\n",
       "      (conv2): Conv2d(64, 64, kernel_size=(3, 3), stride=(1, 1), padding=(1, 1), bias=False)\n",
       "      (bn2): BatchNorm2d(64, eps=1e-05, momentum=0.1, affine=True, track_running_stats=True)\n",
       "      (conv3): Conv2d(64, 256, kernel_size=(1, 1), stride=(1, 1), bias=False)\n",
       "      (bn3): BatchNorm2d(256, eps=1e-05, momentum=0.1, affine=True, track_running_stats=True)\n",
       "      (relu): ReLU(inplace=True)\n",
       "    )\n",
       "    (2): Bottleneck(\n",
       "      (conv1): Conv2d(256, 64, kernel_size=(1, 1), stride=(1, 1), bias=False)\n",
       "      (bn1): BatchNorm2d(64, eps=1e-05, momentum=0.1, affine=True, track_running_stats=True)\n",
       "      (conv2): Conv2d(64, 64, kernel_size=(3, 3), stride=(1, 1), padding=(1, 1), bias=False)\n",
       "      (bn2): BatchNorm2d(64, eps=1e-05, momentum=0.1, affine=True, track_running_stats=True)\n",
       "      (conv3): Conv2d(64, 256, kernel_size=(1, 1), stride=(1, 1), bias=False)\n",
       "      (bn3): BatchNorm2d(256, eps=1e-05, momentum=0.1, affine=True, track_running_stats=True)\n",
       "      (relu): ReLU(inplace=True)\n",
       "    )\n",
       "  )\n",
       "  (layer2): Sequential(\n",
       "    (0): Bottleneck(\n",
       "      (conv1): Conv2d(256, 128, kernel_size=(1, 1), stride=(1, 1), bias=False)\n",
       "      (bn1): BatchNorm2d(128, eps=1e-05, momentum=0.1, affine=True, track_running_stats=True)\n",
       "      (conv2): Conv2d(128, 128, kernel_size=(3, 3), stride=(2, 2), padding=(1, 1), bias=False)\n",
       "      (bn2): BatchNorm2d(128, eps=1e-05, momentum=0.1, affine=True, track_running_stats=True)\n",
       "      (conv3): Conv2d(128, 512, kernel_size=(1, 1), stride=(1, 1), bias=False)\n",
       "      (bn3): BatchNorm2d(512, eps=1e-05, momentum=0.1, affine=True, track_running_stats=True)\n",
       "      (relu): ReLU(inplace=True)\n",
       "      (downsample): Sequential(\n",
       "        (0): Conv2d(256, 512, kernel_size=(1, 1), stride=(2, 2), bias=False)\n",
       "        (1): BatchNorm2d(512, eps=1e-05, momentum=0.1, affine=True, track_running_stats=True)\n",
       "      )\n",
       "    )\n",
       "    (1): Bottleneck(\n",
       "      (conv1): Conv2d(512, 128, kernel_size=(1, 1), stride=(1, 1), bias=False)\n",
       "      (bn1): BatchNorm2d(128, eps=1e-05, momentum=0.1, affine=True, track_running_stats=True)\n",
       "      (conv2): Conv2d(128, 128, kernel_size=(3, 3), stride=(1, 1), padding=(1, 1), bias=False)\n",
       "      (bn2): BatchNorm2d(128, eps=1e-05, momentum=0.1, affine=True, track_running_stats=True)\n",
       "      (conv3): Conv2d(128, 512, kernel_size=(1, 1), stride=(1, 1), bias=False)\n",
       "      (bn3): BatchNorm2d(512, eps=1e-05, momentum=0.1, affine=True, track_running_stats=True)\n",
       "      (relu): ReLU(inplace=True)\n",
       "    )\n",
       "    (2): Bottleneck(\n",
       "      (conv1): Conv2d(512, 128, kernel_size=(1, 1), stride=(1, 1), bias=False)\n",
       "      (bn1): BatchNorm2d(128, eps=1e-05, momentum=0.1, affine=True, track_running_stats=True)\n",
       "      (conv2): Conv2d(128, 128, kernel_size=(3, 3), stride=(1, 1), padding=(1, 1), bias=False)\n",
       "      (bn2): BatchNorm2d(128, eps=1e-05, momentum=0.1, affine=True, track_running_stats=True)\n",
       "      (conv3): Conv2d(128, 512, kernel_size=(1, 1), stride=(1, 1), bias=False)\n",
       "      (bn3): BatchNorm2d(512, eps=1e-05, momentum=0.1, affine=True, track_running_stats=True)\n",
       "      (relu): ReLU(inplace=True)\n",
       "    )\n",
       "    (3): Bottleneck(\n",
       "      (conv1): Conv2d(512, 128, kernel_size=(1, 1), stride=(1, 1), bias=False)\n",
       "      (bn1): BatchNorm2d(128, eps=1e-05, momentum=0.1, affine=True, track_running_stats=True)\n",
       "      (conv2): Conv2d(128, 128, kernel_size=(3, 3), stride=(1, 1), padding=(1, 1), bias=False)\n",
       "      (bn2): BatchNorm2d(128, eps=1e-05, momentum=0.1, affine=True, track_running_stats=True)\n",
       "      (conv3): Conv2d(128, 512, kernel_size=(1, 1), stride=(1, 1), bias=False)\n",
       "      (bn3): BatchNorm2d(512, eps=1e-05, momentum=0.1, affine=True, track_running_stats=True)\n",
       "      (relu): ReLU(inplace=True)\n",
       "    )\n",
       "  )\n",
       "  (layer3): Sequential(\n",
       "    (0): Bottleneck(\n",
       "      (conv1): Conv2d(512, 256, kernel_size=(1, 1), stride=(1, 1), bias=False)\n",
       "      (bn1): BatchNorm2d(256, eps=1e-05, momentum=0.1, affine=True, track_running_stats=True)\n",
       "      (conv2): Conv2d(256, 256, kernel_size=(3, 3), stride=(2, 2), padding=(1, 1), bias=False)\n",
       "      (bn2): BatchNorm2d(256, eps=1e-05, momentum=0.1, affine=True, track_running_stats=True)\n",
       "      (conv3): Conv2d(256, 1024, kernel_size=(1, 1), stride=(1, 1), bias=False)\n",
       "      (bn3): BatchNorm2d(1024, eps=1e-05, momentum=0.1, affine=True, track_running_stats=True)\n",
       "      (relu): ReLU(inplace=True)\n",
       "      (downsample): Sequential(\n",
       "        (0): Conv2d(512, 1024, kernel_size=(1, 1), stride=(2, 2), bias=False)\n",
       "        (1): BatchNorm2d(1024, eps=1e-05, momentum=0.1, affine=True, track_running_stats=True)\n",
       "      )\n",
       "    )\n",
       "    (1): Bottleneck(\n",
       "      (conv1): Conv2d(1024, 256, kernel_size=(1, 1), stride=(1, 1), bias=False)\n",
       "      (bn1): BatchNorm2d(256, eps=1e-05, momentum=0.1, affine=True, track_running_stats=True)\n",
       "      (conv2): Conv2d(256, 256, kernel_size=(3, 3), stride=(1, 1), padding=(1, 1), bias=False)\n",
       "      (bn2): BatchNorm2d(256, eps=1e-05, momentum=0.1, affine=True, track_running_stats=True)\n",
       "      (conv3): Conv2d(256, 1024, kernel_size=(1, 1), stride=(1, 1), bias=False)\n",
       "      (bn3): BatchNorm2d(1024, eps=1e-05, momentum=0.1, affine=True, track_running_stats=True)\n",
       "      (relu): ReLU(inplace=True)\n",
       "    )\n",
       "    (2): Bottleneck(\n",
       "      (conv1): Conv2d(1024, 256, kernel_size=(1, 1), stride=(1, 1), bias=False)\n",
       "      (bn1): BatchNorm2d(256, eps=1e-05, momentum=0.1, affine=True, track_running_stats=True)\n",
       "      (conv2): Conv2d(256, 256, kernel_size=(3, 3), stride=(1, 1), padding=(1, 1), bias=False)\n",
       "      (bn2): BatchNorm2d(256, eps=1e-05, momentum=0.1, affine=True, track_running_stats=True)\n",
       "      (conv3): Conv2d(256, 1024, kernel_size=(1, 1), stride=(1, 1), bias=False)\n",
       "      (bn3): BatchNorm2d(1024, eps=1e-05, momentum=0.1, affine=True, track_running_stats=True)\n",
       "      (relu): ReLU(inplace=True)\n",
       "    )\n",
       "    (3): Bottleneck(\n",
       "      (conv1): Conv2d(1024, 256, kernel_size=(1, 1), stride=(1, 1), bias=False)\n",
       "      (bn1): BatchNorm2d(256, eps=1e-05, momentum=0.1, affine=True, track_running_stats=True)\n",
       "      (conv2): Conv2d(256, 256, kernel_size=(3, 3), stride=(1, 1), padding=(1, 1), bias=False)\n",
       "      (bn2): BatchNorm2d(256, eps=1e-05, momentum=0.1, affine=True, track_running_stats=True)\n",
       "      (conv3): Conv2d(256, 1024, kernel_size=(1, 1), stride=(1, 1), bias=False)\n",
       "      (bn3): BatchNorm2d(1024, eps=1e-05, momentum=0.1, affine=True, track_running_stats=True)\n",
       "      (relu): ReLU(inplace=True)\n",
       "    )\n",
       "    (4): Bottleneck(\n",
       "      (conv1): Conv2d(1024, 256, kernel_size=(1, 1), stride=(1, 1), bias=False)\n",
       "      (bn1): BatchNorm2d(256, eps=1e-05, momentum=0.1, affine=True, track_running_stats=True)\n",
       "      (conv2): Conv2d(256, 256, kernel_size=(3, 3), stride=(1, 1), padding=(1, 1), bias=False)\n",
       "      (bn2): BatchNorm2d(256, eps=1e-05, momentum=0.1, affine=True, track_running_stats=True)\n",
       "      (conv3): Conv2d(256, 1024, kernel_size=(1, 1), stride=(1, 1), bias=False)\n",
       "      (bn3): BatchNorm2d(1024, eps=1e-05, momentum=0.1, affine=True, track_running_stats=True)\n",
       "      (relu): ReLU(inplace=True)\n",
       "    )\n",
       "    (5): Bottleneck(\n",
       "      (conv1): Conv2d(1024, 256, kernel_size=(1, 1), stride=(1, 1), bias=False)\n",
       "      (bn1): BatchNorm2d(256, eps=1e-05, momentum=0.1, affine=True, track_running_stats=True)\n",
       "      (conv2): Conv2d(256, 256, kernel_size=(3, 3), stride=(1, 1), padding=(1, 1), bias=False)\n",
       "      (bn2): BatchNorm2d(256, eps=1e-05, momentum=0.1, affine=True, track_running_stats=True)\n",
       "      (conv3): Conv2d(256, 1024, kernel_size=(1, 1), stride=(1, 1), bias=False)\n",
       "      (bn3): BatchNorm2d(1024, eps=1e-05, momentum=0.1, affine=True, track_running_stats=True)\n",
       "      (relu): ReLU(inplace=True)\n",
       "    )\n",
       "  )\n",
       "  (layer4): Sequential(\n",
       "    (0): Bottleneck(\n",
       "      (conv1): Conv2d(1024, 512, kernel_size=(1, 1), stride=(1, 1), bias=False)\n",
       "      (bn1): BatchNorm2d(512, eps=1e-05, momentum=0.1, affine=True, track_running_stats=True)\n",
       "      (conv2): Conv2d(512, 512, kernel_size=(3, 3), stride=(2, 2), padding=(1, 1), bias=False)\n",
       "      (bn2): BatchNorm2d(512, eps=1e-05, momentum=0.1, affine=True, track_running_stats=True)\n",
       "      (conv3): Conv2d(512, 2048, kernel_size=(1, 1), stride=(1, 1), bias=False)\n",
       "      (bn3): BatchNorm2d(2048, eps=1e-05, momentum=0.1, affine=True, track_running_stats=True)\n",
       "      (relu): ReLU(inplace=True)\n",
       "      (downsample): Sequential(\n",
       "        (0): Conv2d(1024, 2048, kernel_size=(1, 1), stride=(2, 2), bias=False)\n",
       "        (1): BatchNorm2d(2048, eps=1e-05, momentum=0.1, affine=True, track_running_stats=True)\n",
       "      )\n",
       "    )\n",
       "    (1): Bottleneck(\n",
       "      (conv1): Conv2d(2048, 512, kernel_size=(1, 1), stride=(1, 1), bias=False)\n",
       "      (bn1): BatchNorm2d(512, eps=1e-05, momentum=0.1, affine=True, track_running_stats=True)\n",
       "      (conv2): Conv2d(512, 512, kernel_size=(3, 3), stride=(1, 1), padding=(1, 1), bias=False)\n",
       "      (bn2): BatchNorm2d(512, eps=1e-05, momentum=0.1, affine=True, track_running_stats=True)\n",
       "      (conv3): Conv2d(512, 2048, kernel_size=(1, 1), stride=(1, 1), bias=False)\n",
       "      (bn3): BatchNorm2d(2048, eps=1e-05, momentum=0.1, affine=True, track_running_stats=True)\n",
       "      (relu): ReLU(inplace=True)\n",
       "    )\n",
       "    (2): Bottleneck(\n",
       "      (conv1): Conv2d(2048, 512, kernel_size=(1, 1), stride=(1, 1), bias=False)\n",
       "      (bn1): BatchNorm2d(512, eps=1e-05, momentum=0.1, affine=True, track_running_stats=True)\n",
       "      (conv2): Conv2d(512, 512, kernel_size=(3, 3), stride=(1, 1), padding=(1, 1), bias=False)\n",
       "      (bn2): BatchNorm2d(512, eps=1e-05, momentum=0.1, affine=True, track_running_stats=True)\n",
       "      (conv3): Conv2d(512, 2048, kernel_size=(1, 1), stride=(1, 1), bias=False)\n",
       "      (bn3): BatchNorm2d(2048, eps=1e-05, momentum=0.1, affine=True, track_running_stats=True)\n",
       "      (relu): ReLU(inplace=True)\n",
       "    )\n",
       "  )\n",
       "  (avgpool): AdaptiveAvgPool2d(output_size=(1, 1))\n",
       "  (fc): Linear(in_features=2048, out_features=1000, bias=True)\n",
       ")"
      ]
     },
     "execution_count": 3,
     "metadata": {},
     "output_type": "execute_result"
    }
   ],
   "source": [
    "model = torchvision.models.resnet50(pretrained=True)\n",
    "model.train(False)"
   ]
  },
  {
   "cell_type": "markdown",
   "metadata": {},
   "source": [
    "## Transfer learning"
   ]
  },
  {
   "cell_type": "markdown",
   "metadata": {},
   "source": [
    "### Как достать признаки?\n",
    "\n",
    "- переопределить последний слой так, чтобы он ничего не делал (неплохой вариант, но что, если нужны признаки из внутрненнего слоя?)\n",
    "- написать хук, который будет возвращать признаки (хороший вариант)\n",
    "- покромсать сетку и делать forward pass только для тех слоев, которые нужны (плохой вариант)\n"
   ]
  },
  {
   "cell_type": "markdown",
   "metadata": {},
   "source": [
    "#### Способ 1. Переопределить последний слой\n",
    "\n",
    "***ВНИМАНИЕ 1:*** Серьезная проблема `torchvision` - отсутствие единого интерфейса у моделей. В каждой реализации слои имеют разные имена и при единовременной работе с разными моделями приходится писать обвязку из условий. Если использовать реализации других архитектур, то ситуация только ухудшается\n",
    "\n",
    "***ВНИМАНИЕ 2:*** В отличие от **Keras**, в **PyTorch** не принято делать последним слоем активацию. Нужная функция применяется при написании train / inference кода"
   ]
  },
  {
   "cell_type": "code",
   "execution_count": 4,
   "metadata": {},
   "outputs": [],
   "source": [
    "model = torchvision.models.resnet50(pretrained=True)\n",
    "features_model = deepcopy(model)\n",
    "\n",
    "features_model.fc = nn.Identity()\n",
    "\n",
    "dummy_x = torch.randn(1, 3, 224, 224)\n",
    "features = features_model(dummy_x)\n",
    "features_shape = features.data.numpy().shape\n",
    "assert features_shape == (1, 2048), 'expected (1, 2048), but real is {}'.format(features_shape)"
   ]
  },
  {
   "cell_type": "markdown",
   "metadata": {},
   "source": [
    "#### Способ 2. Forward hook"
   ]
  },
  {
   "cell_type": "code",
   "execution_count": 5,
   "metadata": {},
   "outputs": [],
   "source": [
    "avgpool_features = None\n",
    "\n",
    "def get_features(module, inputs, output):\n",
    "    global avgpool_features   \n",
    "    avgpool_features = np.squeeze(output.data.cpu().numpy(), axis=(2, 3))\n",
    "\n",
    "model = torchvision.models.resnet50(pretrained=True)\n",
    "model.avgpool.register_forward_hook(get_features)\n",
    "\n",
    "dummy_x = torch.randn(1, 3, 224, 224)\n",
    "model(dummy_x)\n",
    "\n",
    "assert avgpool_features.shape == (1, 2048), 'expected (1, 2048), but real is {}'.format(avgpool_features.shape)"
   ]
  },
  {
   "cell_type": "markdown",
   "metadata": {},
   "source": [
    "### Обучение на признаках\n",
    "\n",
    "Обучим обычный sklearn-классификатор, которому на вход подадим признаки из нейросети\n",
    "\n",
    "В качестве датасета будем использовать данные конкурса https://www.kaggle.com/c/dogs-vs-cats/data, https://www.tensorflow.org/datasets/catalog/cats_vs_dogs\n",
    "\n",
    "Датасет содержит 25000 изображений кошек и собак, по 12500 каждого класса. Задача: определить, к какому классу относится конкретное изображение\n",
    "\n",
    "Для определения качества моделей будем использовать метрику ROC-AUC"
   ]
  },
  {
   "cell_type": "markdown",
   "metadata": {},
   "source": [
    "Скачаем и подготовим данные. Выделим 30% на валидацию"
   ]
  },
  {
   "cell_type": "code",
   "execution_count": 8,
   "metadata": {},
   "outputs": [
    {
     "name": "stdout",
     "output_type": "stream",
     "text": [
      "File ‘kagglecatsanddogs_3367a.zip’ already there; not retrieving.\n",
      "\n",
      "Archive:  kagglecatsanddogs_3367a.zip\n"
     ]
    }
   ],
   "source": [
    "!wget -nc https://download.microsoft.com/download/3/E/1/3E1C3F21-ECDB-4869-8368-6DEBA77B919F/kagglecatsanddogs_3367a.zip\n",
    "!unzip -f kagglecatsanddogs_3367a.zip"
   ]
  },
  {
   "cell_type": "code",
   "execution_count": 9,
   "metadata": {},
   "outputs": [],
   "source": [
    "data_path = Path('PetImages')\n",
    "cat_fnames = [str(p) for p in (data_path / 'Cat').glob('*.jpg')][:1000]\n",
    "dog_fnames = [str(p) for p in (data_path / 'Dog').glob('*.jpg')][:1000]\n",
    "all_names = cat_fnames + dog_fnames\n",
    "labels = np.array([0] * len(cat_fnames) + [1] * len(dog_fnames))\n",
    "\n",
    "train_fnames, val_fnames, y_train, y_val = train_test_split(\n",
    "    all_names, labels, test_size=0.3,\n",
    "    random_state=42, shuffle=True, stratify=labels,\n",
    ")"
   ]
  },
  {
   "cell_type": "markdown",
   "metadata": {},
   "source": [
    "В **PyTorch** можно удобно работать с данными с помощью классов `Dataset` и `DataLoader`\n",
    "\n",
    "Напишем свой датасет для расчет признаков изображений"
   ]
  },
  {
   "cell_type": "code",
   "execution_count": 10,
   "metadata": {},
   "outputs": [],
   "source": [
    "class FeaturesDataset(torch.utils.data.Dataset):\n",
    "    def __init__(self, fnames, shape):\n",
    "        self._fnames = fnames\n",
    "        self._transform = torchvision.transforms.Compose([\n",
    "            \n",
    "            torchvision.transforms.Resize(shape),\n",
    "            torchvision.transforms.ToTensor(),\n",
    "            torchvision.transforms.Normalize([0.485, 0.456, 0.406], [0.229, 0.224, 0.225])\n",
    "        ])\n",
    "\n",
    "    def __getitem__(self, index):\n",
    "        fname = self._fnames[index]\n",
    "        img = Image.open(fname).convert('RGB')\n",
    "        img = self._transform(img)\n",
    "\n",
    "        return img\n",
    "\n",
    "    def __len__(self):\n",
    "        return len(self._fnames)"
   ]
  },
  {
   "cell_type": "markdown",
   "metadata": {},
   "source": [
    "Теперь нужно как-то рассчитать признаки.\n",
    "\n",
    "Воспользуемся способом с хуком, но чтобы обойтись без глобальной переменной реализуем класс `FeatureExtractor`"
   ]
  },
  {
   "cell_type": "code",
   "execution_count": 11,
   "metadata": {},
   "outputs": [],
   "source": [
    "class FeatureExtractor:\n",
    "    def __init__(self, model, device='cuda'):\n",
    "        self._model = model\n",
    "        self._avgpool_features = None\n",
    "        self._device = device\n",
    "        self._model.avgpool.register_forward_hook(self._get_features)\n",
    "\n",
    "    def get_dataset_features(self, loader):\n",
    "        self._model.eval().to(self._device)\n",
    "        features = []\n",
    "        with tqdm.tqdm(loader) as pbar:\n",
    "            for sample in pbar:\n",
    "                _ = self._model(sample.to(self._device))\n",
    "                features.append(self._avgpool_features)\n",
    "\n",
    "        return np.concatenate(features)\n",
    "\n",
    "    def _get_features(self, module, inputs, output):\n",
    "        self._avgpool_features = np.squeeze(output.data.cpu().numpy(), axis=(2, 3))"
   ]
  },
  {
   "cell_type": "code",
   "execution_count": 12,
   "metadata": {},
   "outputs": [
    {
     "name": "stderr",
     "output_type": "stream",
     "text": [
      "100%|██████████| 175/175 [00:16<00:00, 10.37it/s]\n",
      "100%|██████████| 75/75 [00:05<00:00, 12.78it/s]\n"
     ]
    }
   ],
   "source": [
    "model = torchvision.models.resnet50(pretrained=True)\n",
    "\n",
    "batch_size = 8\n",
    "num_workers = 0\n",
    "shape = (224, 224)\n",
    "\n",
    "train_dataset = FeaturesDataset(train_fnames, shape)\n",
    "train_loader = torch.utils.data.DataLoader(train_dataset, batch_size, shuffle=False, num_workers=num_workers)\n",
    "\n",
    "val_dataset = FeaturesDataset(val_fnames, shape)\n",
    "val_loader = torch.utils.data.DataLoader(val_dataset, batch_size, shuffle=False, num_workers=num_workers)\n",
    "\n",
    "extractor = FeatureExtractor(model, device='cuda')\n",
    "\n",
    "train_features = extractor.get_dataset_features(train_loader)\n",
    "val_features = extractor.get_dataset_features(val_loader)"
   ]
  },
  {
   "cell_type": "markdown",
   "metadata": {},
   "source": [
    "Теперь можно взять любой из известных классификаторов и подать найденные признаки на вход\n",
    "\n",
    "Должен получитсься очень хороший ROC-AUC"
   ]
  },
  {
   "cell_type": "code",
   "execution_count": 13,
   "metadata": {},
   "outputs": [],
   "source": [
    "def plot_roc_auc(y_val, y_pred, model_name):\n",
    "    auc = roc_auc_score(y_val, y_pred)\n",
    "    plt.plot(*roc_curve(y_val, y_pred)[:2], label='{} AUC={:.4f}'.format(model_name, auc))\n",
    "\n",
    "    plt.plot([0, 1], [0, 1], '--', color='black')\n",
    "    plt.legend(fontsize='large')\n",
    "    plt.grid()"
   ]
  },
  {
   "cell_type": "code",
   "execution_count": 14,
   "metadata": {},
   "outputs": [
    {
     "data": {
      "text/plain": [
       "RandomForestClassifier(random_state=42)"
      ]
     },
     "execution_count": 14,
     "metadata": {},
     "output_type": "execute_result"
    }
   ],
   "source": [
    "clf = RandomForestClassifier(random_state=42)\n",
    "clf.fit(train_features, y_train)"
   ]
  },
  {
   "cell_type": "code",
   "execution_count": 15,
   "metadata": {},
   "outputs": [],
   "source": [
    "y_pred = clf.predict_proba(val_features)[:, 1]"
   ]
  },
  {
   "cell_type": "code",
   "execution_count": 16,
   "metadata": {},
   "outputs": [
    {
     "data": {
      "image/png": "[encoded data removed]",
      "text/plain": [
       "<Figure size 432x288 with 1 Axes>"
      ]
     },
     "metadata": {
      "needs_background": "light"
     },
     "output_type": "display_data"
    }
   ],
   "source": [
    "plot_roc_auc(y_val, y_pred, model_name='RF')"
   ]
  },
  {
   "cell_type": "markdown",
   "metadata": {},
   "source": [
    "### Fine-tuning"
   ]
  },
  {
   "cell_type": "markdown",
   "metadata": {},
   "source": [
    "Попробуем добиться лучшего качества модели путем ее дообучения"
   ]
  },
  {
   "cell_type": "code",
   "execution_count": 17,
   "metadata": {},
   "outputs": [],
   "source": [
    "class ResnetFinetune(nn.Module):\n",
    "    def __init__(self):\n",
    "        super(ResnetFinetune, self).__init__()\n",
    "        self.net = torchvision.models.resnet50(pretrained=True)\n",
    "        self.net.fc = nn.Sequential(\n",
    "            nn.Linear(self.net.fc.in_features, 256),\n",
    "            nn.ReLU(inplace=True),\n",
    "            nn.Dropout(p=0.2),\n",
    "            nn.Linear(256, 1)\n",
    "        )\n",
    "\n",
    "    def fresh_parameters(self):\n",
    "        return self.net.fc.parameters()\n",
    "\n",
    "    def forward(self, x):\n",
    "        return self.net(x)"
   ]
  },
  {
   "cell_type": "code",
   "execution_count": 18,
   "metadata": {},
   "outputs": [],
   "source": [
    "class CatsDogsDataset(torch.utils.data.Dataset):\n",
    "    def __init__(self, fnames, labels, shape):\n",
    "        self._fnames = fnames\n",
    "        self._labels = labels\n",
    "        self._shape = shape\n",
    "        self._transform = torchvision.transforms.Compose([\n",
    "            \n",
    "            torchvision.transforms.Resize(shape),\n",
    "            torchvision.transforms.ToTensor(),\n",
    "            torchvision.transforms.Normalize([0.485, 0.456, 0.406], [0.229, 0.224, 0.225])\n",
    "        ])\n",
    "\n",
    "    def __getitem__(self, index):\n",
    "        fname = self._fnames[index]\n",
    "        img = Image.open(fname).convert('RGB')\n",
    "        img = self._transform(img)\n",
    "\n",
    "        return img, self._labels[index]\n",
    "\n",
    "    def __len__(self):\n",
    "        return len(self._fnames)"
   ]
  },
  {
   "cell_type": "code",
   "execution_count": 19,
   "metadata": {},
   "outputs": [],
   "source": [
    "def calculate_correct(y_true, y_pred):\n",
    "    correct = (y_true == y_pred).squeeze()\n",
    "\n",
    "    return correct.sum()"
   ]
  },
  {
   "cell_type": "code",
   "execution_count": 20,
   "metadata": {},
   "outputs": [],
   "source": [
    "class Trainer:    \n",
    "    def __init__(self, model, criterion, config, device='cuda'):\n",
    "        self._model = model\n",
    "        self._device = device\n",
    "        self._criterion = criterion\n",
    "        self._epochs = config['epochs']\n",
    "\n",
    "        if config['only_top']:\n",
    "            self._optimizer = torch.optim.Adam(self._model.fresh_parameters(), lr=config['lr'])\n",
    "        else:\n",
    "            self._optimizer = torch.optim.Adam(self._model.parameters(), lr=config['lr'])        \n",
    "\n",
    "        self._model.to(self._device)\n",
    "\n",
    "    def fit(self, train_loader, val_loader):\n",
    "        for epoch in range(self._epochs):\n",
    "            self._model.train()\n",
    "            train_loss, train_accuracy = self._run_epoch(epoch, train_loader, is_training=True)\n",
    "            print('Train. loss: {}, accuracy: {}'.format(train_loss, train_accuracy))\n",
    "            \n",
    "            self._model.eval()\n",
    "            val_loss, val_accuracy = self._run_epoch(epoch, val_loader, is_training=False)\n",
    "            print('Validation. loss: {}, accuracy: {}'.format(val_loss, val_accuracy))\n",
    "\n",
    "    def _run_epoch(self, epoch, loader, is_training):\n",
    "        loss = 0\n",
    "        correct = 0\n",
    "        if is_training:\n",
    "            pbar = tqdm.tqdm(enumerate(loader), total=len(loader), desc='Epoch {}'.format(epoch), ncols=0)\n",
    "        else:\n",
    "            pbar = tqdm.tqdm(enumerate(loader), total=len(loader), desc='Val', ncols=0)\n",
    "        \n",
    "        for i, data in pbar:\n",
    "            batch_loss, batch_correct = self._step(data, is_training)\n",
    "            loss += batch_loss\n",
    "            correct += batch_correct\n",
    "        \n",
    "        pbar.close()\n",
    "        loss /= len(loader)\n",
    "        accuracy = correct / len(loader.dataset)\n",
    "\n",
    "        return loss, accuracy\n",
    "    \n",
    "    def _step(self, data, is_training=True):\n",
    "        images = data[0].to(self._device)\n",
    "        y_true = data[1].to(self._device)\n",
    "\n",
    "        if is_training:\n",
    "            self._optimizer.zero_grad()\n",
    "\n",
    "        with torch.set_grad_enabled(is_training):\n",
    "            y_pred = self._model(images)\n",
    "            y_pred = y_pred.squeeze()\n",
    "            loss = self._criterion(y_pred, y_true.float())\n",
    "\n",
    "            if is_training:\n",
    "                loss.backward()\n",
    "                self._optimizer.step()\n",
    "            \n",
    "        probas = torch.sigmoid(y_pred)\n",
    "        labels = (probas > 0.5).int()\n",
    "        correct = calculate_correct(y_true=y_true, y_pred=labels)\n",
    "\n",
    "        return loss.item(), correct.item()"
   ]
  },
  {
   "cell_type": "markdown",
   "metadata": {},
   "source": [
    "Сначала будем учить только добавленные нами слои"
   ]
  },
  {
   "cell_type": "code",
   "execution_count": 21,
   "metadata": {},
   "outputs": [],
   "source": [
    "model = ResnetFinetune()"
   ]
  },
  {
   "cell_type": "code",
   "execution_count": 22,
   "metadata": {},
   "outputs": [],
   "source": [
    "batch_size = 8\n",
    "num_workers = 16\n",
    "shape = (224, 224)\n",
    "\n",
    "train_dataset = CatsDogsDataset(train_fnames, y_train, shape)\n",
    "train_loader = torch.utils.data.DataLoader(train_dataset, batch_size, shuffle=True, num_workers=num_workers)\n",
    "\n",
    "val_dataset = CatsDogsDataset(val_fnames, y_val, shape)\n",
    "val_loader = torch.utils.data.DataLoader(val_dataset, batch_size, shuffle=False, num_workers=num_workers)"
   ]
  },
  {
   "cell_type": "code",
   "execution_count": 23,
   "metadata": {
    "scrolled": true
   },
   "outputs": [
    {
     "name": "stderr",
     "output_type": "stream",
     "text": [
      "Epoch 0: 100% 175/175 [00:17<00:00,  9.99it/s]"
     ]
    },
    {
     "name": "stdout",
     "output_type": "stream",
     "text": [
      "Train. loss: 0.24778537273939166, accuracy: 0.9021428571428571\n"
     ]
    },
    {
     "name": "stderr",
     "output_type": "stream",
     "text": [
      "\n",
      "Val: 100% 75/75 [00:03<00:00, 20.65it/s]"
     ]
    },
    {
     "name": "stdout",
     "output_type": "stream",
     "text": [
      "Validation. loss: 0.07164867898449302, accuracy: 0.965\n"
     ]
    },
    {
     "name": "stderr",
     "output_type": "stream",
     "text": [
      "\n",
      "Epoch 1: 100% 175/175 [00:15<00:00, 11.34it/s]"
     ]
    },
    {
     "name": "stdout",
     "output_type": "stream",
     "text": [
      "Train. loss: 0.22794825091958046, accuracy: 0.915\n"
     ]
    },
    {
     "name": "stderr",
     "output_type": "stream",
     "text": [
      "\n",
      "Val: 100% 75/75 [00:03<00:00, 22.67it/s]"
     ]
    },
    {
     "name": "stdout",
     "output_type": "stream",
     "text": [
      "Validation. loss: 0.06944021385783951, accuracy: 0.9683333333333334\n"
     ]
    },
    {
     "name": "stderr",
     "output_type": "stream",
     "text": [
      "\n",
      "Epoch 2: 100% 175/175 [00:16<00:00, 10.59it/s]"
     ]
    },
    {
     "name": "stdout",
     "output_type": "stream",
     "text": [
      "Train. loss: 0.14804290534529302, accuracy: 0.9357142857142857\n"
     ]
    },
    {
     "name": "stderr",
     "output_type": "stream",
     "text": [
      "\n",
      "Val: 100% 75/75 [00:03<00:00, 24.62it/s]"
     ]
    },
    {
     "name": "stdout",
     "output_type": "stream",
     "text": [
      "Validation. loss: 0.061137053314596415, accuracy: 0.98\n"
     ]
    },
    {
     "name": "stderr",
     "output_type": "stream",
     "text": [
      "\n",
      "Epoch 3: 100% 175/175 [00:16<00:00, 10.54it/s]"
     ]
    },
    {
     "name": "stdout",
     "output_type": "stream",
     "text": [
      "Train. loss: 0.19095617460219988, accuracy: 0.9214285714285714\n"
     ]
    },
    {
     "name": "stderr",
     "output_type": "stream",
     "text": [
      "\n",
      "Val: 100% 75/75 [00:03<00:00, 22.04it/s]"
     ]
    },
    {
     "name": "stdout",
     "output_type": "stream",
     "text": [
      "Validation. loss: 0.11780826086178423, accuracy: 0.9416666666666667\n"
     ]
    },
    {
     "name": "stderr",
     "output_type": "stream",
     "text": [
      "\n",
      "Epoch 4: 100% 175/175 [00:17<00:00, 10.27it/s]"
     ]
    },
    {
     "name": "stdout",
     "output_type": "stream",
     "text": [
      "Train. loss: 0.17596098390540907, accuracy: 0.9328571428571428\n"
     ]
    },
    {
     "name": "stderr",
     "output_type": "stream",
     "text": [
      "\n",
      "Val: 100% 75/75 [00:03<00:00, 19.01it/s]"
     ]
    },
    {
     "name": "stdout",
     "output_type": "stream",
     "text": [
      "Validation. loss: 0.060930774739633, accuracy: 0.98\n"
     ]
    },
    {
     "name": "stderr",
     "output_type": "stream",
     "text": [
      "\n",
      "Epoch 5: 100% 175/175 [00:17<00:00, 10.12it/s]"
     ]
    },
    {
     "name": "stdout",
     "output_type": "stream",
     "text": [
      "Train. loss: 0.18434089341333934, accuracy: 0.9335714285714286\n"
     ]
    },
    {
     "name": "stderr",
     "output_type": "stream",
     "text": [
      "\n",
      "Val: 100% 75/75 [00:03<00:00, 19.60it/s]"
     ]
    },
    {
     "name": "stdout",
     "output_type": "stream",
     "text": [
      "Validation. loss: 0.054271285771392286, accuracy: 0.9833333333333333\n"
     ]
    },
    {
     "name": "stderr",
     "output_type": "stream",
     "text": [
      "\n",
      "Epoch 6: 100% 175/175 [00:16<00:00, 10.47it/s]"
     ]
    },
    {
     "name": "stdout",
     "output_type": "stream",
     "text": [
      "Train. loss: 0.12059623373406274, accuracy: 0.9535714285714286\n"
     ]
    },
    {
     "name": "stderr",
     "output_type": "stream",
     "text": [
      "\n",
      "Val: 100% 75/75 [00:03<00:00, 21.66it/s]"
     ]
    },
    {
     "name": "stdout",
     "output_type": "stream",
     "text": [
      "Validation. loss: 0.04924239155836403, accuracy: 0.985\n"
     ]
    },
    {
     "name": "stderr",
     "output_type": "stream",
     "text": [
      "\n",
      "Epoch 7: 100% 175/175 [00:08<00:00, 21.56it/s]"
     ]
    },
    {
     "name": "stdout",
     "output_type": "stream",
     "text": [
      "Train. loss: 0.14417325918695756, accuracy: 0.9442857142857143\n"
     ]
    },
    {
     "name": "stderr",
     "output_type": "stream",
     "text": [
      "\n",
      "Val: 100% 75/75 [00:01<00:00, 58.62it/s]"
     ]
    },
    {
     "name": "stdout",
     "output_type": "stream",
     "text": [
      "Validation. loss: 0.053371913465671245, accuracy: 0.975\n"
     ]
    },
    {
     "name": "stderr",
     "output_type": "stream",
     "text": [
      "\n",
      "Epoch 8: 100% 175/175 [00:09<00:00, 19.02it/s]"
     ]
    },
    {
     "name": "stdout",
     "output_type": "stream",
     "text": [
      "Train. loss: 0.1433140024988513, accuracy: 0.9414285714285714\n"
     ]
    },
    {
     "name": "stderr",
     "output_type": "stream",
     "text": [
      "\n",
      "Val: 100% 75/75 [00:01<00:00, 41.47it/s]"
     ]
    },
    {
     "name": "stdout",
     "output_type": "stream",
     "text": [
      "Validation. loss: 0.05723620865494013, accuracy: 0.9816666666666667\n"
     ]
    },
    {
     "name": "stderr",
     "output_type": "stream",
     "text": [
      "\n",
      "Epoch 9: 100% 175/175 [00:06<00:00, 27.08it/s]"
     ]
    },
    {
     "name": "stdout",
     "output_type": "stream",
     "text": [
      "Train. loss: 0.1121165022054421, accuracy: 0.9528571428571428\n"
     ]
    },
    {
     "name": "stderr",
     "output_type": "stream",
     "text": [
      "\n",
      "Val: 100% 75/75 [00:01<00:00, 61.11it/s]"
     ]
    },
    {
     "name": "stdout",
     "output_type": "stream",
     "text": [
      "Validation. loss: 0.09300291570369154, accuracy: 0.9683333333333334\n"
     ]
    },
    {
     "name": "stderr",
     "output_type": "stream",
     "text": [
      "\n"
     ]
    }
   ],
   "source": [
    "config = {\n",
    "    'lr': 1e-3,\n",
    "    'epochs': 10,\n",
    "    'only_top': True\n",
    "}\n",
    "\n",
    "trainer = Trainer(model, nn.BCEWithLogitsLoss(), config, device='cuda')\n",
    "trainer.fit(train_loader, val_loader)"
   ]
  },
  {
   "cell_type": "code",
   "execution_count": 24,
   "metadata": {},
   "outputs": [],
   "source": [
    "class Evaluator:    \n",
    "    def __init__(self, model, device='cuda'):\n",
    "        self._model = model\n",
    "        self._device = device\n",
    "\n",
    "    def predict(self, loader):\n",
    "        y_pred = []\n",
    "        self._model.eval().to(self._device)\n",
    "        \n",
    "        with tqdm.tqdm(enumerate(loader), total=len(loader)) as pbar:\n",
    "            for i, data in pbar:\n",
    "                batch_pred = self._step(data)\n",
    "                y_pred.append(batch_pred)\n",
    "        \n",
    "        return np.concatenate(y_pred)\n",
    "    \n",
    "    def _step(self, data, is_training=True):\n",
    "        images = data[0].to(self._device)\n",
    "\n",
    "        with torch.no_grad():\n",
    "            y_pred = self._model(images)\n",
    "        \n",
    "        y_pred = y_pred.squeeze()\n",
    "        y_pred = torch.sigmoid(y_pred)\n",
    "\n",
    "        return y_pred.cpu().data.numpy()"
   ]
  },
  {
   "cell_type": "code",
   "execution_count": 25,
   "metadata": {},
   "outputs": [
    {
     "name": "stderr",
     "output_type": "stream",
     "text": [
      "100%|██████████| 75/75 [00:01<00:00, 61.55it/s]\n"
     ]
    }
   ],
   "source": [
    "evaluator = Evaluator(model, device='cuda')\n",
    "y_pred = evaluator.predict(val_loader)"
   ]
  },
  {
   "cell_type": "code",
   "execution_count": 26,
   "metadata": {},
   "outputs": [
    {
     "data": {
      "image/png": "[encoded data removed]",
      "text/plain": [
       "<Figure size 432x288 with 1 Axes>"
      ]
     },
     "metadata": {
      "needs_background": "light"
     },
     "output_type": "display_data"
    }
   ],
   "source": [
    "plot_roc_auc(y_val, y_pred, model_name='Resnet finetuned')"
   ]
  },
  {
   "cell_type": "markdown",
   "metadata": {},
   "source": [
    "Теперь разморозим все веса и обучим несколько эпох с низким *learning rate*"
   ]
  },
  {
   "cell_type": "code",
   "execution_count": 27,
   "metadata": {
    "scrolled": true
   },
   "outputs": [
    {
     "name": "stderr",
     "output_type": "stream",
     "text": [
      "Epoch 0: 100% 175/175 [00:07<00:00, 23.29it/s]"
     ]
    },
    {
     "name": "stdout",
     "output_type": "stream",
     "text": [
      "Train. loss: 0.18902099441150702, accuracy: 0.9342857142857143\n"
     ]
    },
    {
     "name": "stderr",
     "output_type": "stream",
     "text": [
      "\n",
      "Val: 100% 75/75 [00:01<00:00, 60.92it/s]"
     ]
    },
    {
     "name": "stdout",
     "output_type": "stream",
     "text": [
      "Validation. loss: 0.07569044085170996, accuracy: 0.9683333333333334\n"
     ]
    },
    {
     "name": "stderr",
     "output_type": "stream",
     "text": [
      "\n",
      "Epoch 1: 100% 175/175 [00:07<00:00, 23.50it/s]"
     ]
    },
    {
     "name": "stdout",
     "output_type": "stream",
     "text": [
      "Train. loss: 0.08330785403418954, accuracy: 0.9735714285714285\n"
     ]
    },
    {
     "name": "stderr",
     "output_type": "stream",
     "text": [
      "\n",
      "Val: 100% 75/75 [00:01<00:00, 60.06it/s]"
     ]
    },
    {
     "name": "stdout",
     "output_type": "stream",
     "text": [
      "Validation. loss: 0.10580281167730694, accuracy: 0.9616666666666667\n"
     ]
    },
    {
     "name": "stderr",
     "output_type": "stream",
     "text": [
      "\n",
      "Epoch 2: 100% 175/175 [00:07<00:00, 23.58it/s]"
     ]
    },
    {
     "name": "stdout",
     "output_type": "stream",
     "text": [
      "Train. loss: 0.08512207465944811, accuracy: 0.97\n"
     ]
    },
    {
     "name": "stderr",
     "output_type": "stream",
     "text": [
      "\n",
      "Val: 100% 75/75 [00:01<00:00, 60.04it/s]"
     ]
    },
    {
     "name": "stdout",
     "output_type": "stream",
     "text": [
      "Validation. loss: 0.08198225962696597, accuracy: 0.9716666666666667\n"
     ]
    },
    {
     "name": "stderr",
     "output_type": "stream",
     "text": [
      "\n",
      "Epoch 3: 100% 175/175 [00:07<00:00, 23.56it/s]"
     ]
    },
    {
     "name": "stdout",
     "output_type": "stream",
     "text": [
      "Train. loss: 0.048803403805941344, accuracy: 0.9821428571428571\n"
     ]
    },
    {
     "name": "stderr",
     "output_type": "stream",
     "text": [
      "\n",
      "Val: 100% 75/75 [00:02<00:00, 37.48it/s]"
     ]
    },
    {
     "name": "stdout",
     "output_type": "stream",
     "text": [
      "Validation. loss: 0.11389998279133579, accuracy: 0.9566666666666667\n"
     ]
    },
    {
     "name": "stderr",
     "output_type": "stream",
     "text": [
      "\n",
      "Epoch 4: 100% 175/175 [00:17<00:00,  9.80it/s]"
     ]
    },
    {
     "name": "stdout",
     "output_type": "stream",
     "text": [
      "Train. loss: 0.08133836602642466, accuracy: 0.9778571428571429\n"
     ]
    },
    {
     "name": "stderr",
     "output_type": "stream",
     "text": [
      "\n",
      "Val: 100% 75/75 [00:03<00:00, 22.22it/s]"
     ]
    },
    {
     "name": "stdout",
     "output_type": "stream",
     "text": [
      "Validation. loss: 0.09400841382953028, accuracy: 0.9683333333333334\n"
     ]
    },
    {
     "name": "stderr",
     "output_type": "stream",
     "text": [
      "\n",
      "Epoch 5: 100% 175/175 [00:19<00:00,  8.95it/s]"
     ]
    },
    {
     "name": "stdout",
     "output_type": "stream",
     "text": [
      "Train. loss: 0.04701064771207582, accuracy: 0.9857142857142858\n"
     ]
    },
    {
     "name": "stderr",
     "output_type": "stream",
     "text": [
      "\n",
      "Val: 100% 75/75 [00:03<00:00, 19.12it/s]"
     ]
    },
    {
     "name": "stdout",
     "output_type": "stream",
     "text": [
      "Validation. loss: 0.0702537158979491, accuracy: 0.9816666666666667\n"
     ]
    },
    {
     "name": "stderr",
     "output_type": "stream",
     "text": [
      "\n",
      "Epoch 6: 100% 175/175 [00:20<00:00,  8.71it/s]"
     ]
    },
    {
     "name": "stdout",
     "output_type": "stream",
     "text": [
      "Train. loss: 0.025091064075906097, accuracy: 0.9914285714285714\n"
     ]
    },
    {
     "name": "stderr",
     "output_type": "stream",
     "text": [
      "\n",
      "Val: 100% 75/75 [00:02<00:00, 25.44it/s]"
     ]
    },
    {
     "name": "stdout",
     "output_type": "stream",
     "text": [
      "Validation. loss: 0.12389849128123993, accuracy: 0.95\n"
     ]
    },
    {
     "name": "stderr",
     "output_type": "stream",
     "text": [
      "\n",
      "Epoch 7: 100% 175/175 [00:18<00:00,  9.60it/s]"
     ]
    },
    {
     "name": "stdout",
     "output_type": "stream",
     "text": [
      "Train. loss: 0.020629134737246205, accuracy: 0.9921428571428571\n"
     ]
    },
    {
     "name": "stderr",
     "output_type": "stream",
     "text": [
      "\n",
      "Val: 100% 75/75 [00:03<00:00, 21.29it/s]"
     ]
    },
    {
     "name": "stdout",
     "output_type": "stream",
     "text": [
      "Validation. loss: 0.09539426567653815, accuracy: 0.97\n"
     ]
    },
    {
     "name": "stderr",
     "output_type": "stream",
     "text": [
      "\n",
      "Epoch 8: 100% 175/175 [00:20<00:00,  8.54it/s]"
     ]
    },
    {
     "name": "stdout",
     "output_type": "stream",
     "text": [
      "Train. loss: 0.02325049689430411, accuracy: 0.9928571428571429\n"
     ]
    },
    {
     "name": "stderr",
     "output_type": "stream",
     "text": [
      "\n",
      "Val: 100% 75/75 [00:02<00:00, 25.44it/s]"
     ]
    },
    {
     "name": "stdout",
     "output_type": "stream",
     "text": [
      "Validation. loss: 0.25250882597174495, accuracy: 0.9333333333333333\n"
     ]
    },
    {
     "name": "stderr",
     "output_type": "stream",
     "text": [
      "\n",
      "Epoch 9: 100% 175/175 [00:19<00:00,  9.07it/s]"
     ]
    },
    {
     "name": "stdout",
     "output_type": "stream",
     "text": [
      "Train. loss: 0.044986735980658395, accuracy: 0.9885714285714285\n"
     ]
    },
    {
     "name": "stderr",
     "output_type": "stream",
     "text": [
      "\n",
      "Val: 100% 75/75 [00:03<00:00, 22.29it/s]"
     ]
    },
    {
     "name": "stdout",
     "output_type": "stream",
     "text": [
      "Validation. loss: 0.12341284257165777, accuracy: 0.9666666666666667\n"
     ]
    },
    {
     "name": "stderr",
     "output_type": "stream",
     "text": [
      "\n"
     ]
    }
   ],
   "source": [
    "config = {\n",
    "    'lr': 1e-4,\n",
    "    'epochs': 10,\n",
    "    'only_top': False\n",
    "}\n",
    "\n",
    "trainer = Trainer(model, nn.BCEWithLogitsLoss(), config, device='cuda')\n",
    "trainer.fit(train_loader, val_loader)"
   ]
  },
  {
   "cell_type": "code",
   "execution_count": 28,
   "metadata": {},
   "outputs": [
    {
     "name": "stderr",
     "output_type": "stream",
     "text": [
      "100%|██████████| 75/75 [00:03<00:00, 21.63it/s]\n"
     ]
    }
   ],
   "source": [
    "evaluator = Evaluator(model, device='cuda')\n",
    "y_pred = evaluator.predict(val_loader)"
   ]
  },
  {
   "cell_type": "code",
   "execution_count": 29,
   "metadata": {},
   "outputs": [
    {
     "data": {
      "image/png": "[encoded data removed]",
      "text/plain": [
       "<Figure size 432x288 with 1 Axes>"
      ]
     },
     "metadata": {
      "needs_background": "light"
     },
     "output_type": "display_data"
    }
   ],
   "source": [
    "plot_roc_auc(y_val, y_pred, model_name='Resnet finetuned no freeze')"
   ]
  },
  {
   "cell_type": "markdown",
   "metadata": {},
   "source": [
    "## Пишем свою CNN"
   ]
  },
  {
   "cell_type": "markdown",
   "metadata": {},
   "source": [
    "### Типичные ошибки\n",
    "\n",
    "Рассмотрим несколько примеров архитектур в связке с функциями потерь и попробуем найти какие-то проблемы\n",
    "\n",
    "Для простоты будем использовать `nn.Sequential`\n",
    "\n",
    "#### Задача 1\n",
    "\n",
    "Предсказать стоимость автомобиля, на вход 100 признаков, описывающих автомобиль"
   ]
  },
  {
   "cell_type": "code",
   "execution_count": 30,
   "metadata": {},
   "outputs": [],
   "source": [
    "model = nn.Sequential(\n",
    "    nn.BatchNorm2d(num_features=100),\n",
    "    nn.Linear(in_features=3, out_features=256),\n",
    "    nn.Linear(in_features=256, out_features=256),\n",
    "    nn.Linear(in_features=256, out_features=1)\n",
    ")\n",
    "\n",
    "loss = nn.MSELoss()"
   ]
  },
  {
   "cell_type": "markdown",
   "metadata": {},
   "source": [
    "#### Задача 2\n",
    "\n",
    "MNIST: Распознать рукописную цифру (0-9), на вход ч/б картинка 28x28 пикселей"
   ]
  },
  {
   "cell_type": "code",
   "execution_count": 31,
   "metadata": {},
   "outputs": [],
   "source": [
    "model = nn.Sequential(\n",
    "    nn.Conv2d(in_channels=3, out_channels=512, kernel_size=(3, 3)),\n",
    "    nn.ReLU(),\n",
    "    nn.MaxPool2d((2, 2)),\n",
    "    \n",
    "    nn.Conv2d(in_channels=512, out_channels=256, kernel_size=(3, 3)),\n",
    "    nn.ReLU(),\n",
    "    nn.MaxPool2d((2, 2)),\n",
    "\n",
    "    nn.Flatten(),\n",
    "    nn.Linear(in_features=256, out_features=100),\n",
    "    nn.ReLU(),\n",
    "    nn.Dropout(0.2),\n",
    "    \n",
    "    nn.Linear(in_features=100, out_features=10),\n",
    "    nn.Sigmoid(),\n",
    "    nn.Dropout(0.1)\n",
    ")\n",
    "\n",
    "loss = nn.MSELoss()"
   ]
  },
  {
   "cell_type": "markdown",
   "metadata": {},
   "source": [
    "#### Задача 3\n",
    "\n",
    "Бинарная классификация изображений, на вход картинка RGB 100x100 пикселей"
   ]
  },
  {
   "cell_type": "code",
   "execution_count": 32,
   "metadata": {},
   "outputs": [],
   "source": [
    "model = nn.Sequential(\n",
    "    nn.Conv2d(in_channels=3, out_channels=32, kernel_size=(10, 10)),\n",
    "    nn.Softmax(),\n",
    "    nn.MaxPool2d((6, 6)),\n",
    "    nn.Conv2d(in_channels=32, out_channels=64, kernel_size=(10, 10)),\n",
    "    nn.Softmax(),\n",
    "    nn.MaxPool2d((6, 6)),\n",
    "    nn.Conv2d(in_channels=64, out_channels=128, kernel_size=(10, 10)),\n",
    "    nn.Softmax(),\n",
    "    nn.MaxPool2d((6, 6)),\n",
    "    \n",
    "    nn.Flatten(),\n",
    "    nn.Linear(in_features=128, out_features=256),\n",
    "    nn.Softmax(),\n",
    "    nn.Dropout(0.8),\n",
    "    nn.Linear(in_features=256, out_features=1)\n",
    ")\n",
    "\n",
    "loss = nn.BCEWithLogitsLoss()"
   ]
  },
  {
   "cell_type": "markdown",
   "metadata": {},
   "source": [
    "### MNIST\n",
    "\n",
    "Напишем свою сетку для решения задачи распознавания рукописных чисел\n",
    "\n",
    "Датасет содержит ч/б изображения размером 28x28 пикселей"
   ]
  },
  {
   "cell_type": "markdown",
   "metadata": {},
   "source": [
    "Также реализуем `early_stopping` и попробуем `lr_scheduler.ReduceLROnPlateau`"
   ]
  },
  {
   "cell_type": "code",
   "execution_count": 33,
   "metadata": {},
   "outputs": [],
   "source": [
    "class MNISTTrainer:    \n",
    "    def __init__(self, model, criterion, config, device='cuda'):\n",
    "        self._model = model\n",
    "        self._device = device\n",
    "        self._criterion = criterion\n",
    "        \n",
    "        self._model.to(self._device)\n",
    "        \n",
    "        self._epochs = config['epochs']\n",
    "        self._early_stopping = config['early_stopping']\n",
    "              \n",
    "        self._optimizer = torch.optim.Adam(self._model.parameters(), lr=config['lr'])\n",
    "        self._scheduler = torch.optim.lr_scheduler.ReduceLROnPlateau(\n",
    "            self._optimizer,\n",
    "            'min',\n",
    "            factor=config['lr_reduce_rate'],\n",
    "            patience=config['patience'],\n",
    "            verbose=True,\n",
    "        )\n",
    "        \n",
    "        self._best_loss = float('inf')\n",
    "        self._best_epoch = -1\n",
    "\n",
    "    def fit(self, train_loader, val_loader):\n",
    "        for epoch in range(self._epochs):\n",
    "            self._model.train()\n",
    "            train_loss, train_accuracy = self._run_epoch(epoch, train_loader, is_training=True)\n",
    "            print('Train. loss: {}, accuracy: {}'.format(train_loss, train_accuracy))\n",
    "            \n",
    "            self._model.eval()\n",
    "            val_loss, val_accuracy = self._run_epoch(epoch, val_loader, is_training=False)\n",
    "            print('Validation. loss: {}, accuracy: {}'.format(val_loss, val_accuracy))\n",
    "\n",
    "            self._scheduler.step(val_loss)\n",
    "           \n",
    "            if self._best_loss > val_loss:\n",
    "                self._best_loss = val_loss\n",
    "                self._best_epoch = epoch\n",
    "\n",
    "            if abs(self._best_epoch - epoch) > self._early_stopping:\n",
    "                print('Early stopping. Epoch {}. Best epoch: {}, best {}: {}'.format(epoch, self._best_epoch))\n",
    "                break\n",
    "    \n",
    "    def _run_epoch(self, epoch, loader, is_training):\n",
    "        loss = 0\n",
    "        correct = 0\n",
    "        if is_training:\n",
    "            pbar = tqdm.tqdm(enumerate(loader), total=len(loader), desc='Epoch {}'.format(epoch))\n",
    "        else:\n",
    "            pbar = enumerate(loader)\n",
    "        \n",
    "        for i, data in pbar:\n",
    "            batch_loss, batch_correct = self._step(data, is_training)\n",
    "            loss += batch_loss\n",
    "            correct += batch_correct\n",
    "        \n",
    "        if is_training:\n",
    "            pbar.close()\n",
    "\n",
    "        loss /= len(loader)\n",
    "        accuracy = correct / len(loader.dataset)\n",
    "\n",
    "        return loss, accuracy\n",
    "    \n",
    "    def _step(self, data, is_training=True):\n",
    "        metrics_values = {}\n",
    "        images = data[0].to(self._device)\n",
    "        y_true = data[1].to(self._device)\n",
    "\n",
    "        if is_training:\n",
    "            self._optimizer.zero_grad()\n",
    "\n",
    "        with torch.set_grad_enabled(is_training):\n",
    "            y_pred = self._model(images)\n",
    "            y_pred = y_pred.squeeze()\n",
    "            loss = self._criterion(y_pred, y_true)\n",
    "\n",
    "            if is_training:\n",
    "                loss.backward()\n",
    "                self._optimizer.step()\n",
    "            \n",
    "        probas = torch.softmax(y_pred, dim=0)\n",
    "        labels = probas.max(1)[1]\n",
    "        correct = calculate_correct(y_true=y_true, y_pred=labels)\n",
    "\n",
    "        return loss.item(), correct.item()"
   ]
  },
  {
   "cell_type": "code",
   "execution_count": 34,
   "metadata": {},
   "outputs": [],
   "source": [
    "class MNISTModel(nn.Module):\n",
    "    def __init__(self):\n",
    "        super(MNISTModel, self).__init__()\n",
    "        \n",
    "        self.relu = nn.ReLU()\n",
    "        self.max_pool = nn.MaxPool2d((2, 2))\n",
    "        self.avg_pool = nn.AdaptiveAvgPool2d((1, 1))\n",
    "        \n",
    "        self.conv1 = nn.Conv2d(in_channels=1, out_channels=32, kernel_size=(3, 3))\n",
    "        self.conv2 = nn.Conv2d(in_channels=32, out_channels=64, kernel_size=(3, 3))\n",
    "        self.conv3 = nn.Conv2d(in_channels=64, out_channels=128, kernel_size=(3, 3))\n",
    "        self.drop = nn.Dropout2d(p=0.5)\n",
    "\n",
    "        self.classifier = nn.Linear(in_features=128, out_features=10)\n",
    "        \n",
    "    def forward(self, x):\n",
    "        x = self.conv1(x)\n",
    "        x = self.relu(x)\n",
    "        x = self.max_pool(x)\n",
    "        \n",
    "        x = self.conv2(x)\n",
    "        x = self.relu(x)\n",
    "        x = self.max_pool(x)\n",
    "\n",
    "        x = self.conv3(x)\n",
    "        x = self.relu(x)\n",
    "        x = self.avg_pool(x)\n",
    "        x = x.view(x.size(0), -1)\n",
    "        x = self.drop(x)\n",
    "    \n",
    "        x = self.classifier(x)\n",
    "\n",
    "        return x"
   ]
  },
  {
   "cell_type": "code",
   "execution_count": 35,
   "metadata": {},
   "outputs": [],
   "source": [
    "model = MNISTModel()"
   ]
  },
  {
   "cell_type": "code",
   "execution_count": 38,
   "metadata": {
    "scrolled": true
   },
   "outputs": [
    {
     "name": "stdout",
     "output_type": "stream",
     "text": [
      "Downloading http://yann.lecun.com/exdb/mnist/train-images-idx3-ubyte.gz\n",
      "Downloading http://yann.lecun.com/exdb/mnist/train-images-idx3-ubyte.gz to data/MNIST/raw/train-images-idx3-ubyte.gz\n"
     ]
    },
    {
     "name": "stderr",
     "output_type": "stream",
     "text": [
      "9913344it [00:22, 449213.67it/s]                             \n"
     ]
    },
    {
     "name": "stdout",
     "output_type": "stream",
     "text": [
      "Extracting data/MNIST/raw/train-images-idx3-ubyte.gz to data/MNIST/raw\n",
      "\n",
      "Downloading http://yann.lecun.com/exdb/mnist/train-labels-idx1-ubyte.gz\n",
      "Downloading http://yann.lecun.com/exdb/mnist/train-labels-idx1-ubyte.gz to data/MNIST/raw/train-labels-idx1-ubyte.gz\n"
     ]
    },
    {
     "name": "stderr",
     "output_type": "stream",
     "text": [
      "29696it [00:00, 152991.88it/s]                         \n"
     ]
    },
    {
     "name": "stdout",
     "output_type": "stream",
     "text": [
      "Extracting data/MNIST/raw/train-labels-idx1-ubyte.gz to data/MNIST/raw\n",
      "\n",
      "Downloading http://yann.lecun.com/exdb/mnist/t10k-images-idx3-ubyte.gz\n",
      "Downloading http://yann.lecun.com/exdb/mnist/t10k-images-idx3-ubyte.gz to data/MNIST/raw/t10k-images-idx3-ubyte.gz\n"
     ]
    },
    {
     "name": "stderr",
     "output_type": "stream",
     "text": [
      "1649664it [00:03, 449096.37it/s]                             \n"
     ]
    },
    {
     "name": "stdout",
     "output_type": "stream",
     "text": [
      "Extracting data/MNIST/raw/t10k-images-idx3-ubyte.gz to data/MNIST/raw\n",
      "\n",
      "Downloading http://yann.lecun.com/exdb/mnist/t10k-labels-idx1-ubyte.gz\n",
      "Downloading http://yann.lecun.com/exdb/mnist/t10k-labels-idx1-ubyte.gz to data/MNIST/raw/t10k-labels-idx1-ubyte.gz\n"
     ]
    },
    {
     "name": "stderr",
     "output_type": "stream",
     "text": [
      "5120it [00:00, 145398.90it/s]           \n"
     ]
    },
    {
     "name": "stdout",
     "output_type": "stream",
     "text": [
      "Extracting data/MNIST/raw/t10k-labels-idx1-ubyte.gz to data/MNIST/raw\n",
      "\n"
     ]
    }
   ],
   "source": [
    "batch_size = 64\n",
    "num_workers = 0\n",
    "\n",
    "\n",
    "train_transform = torchvision.transforms.Compose([\n",
    "    torchvision.transforms.RandomRotation(degrees=(-10, 10)),\n",
    "    torchvision.transforms.ToTensor(),\n",
    "])\n",
    "\n",
    "train_dataset = torchvision.datasets.MNIST(root='data', train=True, download=True, transform=train_transform)\n",
    "train_loader = torch.utils.data.DataLoader(train_dataset, batch_size, shuffle=True, num_workers=num_workers)\n",
    "\n",
    "val_transform = torchvision.transforms.Compose([\n",
    "    torchvision.transforms.ToTensor(),\n",
    "])\n",
    "val_dataset = torchvision.datasets.MNIST(root='data', train=False, download=False, transform=val_transform)\n",
    "val_loader = torch.utils.data.DataLoader(val_dataset, batch_size, shuffle=False, num_workers=num_workers)"
   ]
  },
  {
   "cell_type": "code",
   "execution_count": 39,
   "metadata": {
    "scrolled": true
   },
   "outputs": [
    {
     "name": "stderr",
     "output_type": "stream",
     "text": [
      "Epoch 0: 100%|██████████| 938/938 [00:14<00:00, 66.44it/s]\n"
     ]
    },
    {
     "name": "stdout",
     "output_type": "stream",
     "text": [
      "Train. loss: 0.5654107260503876, accuracy: 0.6929\n",
      "Validation. loss: 0.12951385536806503, accuracy: 0.928\n"
     ]
    },
    {
     "name": "stderr",
     "output_type": "stream",
     "text": [
      "Epoch 1: 100%|██████████| 938/938 [00:11<00:00, 78.94it/s]\n"
     ]
    },
    {
     "name": "stdout",
     "output_type": "stream",
     "text": [
      "Train. loss: 0.20541971304348663, accuracy: 0.8125333333333333\n",
      "Validation. loss: 0.06578892760963481, accuracy: 0.9516\n"
     ]
    },
    {
     "name": "stderr",
     "output_type": "stream",
     "text": [
      "Epoch 2: 100%|██████████| 938/938 [00:12<00:00, 76.88it/s]\n"
     ]
    },
    {
     "name": "stdout",
     "output_type": "stream",
     "text": [
      "Train. loss: 0.155115340352813, accuracy: 0.83745\n",
      "Validation. loss: 0.055052219955495314, accuracy: 0.9575\n"
     ]
    },
    {
     "name": "stderr",
     "output_type": "stream",
     "text": [
      "Epoch 3: 100%|██████████| 938/938 [00:11<00:00, 79.20it/s]\n"
     ]
    },
    {
     "name": "stdout",
     "output_type": "stream",
     "text": [
      "Train. loss: 0.12814172511217373, accuracy: 0.85595\n",
      "Validation. loss: 0.048204503620616575, accuracy: 0.9662\n"
     ]
    },
    {
     "name": "stderr",
     "output_type": "stream",
     "text": [
      "Epoch 4: 100%|██████████| 938/938 [00:17<00:00, 54.28it/s]\n"
     ]
    },
    {
     "name": "stdout",
     "output_type": "stream",
     "text": [
      "Train. loss: 0.10926461348762867, accuracy: 0.8623833333333333\n",
      "Validation. loss: 0.04156194742449046, accuracy: 0.9644\n"
     ]
    },
    {
     "name": "stderr",
     "output_type": "stream",
     "text": [
      "Epoch 5: 100%|██████████| 938/938 [00:23<00:00, 40.63it/s]\n"
     ]
    },
    {
     "name": "stdout",
     "output_type": "stream",
     "text": [
      "Train. loss: 0.09724246522437519, accuracy: 0.8686666666666667\n",
      "Validation. loss: 0.03334266416550815, accuracy: 0.969\n"
     ]
    },
    {
     "name": "stderr",
     "output_type": "stream",
     "text": [
      "Epoch 6: 100%|██████████| 938/938 [00:25<00:00, 36.55it/s]\n"
     ]
    },
    {
     "name": "stdout",
     "output_type": "stream",
     "text": [
      "Train. loss: 0.08792565622752203, accuracy: 0.8802666666666666\n",
      "Validation. loss: 0.03420238669708284, accuracy: 0.9739\n"
     ]
    },
    {
     "name": "stderr",
     "output_type": "stream",
     "text": [
      "Epoch 7: 100%|██████████| 938/938 [00:24<00:00, 38.05it/s]\n"
     ]
    },
    {
     "name": "stdout",
     "output_type": "stream",
     "text": [
      "Train. loss: 0.07999234328042469, accuracy: 0.8859333333333334\n",
      "Validation. loss: 0.029978728971991296, accuracy: 0.9769\n"
     ]
    },
    {
     "name": "stderr",
     "output_type": "stream",
     "text": [
      "Epoch 8: 100%|██████████| 938/938 [00:25<00:00, 37.28it/s]\n"
     ]
    },
    {
     "name": "stdout",
     "output_type": "stream",
     "text": [
      "Train. loss: 0.07626914339058641, accuracy: 0.8914666666666666\n",
      "Validation. loss: 0.0323032840074149, accuracy: 0.976\n"
     ]
    },
    {
     "name": "stderr",
     "output_type": "stream",
     "text": [
      "Epoch 9: 100%|██████████| 938/938 [00:21<00:00, 42.83it/s]\n"
     ]
    },
    {
     "name": "stdout",
     "output_type": "stream",
     "text": [
      "Train. loss: 0.0701247787607937, accuracy: 0.8942333333333333\n",
      "Validation. loss: 0.029060680877267542, accuracy: 0.9748\n"
     ]
    }
   ],
   "source": [
    "config = {\n",
    "    'lr': 1e-3,\n",
    "    'epochs': 10,\n",
    "    'early_stopping': 5,\n",
    "    'lr_reduce_rate': 0.5,\n",
    "    'patience': 3\n",
    "}\n",
    "\n",
    "trainer = MNISTTrainer(model, nn.CrossEntropyLoss(), config, device='cuda')\n",
    "trainer.fit(train_loader, val_loader)"
   ]
  }
 ],
 "metadata": {
  "kernelspec": {
   "display_name": "Python 3 (ipykernel)",
   "language": "python",
   "name": "python3"
  },
  "language_info": {
   "codemirror_mode": {
    "name": "ipython",
    "version": 3
   },
   "file_extension": ".py",
   "mimetype": "text/x-python",
   "name": "python",
   "nbconvert_exporter": "python",
   "pygments_lexer": "ipython3",
   "version": "3.10.1"
  }
 },
 "nbformat": 4,
 "nbformat_minor": 2
}
