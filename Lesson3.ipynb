{
 "cells": [
  {
   "cell_type": "markdown",
   "metadata": {
    "slideshow": {
     "slide_type": "slide"
    }
   },
   "source": [
    "# Объектно-ориентированное программирование в Python"
   ]
  },
  {
   "cell_type": "markdown",
   "metadata": {
    "slideshow": {
     "slide_type": "slide"
    }
   },
   "source": [
    "## Базовые принципы ООП\n",
    "* Инкапсуляция — размещение одного объекта или класса внутри другого для разграничения доступа к ним\n",
    "* Наследование — способность объекта или класса базироваться на другом объекте или классе. Это главный механизм для повторного использования кода. Наследственное отношение классов четко определяет их иерархию\n",
    "* Полиморфизм — реализация задач одной и той же идеи разными способами\n",
    "* Абстракция — отделение концепции от ее экземпляра"
   ]
  },
  {
   "cell_type": "markdown",
   "metadata": {
    "slideshow": {
     "slide_type": "subslide"
    }
   },
   "source": [
    "### Инкапсуляция\n",
    "\n",
    "Инкапсуляция есть объединение в единое целое данных и алгоритмов обработки этих данных. В рамках ООП данные называются полями объекта, а алгоритмы - объектными методами.\n",
    "\n",
    "Инкапсуляция позволяет в максимальной степени изолировать объект от внешнего окружения. Она существенно повышает надежность разрабатываемых программ, т.к. локализованные в объекте алгоритмы обмениваются с программой сравнительно небольшими объемами данных, причем количество и тип этих данных обычно тщательно контролируются. В результате замена или модификация алгоритмов и данных, инкапсулированных в объект, как правило, не влечет за собой плохо прослеживаемых последствий для программы в целом (в целях повышения защищенности программ в ООП почти не используются глобальные переменные)."
   ]
  },
  {
   "cell_type": "markdown",
   "metadata": {
    "slideshow": {
     "slide_type": "subslide"
    }
   },
   "source": [
    "### Наследование\n",
    "\n",
    "Наследование есть свойство объектов порождать своих потомков. Объект-потомок автоматически наследует от родителя все поля и методы, может дополнять объекты новыми полями и заменять (перекрывать) методы родителя или дополнять их.\n",
    "\n",
    "Принцип наследования решает проблему модификации свойств объекта и придает ООП в целом исключительную гибкость. При работе с объектами программист обычно подбирает объект, наиболее близкий по своим свойствам для решения конкретной задачи, и создает одного или нескольких потомков от него, которые «умеют» делать то, что не реализовано в родителе.\n",
    "\n",
    "Последовательное проведение в жизнь принципа «наследуй и изменяй» хорошо согласуется с поэтапным подходом к разработке крупных программных проектов и во многом стимулирует такой подход."
   ]
  },
  {
   "cell_type": "markdown",
   "metadata": {
    "slideshow": {
     "slide_type": "subslide"
    }
   },
   "source": [
    "### Полиморфизм\n",
    "\n",
    "Полиморфизм - это свойство родственных объектов (т.е. объектов, имеющих одного общего родителя) решать схожие по смыслу проблемы разными способами. В рамках ООП поведенческие свойства объекта определяются набором входящих в него методов. Изменяя алгоритм того или иного метода в потомках объекта, программист может придавать этим потомкам отсутствующие у родителя специфические свойства. Для изменения метода необходимо перекрыть его в потомке, т.е. объявить в потомке одноименный метод и реализовать в нем нужные действия. В результате в объекте-родителе и объекте-потомке будут действовать два одноименных метода, имеющие разную алгоритмическую основу и, следовательно, придающие объектам разные свойства."
   ]
  },
  {
   "cell_type": "markdown",
   "metadata": {
    "slideshow": {
     "slide_type": "subslide"
    }
   },
   "source": [
    "### Абстракция\n",
    "\n",
    "Абстракция в объектно-ориентированном программировании — это использование только тех характеристик объекта, которые с достаточной точностью представляют его в данной системе. Основная идея состоит в том, чтобы представить объект минимальным набором полей и методов и при этом с достаточной точностью для решаемой задачи.\n",
    "\n",
    "Абстракция является основой объектно-ориентированного программирования и позволяет работать с объектами, не вдаваясь в особенности их реализации."
   ]
  },
  {
   "cell_type": "markdown",
   "metadata": {
    "slideshow": {
     "slide_type": "slide"
    }
   },
   "source": [
    "# Создание класса"
   ]
  },
  {
   "cell_type": "code",
   "execution_count": 1,
   "metadata": {
    "slideshow": {
     "slide_type": "subslide"
    }
   },
   "outputs": [],
   "source": [
    "class MyClass:\n",
    "    val = 2  # Свойство класса\n",
    "\n",
    "    def mult(self, x):  # Методы класса\n",
    "        return self.val * x\n",
    "    \n",
    "    def power(self, x):\n",
    "        return x ** self.val"
   ]
  },
  {
   "cell_type": "code",
   "execution_count": 2,
   "metadata": {
    "slideshow": {
     "slide_type": "slide"
    }
   },
   "outputs": [
    {
     "name": "stdout",
     "output_type": "stream",
     "text": [
      "2\n",
      "6\n",
      "9\n"
     ]
    }
   ],
   "source": [
    "elem = MyClass()\n",
    "print(elem.val)\n",
    "print(elem.mult(3))\n",
    "print(elem.power(3))"
   ]
  },
  {
   "cell_type": "code",
   "execution_count": 3,
   "metadata": {},
   "outputs": [
    {
     "name": "stdout",
     "output_type": "stream",
     "text": [
      "<class '__main__.MyClass'>\n"
     ]
    }
   ],
   "source": [
    "print(type(elem))"
   ]
  },
  {
   "cell_type": "code",
   "execution_count": 4,
   "metadata": {
    "slideshow": {
     "slide_type": "subslide"
    }
   },
   "outputs": [
    {
     "name": "stdout",
     "output_type": "stream",
     "text": [
      "4\n",
      "12\n",
      "81\n"
     ]
    }
   ],
   "source": [
    "elem.val = 4\n",
    "print(elem.val)\n",
    "print(elem.mult(3))\n",
    "print(elem.power(3))"
   ]
  },
  {
   "cell_type": "markdown",
   "metadata": {
    "slideshow": {
     "slide_type": "slide"
    }
   },
   "source": [
    "# Конструкторы и деструкторы"
   ]
  },
  {
   "cell_type": "code",
   "execution_count": 5,
   "metadata": {
    "slideshow": {
     "slide_type": "subslide"
    }
   },
   "outputs": [],
   "source": [
    "class MyClass:\n",
    "    def __init__(self):\n",
    "        \"\"\"\n",
    "        Конструктор класса. Выполняется при создании экземпляра класса\n",
    "        Обычно все свойства определяются в конструкторе\n",
    "        \"\"\"\n",
    "        print('Initialize')\n",
    "        self.val = 2  # Свойство класса\n",
    "\n",
    "    def mult(self, x):  # Метод класса\n",
    "        return self.val * x\n",
    "    \n",
    "    def __del__(self):\n",
    "        \"\"\"\n",
    "        Деструктор класса. Выполняется при удалении экземпляра класса\n",
    "        \"\"\"\n",
    "        print('Delete')"
   ]
  },
  {
   "cell_type": "code",
   "execution_count": 6,
   "metadata": {
    "slideshow": {
     "slide_type": "subslide"
    }
   },
   "outputs": [
    {
     "name": "stdout",
     "output_type": "stream",
     "text": [
      "Initialize\n",
      "2\n",
      "Delete\n"
     ]
    }
   ],
   "source": [
    "elem = MyClass()\n",
    "print(elem.val)\n",
    "del elem"
   ]
  },
  {
   "cell_type": "markdown",
   "metadata": {
    "slideshow": {
     "slide_type": "subslide"
    }
   },
   "source": [
    "При запуске .py файла деструктор выполняется при завершении программы, либо когда когда перменная автоматически удаляется (например, выполнение выходит из зоны видимости локальной переменной)  \n",
    "  \n",
    "На практике деструктор используется редко, в основном для тех ресурсов, которые требуют явного освобождения памяти при удалении объекта."
   ]
  },
  {
   "cell_type": "markdown",
   "metadata": {
    "slideshow": {
     "slide_type": "slide"
    }
   },
   "source": [
    "# Инкапсуляция"
   ]
  },
  {
   "cell_type": "markdown",
   "metadata": {},
   "source": [
    "Атрибут может быть объявлен приватным (внутренним) с помощью нижнего подчеркивания перед именем, но настоящего скрытия на самом деле не происходит – все на уровне соглашений."
   ]
  },
  {
   "cell_type": "code",
   "execution_count": 7,
   "metadata": {
    "slideshow": {
     "slide_type": "subslide"
    }
   },
   "outputs": [],
   "source": [
    "class MyClass:\n",
    "    def __init__(self):\n",
    "        self._val = 3  # Приватное свойство класса\n",
    "        self.__priv_val = 8  # Очень приватное свойство класса\n",
    "        \n",
    "    def _factorial(self, x): # Приватный метод класса\n",
    "        fact = 1\n",
    "        for i in range(1, x):\n",
    "            fact *= i\n",
    "        return fact\n",
    "\n",
    "    def mult(self, x):  # Метод класса\n",
    "        return self._val * self._factorial(x)"
   ]
  },
  {
   "cell_type": "code",
   "execution_count": 8,
   "metadata": {
    "slideshow": {
     "slide_type": "subslide"
    }
   },
   "outputs": [
    {
     "name": "stdout",
     "output_type": "stream",
     "text": [
      "3\n",
      "8\n"
     ]
    }
   ],
   "source": [
    "elem = MyClass()\n",
    "print(elem._val)  # Доступ к приватному свойству\n",
    "print(elem._MyClass__priv_val)  # Доступ к очень приватному свойству"
   ]
  },
  {
   "cell_type": "markdown",
   "metadata": {
    "slideshow": {
     "slide_type": "subslide"
    }
   },
   "source": [
    "### Работа с приватными данными"
   ]
  },
  {
   "cell_type": "code",
   "execution_count": 9,
   "metadata": {
    "slideshow": {
     "slide_type": "-"
    }
   },
   "outputs": [],
   "source": [
    "class Item:\n",
    "    def __init__(self, count=3, max_count=16):\n",
    "        self._count = count\n",
    "        self._max_count = 16\n",
    "        \n",
    "    def update_count(self, val):\n",
    "        if val <= self._max_count:\n",
    "            self._count = val\n",
    "            return True\n",
    "        else:\n",
    "            return False\n",
    "        \n",
    "    # Свойство объекта. Не принимает параметров кроме self, вызывается без круглых скобок\n",
    "    # Определяется с помощью декоратора property\n",
    "    @property\n",
    "    def count(self):\n",
    "        return self._count"
   ]
  },
  {
   "cell_type": "code",
   "execution_count": 10,
   "metadata": {
    "slideshow": {
     "slide_type": "subslide"
    }
   },
   "outputs": [
    {
     "name": "stdout",
     "output_type": "stream",
     "text": [
      "2\n",
      "True 8\n"
     ]
    }
   ],
   "source": [
    "item = Item(2)\n",
    "print(item.count)\n",
    "ret = item.update_count(8)\n",
    "print(ret, item.count)"
   ]
  },
  {
   "cell_type": "markdown",
   "metadata": {
    "slideshow": {
     "slide_type": "slide"
    }
   },
   "source": [
    "# Наследование"
   ]
  },
  {
   "cell_type": "code",
   "execution_count": 11,
   "metadata": {
    "slideshow": {
     "slide_type": "subslide"
    }
   },
   "outputs": [],
   "source": [
    "class Apple(Item):\n",
    "    def __init__(self, count=1, max_count=32, color='green'):\n",
    "        super().__init__(count, max_count)\n",
    "        self._color = color\n",
    "    \n",
    "    @property\n",
    "    def color(self):\n",
    "        return self._color"
   ]
  },
  {
   "cell_type": "code",
   "execution_count": 12,
   "metadata": {},
   "outputs": [
    {
     "name": "stdout",
     "output_type": "stream",
     "text": [
      "1\n",
      "red\n"
     ]
    }
   ],
   "source": [
    "apple = Apple(color='red')\n",
    "print(apple.count)\n",
    "print(apple.color)"
   ]
  },
  {
   "cell_type": "code",
   "execution_count": 13,
   "metadata": {
    "slideshow": {
     "slide_type": "subslide"
    }
   },
   "outputs": [
    {
     "name": "stdout",
     "output_type": "stream",
     "text": [
      "True\n",
      "True\n"
     ]
    }
   ],
   "source": [
    "# isinstance проверяет принадлежит ли объект классу\n",
    "print(isinstance(apple, Apple))\n",
    "print(isinstance(apple, Item))"
   ]
  },
  {
   "cell_type": "markdown",
   "metadata": {
    "slideshow": {
     "slide_type": "subslide"
    }
   },
   "source": [
    "### Каждый объект в Python является наследником класса object\n",
    "Определение класса\n",
    "```python\n",
    "class Item:\n",
    "```\n",
    "эквивалентно определению\n",
    "```python\n",
    "class Item(object):\n",
    "```"
   ]
  },
  {
   "cell_type": "code",
   "execution_count": 14,
   "metadata": {},
   "outputs": [
    {
     "name": "stdout",
     "output_type": "stream",
     "text": [
      "True\n",
      "True\n",
      "True\n",
      "True\n",
      "True\n",
      "True\n"
     ]
    }
   ],
   "source": [
    "print(isinstance(apple, object))\n",
    "print(isinstance(Apple, object))\n",
    "print(isinstance(2, object))\n",
    "print(isinstance(apple.update_count, object))\n",
    "print(isinstance(isinstance, object))\n",
    "print(isinstance(print, object))"
   ]
  },
  {
   "cell_type": "code",
   "execution_count": 30,
   "metadata": {
    "slideshow": {
     "slide_type": "subslide"
    }
   },
   "outputs": [
    {
     "data": {
      "text/plain": [
       "['__class__',\n",
       " '__delattr__',\n",
       " '__dir__',\n",
       " '__doc__',\n",
       " '__eq__',\n",
       " '__format__',\n",
       " '__ge__',\n",
       " '__getattribute__',\n",
       " '__gt__',\n",
       " '__hash__',\n",
       " '__init__',\n",
       " '__init_subclass__',\n",
       " '__le__',\n",
       " '__lt__',\n",
       " '__ne__',\n",
       " '__new__',\n",
       " '__reduce__',\n",
       " '__reduce_ex__',\n",
       " '__repr__',\n",
       " '__setattr__',\n",
       " '__sizeof__',\n",
       " '__str__',\n",
       " '__subclasshook__']"
      ]
     },
     "execution_count": 30,
     "metadata": {},
     "output_type": "execute_result"
    }
   ],
   "source": [
    "# Функция dir возвращает список атрибутов класса.\n",
    "dir(object)"
   ]
  },
  {
   "cell_type": "markdown",
   "metadata": {
    "slideshow": {
     "slide_type": "subslide"
    }
   },
   "source": [
    "### Работа со свойствами"
   ]
  },
  {
   "cell_type": "code",
   "execution_count": 33,
   "metadata": {},
   "outputs": [
    {
     "name": "stdout",
     "output_type": "stream",
     "text": [
      "False\n"
     ]
    }
   ],
   "source": [
    "apple.wormed = False\n",
    "print(apple.wormed)"
   ]
  },
  {
   "cell_type": "code",
   "execution_count": 39,
   "metadata": {},
   "outputs": [
    {
     "name": "stdout",
     "output_type": "stream",
     "text": [
      "<function wormed_wrapper.<locals>.wormed at 0x7f454e3f1f70>\n",
      "True\n"
     ]
    }
   ],
   "source": [
    "def wormed_wrapper(self):\n",
    "    def wormed():\n",
    "        return self.color == 'red'\n",
    "    return wormed\n",
    "    \n",
    "apple.wormed = wormed_wrapper(apple)\n",
    "print(apple.wormed)\n",
    "print(apple.wormed())"
   ]
  },
  {
   "cell_type": "code",
   "execution_count": 40,
   "metadata": {
    "slideshow": {
     "slide_type": "subslide"
    }
   },
   "outputs": [
    {
     "name": "stdout",
     "output_type": "stream",
     "text": [
      "6\n",
      "5\n"
     ]
    }
   ],
   "source": [
    "def mult(x, y):\n",
    "    return x * y\n",
    "\n",
    "print(mult(2, 3))\n",
    "mult.some_var = 5\n",
    "print(mult.some_var)"
   ]
  },
  {
   "cell_type": "markdown",
   "metadata": {
    "slideshow": {
     "slide_type": "subslide"
    }
   },
   "source": [
    "## Множественное наследование"
   ]
  },
  {
   "cell_type": "code",
   "execution_count": 15,
   "metadata": {
    "slideshow": {
     "slide_type": "-"
    }
   },
   "outputs": [],
   "source": [
    "class Fruit(Item):\n",
    "    def __init__(self, ripe=True, **kwargs):\n",
    "        super().__init__(**kwargs)\n",
    "        self._ripe = ripe\n",
    "\n",
    "\n",
    "class Food(Item):\n",
    "    def __init__(self, saturation, **kwargs):\n",
    "        super().__init__(**kwargs)\n",
    "        self._saturation = saturation\n",
    "        \n",
    "    @property\n",
    "    def eatable(self):\n",
    "        return self._saturation > 0"
   ]
  },
  {
   "cell_type": "code",
   "execution_count": 16,
   "metadata": {
    "slideshow": {
     "slide_type": "subslide"
    }
   },
   "outputs": [],
   "source": [
    "class Apple(Fruit, Food):\n",
    "    def __init__(self, ripe, count=1, max_count=32, color='green', saturation=10):\n",
    "        super().__init__(saturation=saturation, ripe=ripe, count=count, max_count=max_count)\n",
    "        self._color = color\n",
    "    \n",
    "    @property\n",
    "    def color(self):\n",
    "        return self._color"
   ]
  },
  {
   "cell_type": "code",
   "execution_count": 17,
   "metadata": {},
   "outputs": [
    {
     "name": "stdout",
     "output_type": "stream",
     "text": [
      "1\n",
      "green\n",
      "True\n"
     ]
    }
   ],
   "source": [
    "apple = Apple(False, color='green')\n",
    "print(apple.count)\n",
    "print(apple.color)\n",
    "print(apple.eatable)"
   ]
  },
  {
   "cell_type": "code",
   "execution_count": 42,
   "metadata": {
    "slideshow": {
     "slide_type": "subslide"
    }
   },
   "outputs": [
    {
     "data": {
      "text/plain": [
       "(__main__.Fruit, __main__.Food)"
      ]
     },
     "execution_count": 42,
     "metadata": {},
     "output_type": "execute_result"
    }
   ],
   "source": [
    "Apple.__bases__"
   ]
  },
  {
   "cell_type": "markdown",
   "metadata": {
    "slideshow": {
     "slide_type": "slide"
    }
   },
   "source": [
    "# Полиморфизм"
   ]
  },
  {
   "cell_type": "code",
   "execution_count": 18,
   "metadata": {
    "slideshow": {
     "slide_type": "subslide"
    }
   },
   "outputs": [],
   "source": [
    "class Apple(Fruit, Food):\n",
    "    def __init__(self, ripe, count=1, max_count=32, color='green', saturation=10):\n",
    "        super().__init__(saturation=saturation, ripe=ripe, count=count, max_count=max_count)\n",
    "        self._color = color\n",
    "    \n",
    "    @property\n",
    "    def color(self):\n",
    "        return self._color\n",
    "        \n",
    "    @property\n",
    "    def eatable(self):\n",
    "        \"\"\"\n",
    "        Переопределённая функция класса Food. Добавление проверки на спелость\n",
    "        \"\"\"\n",
    "        return super().eatable and self._ripe"
   ]
  },
  {
   "cell_type": "code",
   "execution_count": 19,
   "metadata": {},
   "outputs": [
    {
     "name": "stdout",
     "output_type": "stream",
     "text": [
      "1\n",
      "green\n",
      "False\n"
     ]
    }
   ],
   "source": [
    "apple = Apple(False, color='green')\n",
    "print(apple.count)\n",
    "print(apple.color)\n",
    "print(apple.eatable)"
   ]
  },
  {
   "cell_type": "markdown",
   "metadata": {
    "slideshow": {
     "slide_type": "slide"
    }
   },
   "source": [
    "# Специальные методы"
   ]
  },
  {
   "cell_type": "code",
   "execution_count": 44,
   "metadata": {
    "slideshow": {
     "slide_type": "subslide"
    }
   },
   "outputs": [],
   "source": [
    "class Apple(Fruit, Food):\n",
    "    def __init__(self, ripe, count=1, max_count=32, color='green', saturation=10):\n",
    "        super().__init__(saturation=saturation, ripe=ripe, count=count, max_count=max_count)\n",
    "        self._color = color\n",
    "    \n",
    "    @property\n",
    "    def color(self):\n",
    "        return self._color\n",
    "        \n",
    "    @property\n",
    "    def eatable(self):\n",
    "        return super().eatable and self._ripe\n",
    "    \n",
    "    def __call__(self):\n",
    "        \"\"\" Вызов как функции \"\"\"\n",
    "        if self.eatable:\n",
    "            new_count = max(self.count - 1, 0)\n",
    "            self.update_count(new_count)            \n",
    "    \n",
    "    def __str__(self):\n",
    "        \"\"\" Вызов как строки \"\"\"\n",
    "        return f'Stack of {self.count} {self.color} apples' \n",
    "            \n",
    "    def __len__(self):\n",
    "        \"\"\" Получение длины объекта \"\"\"\n",
    "        return self.count"
   ]
  },
  {
   "cell_type": "code",
   "execution_count": 45,
   "metadata": {
    "slideshow": {
     "slide_type": "subslide"
    }
   },
   "outputs": [
    {
     "name": "stdout",
     "output_type": "stream",
     "text": [
      "8\n",
      "7\n",
      "Stack of 7 red apples\n"
     ]
    }
   ],
   "source": [
    "apple = Apple(True, count=8, color='red')\n",
    "print(len(apple))\n",
    "apple()\n",
    "print(len(apple))\n",
    "print(apple)"
   ]
  },
  {
   "cell_type": "markdown",
   "metadata": {
    "slideshow": {
     "slide_type": "subslide"
    }
   },
   "source": [
    "### Имитация списка"
   ]
  },
  {
   "cell_type": "code",
   "execution_count": 22,
   "metadata": {
    "slideshow": {
     "slide_type": "-"
    }
   },
   "outputs": [],
   "source": [
    "class MultLists:\n",
    "    def __init__(self, lst1, lst2):\n",
    "        self._lst1 = lst1\n",
    "        self._lst2 = lst2\n",
    "        \n",
    "    def __getitem__(self, index):\n",
    "        \"\"\" Получение элемента по индексу \"\"\"\n",
    "        if index > len(self):\n",
    "            raise IndexError(f'Index {index} more then {len(self)}')\n",
    "        return self._lst1[index], self._lst2[index]\n",
    "        \n",
    "    def __len__(self):\n",
    "        return min(len(self._lst1), len(self._lst2))"
   ]
  },
  {
   "cell_type": "code",
   "execution_count": 23,
   "metadata": {
    "slideshow": {
     "slide_type": "subslide"
    }
   },
   "outputs": [
    {
     "name": "stdout",
     "output_type": "stream",
     "text": [
      "3\n",
      "(5, 'c')\n"
     ]
    }
   ],
   "source": [
    "mlst = MultLists([1, 4, 5, 7], ['a', 'b', 'c'])\n",
    "print(len(mlst))\n",
    "print(mlst[2])"
   ]
  },
  {
   "cell_type": "markdown",
   "metadata": {
    "slideshow": {
     "slide_type": "subslide"
    }
   },
   "source": [
    "### Числовые операции"
   ]
  },
  {
   "cell_type": "code",
   "execution_count": 28,
   "metadata": {
    "slideshow": {
     "slide_type": "subslide"
    }
   },
   "outputs": [],
   "source": [
    "class Apple(Fruit, Food):\n",
    "    def __init__(self, ripe, count=1, max_count=32, color='green', saturation=10):\n",
    "        super().__init__(saturation=saturation, ripe=ripe, count=count, max_count=max_count)\n",
    "        self._color = color\n",
    "    \n",
    "    @property\n",
    "    def color(self):\n",
    "        return self._color\n",
    "        \n",
    "    @property\n",
    "    def eatable(self):\n",
    "        return super().eatable and self._ripe\n",
    "    \n",
    "    def __add__(self, num):\n",
    "        \"\"\" Сложение с числом \"\"\"\n",
    "        return self.count + num\n",
    "    \n",
    "    def __mul__(self, num):\n",
    "        \"\"\" Умножение на число \"\"\"\n",
    "        return self.count * num\n",
    "    \n",
    "    def __lt__(self, num):\n",
    "        \"\"\" Сравнение меньше \"\"\"\n",
    "        return self.count < num\n",
    "    \n",
    "    def __len__(self):\n",
    "        \"\"\" Получение длины объекта \"\"\"\n",
    "        return self.count"
   ]
  },
  {
   "cell_type": "code",
   "execution_count": 29,
   "metadata": {
    "slideshow": {
     "slide_type": "subslide"
    }
   },
   "outputs": [
    {
     "name": "stdout",
     "output_type": "stream",
     "text": [
      "8\n",
      "11\n",
      "24\n",
      "False\n"
     ]
    }
   ],
   "source": [
    "apple = Apple(True, count=8, color='red')\n",
    "print(len(apple))\n",
    "print(apple + 3)\n",
    "print(apple * 3)\n",
    "print(apple < 3)"
   ]
  },
  {
   "cell_type": "markdown",
   "metadata": {
    "slideshow": {
     "slide_type": "slide"
    }
   },
   "source": [
    "# Задания:\n",
    "1. Перенести все операции по работе с количеством объектов в класс Item\n",
    "2. Дополнить остальными опрерациями сравнения (>, <=, >=, ==), вычитания, а также выполнение операций +=, *=, -=. Все изменения количества должны быть в переделах \\[0, max_count\\]  \n",
    "3. Создать ещё 2 класса съедобных фруктов и 2 класса съедобных не фруктов  \n",
    "4. Создать класс Inventory, который содержит в себе список фиксированной длины. Заполнить его None. Доступ в ячейку осуществляется по индексу.   \n",
    "    4.1 Добавить возможность добавлять в него съедобные объекты в определённые ячейки.  \n",
    "    4.2 Добавить возможность уменьшать количество объектов в списке.  \n",
    "    4.3 При достижении нуля, объект удаляется из инвенторя.  \n",
    "5. Создайте класс, содержащий очередь. В нём реализовать методы добавления эемента в конец и получение первого элемента из списка с удалением. Сам список должен быть недоступен. Добавить возможность получить список, идентичный находящемуся внутри класса, но при изменении полученного списка, внутриклассовый не меняется."
   ]
  },
  {
   "cell_type": "markdown",
   "metadata": {
    "slideshow": {
     "slide_type": "slide"
    }
   },
   "source": [
    "# Лабораторная работа 3. ООП.\n",
    "\n",
    "\n",
    "1. Реализовать два класса **Pupa** и **Lupa**. И класс **Accountant**.\n",
    "2. Класс **Accountant** должен уметь одинаково успешно работать и с экземплярами класса **Pupa** и с экземплярами класса **Lupa**. \n",
    "    У класса **Accountant** должен быть метод *give_salary(worker)*. Который, получая на вход экземпляр классов **Pupa** или **Lupa**, вызывает у них метод *take_salary(int)*.\n",
    "    Необходимо придумать как реализовать такое поведение.\n",
    "    Метод *take_salary* инкрементирует внутренний счётчик у каждого экземпляра класса на переданное ему значение.\n",
    "3. При этом **Pupa** и **Lupa** два датасайнтиста и должны работать с матрицами. У них есть метод *do_work(filename1, filename2)*.\n",
    "    **Pupa** считывают из обоих переданных ему файлов по матрице и поэлементно их суммируют.\n",
    "    **Lupa** считывают из обоих переданных ему файлов по матрице и поэлементно их вычитают.\n",
    "    Работники обоих типов выводят результат своих трудов на экран.\n",
    "4. Класс **Accountant** реализует логику начисления ЗП на ваше усмотрение, но будьте внимательны чтобы не получилось так, что **Lupa** получит за **Pupa**, а **Pupa** ничего не получит."
   ]
  }
 ],
 "metadata": {
  "celltoolbar": "Slideshow",
  "kernelspec": {
   "display_name": "Python 3",
   "language": "python",
   "name": "python3"
  },
  "language_info": {
   "codemirror_mode": {
    "name": "ipython",
    "version": 3
   },
   "file_extension": ".py",
   "mimetype": "text/x-python",
   "name": "python",
   "nbconvert_exporter": "python",
   "pygments_lexer": "ipython3",
   "version": "3.8.3"
  }
 },
 "nbformat": 4,
 "nbformat_minor": 4
}
