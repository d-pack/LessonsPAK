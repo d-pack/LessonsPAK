{
 "cells": [
  {
   "cell_type": "markdown",
   "metadata": {
    "slideshow": {
     "slide_type": "slide"
    }
   },
   "source": [
    "# Введение в Python\n",
    "### Часть 2"
   ]
  },
  {
   "cell_type": "markdown",
   "metadata": {
    "slideshow": {
     "slide_type": "slide"
    }
   },
   "source": [
    "# Строки (str)\n",
    "\n",
    "Специальные символы:\n",
    "* \\n - новая строка\n",
    "* \\t - табуляция\n",
    "* \\r - возврат каретки\n",
    "\n",
    "Строки в тройных апострофах или кавычках позволяют записывать многострочные блоки текста."
   ]
  },
  {
   "cell_type": "code",
   "execution_count": 1,
   "metadata": {},
   "outputs": [
    {
     "name": "stdout",
     "output_type": "stream",
     "text": [
      "Этот текст\n",
      "был записан\n",
      "в нескольких строках\n"
     ]
    }
   ],
   "source": [
    "print(\"\"\"Этот текст\n",
    "был записан\n",
    "в нескольких строках\"\"\")"
   ]
  },
  {
   "cell_type": "markdown",
   "metadata": {
    "slideshow": {
     "slide_type": "subslide"
    }
   },
   "source": [
    "### Функции для работы со строками\n",
    "* Конкатенация\n",
    "\n",
    "```python\n",
    "s1 = 'Hello '\n",
    "s2 = 'world!'\n",
    "s3 = s1 + s2  # 'Hello world!'\n",
    "\n",
    "```\n",
    "* Дублирование\n",
    "\n",
    "```python\n",
    "s4 = s1 * 3  # 'Hello Hello Hello '\n",
    "```\n",
    "* Длина\n",
    "\n",
    "```python\n",
    "len(s1)  # 6\n",
    "```"
   ]
  },
  {
   "cell_type": "markdown",
   "metadata": {
    "slideshow": {
     "slide_type": "subslide"
    }
   },
   "source": [
    "### Методы строк\n",
    "* Поиск подстроки. Возвращает номер первого вхождения или -1\n",
    "\n",
    "```python\n",
    "s3.find(s2)  # 6\n",
    "```\n",
    "\n",
    "* Поиск подстроки. Возвращает номер последнего вхождения или -1\n",
    "\n",
    "```python\n",
    "s3.rfind('o')  # 7\n",
    "```\n",
    "* Перевод символов в верхний регистр\n",
    "\n",
    "```python\n",
    "s2.upper()  # 'WORLD!'\n",
    "```\n",
    "* Перевод символов в нижний регистр\n",
    "\n",
    "```python\n",
    "s1.lower()  # 'hello '\n",
    "```"
   ]
  },
  {
   "cell_type": "markdown",
   "metadata": {
    "slideshow": {
     "slide_type": "subslide"
    }
   },
   "source": [
    "* Определение начинается ли строка с подстроки\n",
    "\n",
    "```python\n",
    "s1.startswith('Hel')  # True\n",
    "```\n",
    "* Определение заканчивается строка подстрокой\n",
    "\n",
    "```python\n",
    "s1.endswith('lo ')  # True\n",
    "```\n",
    "* Разбиение строки\n",
    "\n",
    "```python\n",
    "lst = s3.split(' ')  # ['Hello', 'world!']\n",
    "```\n",
    "* Объединение строк\n",
    "\n",
    "```python\n",
    "'-'.join(lst)  # 'Hello-world!'\n",
    "```"
   ]
  },
  {
   "cell_type": "markdown",
   "metadata": {
    "slideshow": {
     "slide_type": "subslide"
    }
   },
   "source": [
    "### Форматирование строки\n",
    "\n",
    "Позволяет добавлять в строку данных различных типов\n",
    "```python\n",
    "'{} or {}'.format('One', 1)  # 'One or 1'\n",
    "```\n",
    "Использование аргументов в произвольном порядке\n",
    "```python\n",
    "'{0}, {1} {0}'.format('Бонд', 'Джеймс')  # 'Бонд, Джеймс Бонд'\n",
    "```\n",
    "```python\n",
    "'Имя: {name} Фамилия: {surname}'.format(name='Вася', surname='Васечкин')  # 'Имя: Вася Фамилия: Васечкин'\n",
    "```\n",
    "Cпецификация и типизация\n",
    "```python\n",
    "'Округление: {:.3f}'.format(2/3)  # 'Округление: 0.667'\n",
    "'Выравнивание: {:05.2f}'.format(5/3)  # 'Выравнивание: 01.67'\n",
    "'Число по коду: {num:d} {num:c}'.format(num=167)  # 'Число по коду: 167 §'\n",
    "```"
   ]
  },
  {
   "cell_type": "markdown",
   "metadata": {
    "slideshow": {
     "slide_type": "subslide"
    }
   },
   "source": [
    "## f - строки\n",
    "\n",
    "Записи\n",
    "\n",
    "```python\n",
    "'Округление: {:.3f}'.format(2/3)\n",
    "'Выравнивание: {:05.2f}'.format(5/3)\n",
    "'Число по коду: {num:d} {num:c}'.format(num=167)  \n",
    "```\n",
    "\n",
    "эквивалентны записям\n",
    "\n",
    "```python\n",
    "f'Округление: {2/3:.3f}'\n",
    "f'Выравнивание: {5/3:05.2f}'\n",
    "num = 167\n",
    "f'Число по коду: {num:d} {num:c}'\n",
    "```"
   ]
  },
  {
   "cell_type": "markdown",
   "metadata": {
    "slideshow": {
     "slide_type": "slide"
    }
   },
   "source": [
    "# Списки (list)\n",
    "\n",
    "* Создание списка\n",
    "\n",
    "```python\n",
    "lst_st = list('Строка')  # ['С', 'т', 'р', 'о', 'к', 'а']\n",
    "lst_rng = list(range(10))  # [0, 1, 2, 3, 4, 5, 6, 7, 8, 9]\n",
    "lst_var = [1, 'a', 'abc', None, ['Other', 'list'], 3.14]\n",
    "\n",
    "```\n",
    "* Индексирование\n",
    "\n",
    "```python\n",
    "lst_st[1]  # 'т'\n",
    "lst_st[-1]  # 'а'\n",
    "```\n",
    "* Срезы\n",
    "\n",
    "```python\n",
    "lst_st[1:4]  # ['т', 'р', 'о']\n",
    "lst_st[:3]  # ['С', 'т', 'р']\n",
    "lst_st[-3:]  # ['о', 'к', 'а']\n",
    "lst_rng[:6:2]  # [0, 2, 4]\n",
    "lst_st[::-1]  # ['а', 'к', 'о', 'р', 'т', 'С']\n",
    "```"
   ]
  },
  {
   "cell_type": "markdown",
   "metadata": {
    "slideshow": {
     "slide_type": "subslide"
    }
   },
   "source": [
    "* Генераторы списков\n",
    "\n",
    "```python\n",
    "lst_sqr = [i ** 2 for i in range(6)]  # [0, 1, 4, 9, 16, 25]\n",
    "lst_sqr_even = [i ** 2 for i in range(5) if i % 2 == 0]  # [0, 4, 16]\n",
    "```\n",
    "* Длина списка\n",
    "```python\n",
    "len(lst_rng)  # 10\n",
    "```\n",
    "* Наличие элемента в списке\n",
    "```python\n",
    "2 in lst_rng  # True\n",
    "```"
   ]
  },
  {
   "cell_type": "markdown",
   "metadata": {
    "slideshow": {
     "slide_type": "subslide"
    }
   },
   "source": [
    "### Методы списков\n",
    "\n",
    "##### методы списков, в отличие от строковых методов, изменяют сам список, а потому результат выполнения не нужно записывать в эту переменную\n",
    "* Добавление элемента\n",
    "```python\n",
    "lst_st.append('!')  # lst_st -> ['С', 'т', 'р', 'о', 'к', 'а', '!']\n",
    "```\n",
    "* Расширение списка\n",
    "```python\n",
    "lst_st.extend(['1', '2'])  # lst_st -> ['С', 'т', 'р', 'о', 'к', 'а', '1', '2']\n",
    "```\n",
    "* Удаление элемента (первый совпадающий)\n",
    "```python\n",
    "lst_st.remove('р')  # lst_st -> ['С', 'т', 'о', 'к', 'а']\n",
    "```\n",
    "* Вставка элемента\n",
    "```python\n",
    "lst_st.insert(4, 'ч')  # lst_st -> ['С', 'т', 'р', 'о', 'ч', 'к', 'а']\n",
    "```\n",
    "* Подсчет элементов\n",
    "```python\n",
    "lst_nums = [1, 2, 0, 1, 2, 1]\n",
    "lst_nums.count(1)  # 3\n",
    "```\n",
    "* Сортировка элементов\n",
    "```python\n",
    "lst_nums.sort()  # [0, 1, 1, 1, 2, 2]\n",
    "```"
   ]
  },
  {
   "cell_type": "markdown",
   "metadata": {
    "slideshow": {
     "slide_type": "slide"
    }
   },
   "source": [
    "# Кортежи (tuple)\n",
    "\n",
    "### Кортеж - неизменяемый список\n",
    "\n",
    "```python\n",
    "lst = [1, 2, 3, 4, 5, 6]  # Список\n",
    "tpl = (1, 2, 3, 4, 5, 6)  # Кортеж\n",
    "```\n",
    "\n",
    "Отличия от списков:\n",
    "* Защита от изменений\n",
    "* Меньший размер\n",
    "* Возможность использовать как ключи словаря\n",
    "```python\n",
    "dct = {1: 'a', (2, 3): 'b'} \n",
    "```"
   ]
  },
  {
   "cell_type": "markdown",
   "metadata": {
    "slideshow": {
     "slide_type": "subslide"
    }
   },
   "source": [
    "Операции с кортежами:\n",
    "* Создание\n",
    "```python\n",
    "tpl = (1, 2, 3, 4, 5, 6)\n",
    "tpl = tuple([1, 2, 3, 4, 5, 6])  # Преобразование из списка\n",
    "tpl = tuple(range(5))  # Преобразование из генератора\n",
    "tpl = tuple()  # Пустой кортеж\n",
    "tpl = (1, )  # Кортеж из одного элемета. Запятая обязательна\n",
    "```\n",
    "* Разбиение на элементы\n",
    "```python\n",
    "a, b = (1, 'c')  # a = 1; b = 'c'\n",
    "```\n",
    "* Смена местами значения двух переменных\n",
    "```python\n",
    "a, b = b, a\n",
    "```"
   ]
  },
  {
   "cell_type": "markdown",
   "metadata": {
    "slideshow": {
     "slide_type": "slide"
    }
   },
   "source": [
    "# Словари (dict)\n",
    "### Словарь - неупорядоченные коллекции произвольных объектов с доступом по ключу. Их иногда ещё называют ассоциативными массивами или хеш-таблицами\n",
    "\n",
    "Создание\n",
    "```python\n",
    "dct = {'a': 1, 'b': 2}\n",
    "dct = dict(a=1, b=2)\n",
    "dct = dict([('a', 1), ('b', 2)])\n",
    "dct_frk = dict.fromkeys(['a', 'b'], 1)  # {'a': 1, 'b': 1}\n",
    "dct_rng = {i: i ** 2 for i in range(5)}  # {0: 0, 1: 1, 2: 4, 3: 9, 4: 16}\n",
    "```\n",
    "Получение элемента\n",
    "```python\n",
    "dct['a']  # 1\n",
    "dct.get('a')  # 1\n",
    "```"
   ]
  },
  {
   "cell_type": "markdown",
   "metadata": {
    "slideshow": {
     "slide_type": "subslide"
    }
   },
   "source": [
    "### Методы словарей\n",
    "*  Получение пары (ключ, значение)\n",
    "```python\n",
    "dct.items()  # Итератор [('a', 1), ('b', 2)]\n",
    "```\n",
    "* Получение ключей\n",
    "```python\n",
    "dct.keys()  # Итератор ['a', 'b']\n",
    "```\n",
    "* Получение значение\n",
    "```python\n",
    "dct.values()  # Итератор [1, 2]\n",
    "```\n",
    "* Добавление нового словаря (обновляет славарь, возвращает None)\n",
    "```python\n",
    "dct.update(new_dct)\n",
    "```\n",
    "* Получение элемента и удаление его из словаря\n",
    "```python\n",
    "dct.pop('a')  # 1, dct -> {'b': 2}\n",
    "```"
   ]
  },
  {
   "cell_type": "markdown",
   "metadata": {
    "slideshow": {
     "slide_type": "slide"
    }
   },
   "source": [
    "# Множества (set)\n",
    "### Множество - \"контейнер\", содержащий не повторяющиеся элементы в случайном порядке\n",
    "Создание\n",
    "```python\n",
    "st = {1, 2, 3, 2, 1}  # {1, 2, 3}\n",
    "st = set([1, 2, 3, 2, 1])\n",
    "```\n",
    "### Методы\n",
    "* Добавление элемента\n",
    "```python\n",
    "st.add(4)  # st -> {1, 2, 3, 4}\n",
    "```\n",
    "* Добавление другого множества\n",
    "```python\n",
    "st.update({})  # st -> {1, 2, 3, 4}\n",
    "```\n",
    "* Определение, является ли подмножеством\n",
    "```python\n",
    "st.issubset({1, 2, 3, 4})  # True\n",
    "```\n",
    "* Объеднинение множеств\n",
    "```python\n",
    "st.union({0, 1, 2})  # {0, 1, 2, 3}\n",
    "```\n",
    "* Пересечение множеств\n",
    "```python\n",
    "st.intersection({0, 1, 2})  # {1, 2}\n",
    "```"
   ]
  },
  {
   "cell_type": "markdown",
   "metadata": {
    "slideshow": {
     "slide_type": "subslide"
    }
   },
   "source": [
    "#### Неизменяемое множество (frozenset)\n",
    "```python\n",
    "frozenset([1, 2, 3, 2, 1])\n",
    "```"
   ]
  },
  {
   "cell_type": "markdown",
   "metadata": {
    "slideshow": {
     "slide_type": "slide"
    }
   },
   "source": [
    "# Важно помнить!\n",
    "\n",
    "### Списки, кортежи, словари и множества работают через указатели!"
   ]
  },
  {
   "cell_type": "code",
   "execution_count": 2,
   "metadata": {
    "slideshow": {
     "slide_type": "subslide"
    }
   },
   "outputs": [
    {
     "name": "stdout",
     "output_type": "stream",
     "text": [
      "[1, 2, 3, 4, 5]\n",
      "[1, 10, 3, 4, 5]\n"
     ]
    }
   ],
   "source": [
    "lst1 = [1, 2, 3, 4, 5]\n",
    "lst2 = lst1\n",
    "\n",
    "print(lst2)\n",
    "\n",
    "lst1[1] = 10\n",
    "\n",
    "print(lst2)"
   ]
  },
  {
   "cell_type": "code",
   "execution_count": 3,
   "metadata": {
    "slideshow": {
     "slide_type": "subslide"
    }
   },
   "outputs": [
    {
     "name": "stdout",
     "output_type": "stream",
     "text": [
      "[1, 2, ['a', 'b', 'c'], 4]\n",
      "[1, 2, ['a', 'o', 'c'], 4]\n"
     ]
    }
   ],
   "source": [
    "lst1 = ['a', 'b', 'c']\n",
    "lst2 = [1, 2, lst1, 4]\n",
    "\n",
    "print(lst2)\n",
    "\n",
    "lst1[1] = 'o'\n",
    "\n",
    "print(lst2)"
   ]
  },
  {
   "cell_type": "code",
   "execution_count": 4,
   "metadata": {
    "slideshow": {
     "slide_type": "subslide"
    }
   },
   "outputs": [
    {
     "name": "stdout",
     "output_type": "stream",
     "text": [
      "[1, 2, 3, 4, 5, [...]]\n",
      "[1, 2, 3, 4, 5, [...]]\n",
      "[1, 2, 3, 4, 5, [...]]\n"
     ]
    }
   ],
   "source": [
    "# Рекурсивный список\n",
    "\n",
    "lst1 = [1, 2, 3, 4, 5]\n",
    "lst1.append(lst1)\n",
    "\n",
    "print(lst1)\n",
    "print(lst1[-1])\n",
    "print(lst1[-1][-1])"
   ]
  },
  {
   "cell_type": "markdown",
   "metadata": {
    "slideshow": {
     "slide_type": "slide"
    }
   },
   "source": [
    "# Функции\n",
    "```python\n",
    "def mult(x, y):\n",
    "    return x * y  # Возвращаемое значение\n",
    "\n",
    "c = mult(3, 5)  # 15\n",
    "```\n",
    "\n",
    "Возврат нескольких значение\n",
    "```python\n",
    "def add_mult(x, y):\n",
    "    return x + y, x * y  # Возвращаемое значение\n",
    "\n",
    "c, d = add_mult(3, 5)  # 8, 15\n",
    "```\n",
    "\n",
    "Возврат функции\n",
    "```python\n",
    "def main_func(n):\n",
    "    def sub_func(x):\n",
    "        return x ** n\n",
    "    return sub_func\n",
    "\n",
    "f = main_func(3)\n",
    "c = f(2)  # 8\n",
    "```"
   ]
  },
  {
   "cell_type": "markdown",
   "metadata": {
    "slideshow": {
     "slide_type": "subslide"
    }
   },
   "source": [
    "Аргументы функции\n",
    "```python\n",
    "# Значения по умолчанию. y можно не указывать\n",
    "def func(x, y=2):\n",
    "    return x ** y\n",
    "\n",
    "# Вызов функции со значениями в произвольном порядке\n",
    "func(y=3, x=2)\n",
    "\n",
    "# Произвольное число аргументов (передаётся как tuple)\n",
    "def func(*args):\n",
    "    return sum(args)\n",
    "\n",
    "func(1, 2, 5, 10)  # 18\n",
    "\n",
    "# Произвольное число именованных аргументов (передаётся как dict)\n",
    "def func(**kwargs):\n",
    "    return kwargs\n",
    "\n",
    "func(a=1, b=2)  # {'a': 1, 'b': 2}\n",
    "```"
   ]
  },
  {
   "cell_type": "markdown",
   "metadata": {
    "slideshow": {
     "slide_type": "subslide"
    }
   },
   "source": [
    "#### Анонимные функции (lambda)\n",
    "_Содержат лишь одно выражение, но и выполняются быстрее_\n",
    "```python\n",
    "func = lambda x, y: x * y\n",
    "func(3, 5)  # 15\n",
    "```"
   ]
  },
  {
   "cell_type": "markdown",
   "metadata": {
    "slideshow": {
     "slide_type": "slide"
    }
   },
   "source": [
    "### Строки документации\n",
    "Строка документации — это однострочный или многострочный строковый литерал, разделенный тройными одинарными или двойными кавычками \"\"\"Описание\"\"\" в начале модуля, класса, метода или функции, который описывает, что делает функция.\n",
    "\n",
    "Только в случае, если это первый оператор в функции, он может быть распознан компилятором байт-кода Python и доступен как атрибуты объекта времени выполнения с помощью метода **\\_\\_doc\\_\\_** или функции **help()**."
   ]
  },
  {
   "cell_type": "code",
   "execution_count": 5,
   "metadata": {
    "slideshow": {
     "slide_type": "subslide"
    }
   },
   "outputs": [
    {
     "name": "stdout",
     "output_type": "stream",
     "text": [
      "Help on function power in module __main__:\n",
      "\n",
      "power(a, b)\n",
      "    Returns arg1 raised to power arg2.\n",
      "\n"
     ]
    }
   ],
   "source": [
    "def power(a, b): \n",
    "    \"\"\"Returns arg1 raised to power arg2.\"\"\"\n",
    "    return a**b\n",
    "\n",
    "\n",
    "help(power)"
   ]
  },
  {
   "cell_type": "code",
   "execution_count": 6,
   "metadata": {},
   "outputs": [
    {
     "data": {
      "text/plain": [
       "'Returns arg1 raised to power arg2.'"
      ]
     },
     "execution_count": 6,
     "metadata": {},
     "output_type": "execute_result"
    }
   ],
   "source": [
    "power.__doc__"
   ]
  },
  {
   "cell_type": "code",
   "execution_count": 14,
   "metadata": {
    "slideshow": {
     "slide_type": "subslide"
    }
   },
   "outputs": [],
   "source": [
    "# Формат numpy\n",
    "def string_reverse_and_concat(str1, str2):\n",
    "    \"\"\"\n",
    "    Returns the reversed and concated strings\n",
    "\n",
    "    Parameters\n",
    "    ----------\n",
    "    str1 : str\n",
    "        The string which is to be reversed\n",
    "    str2 : str\n",
    "        The string which is to be concated\n",
    "\n",
    "\n",
    "    Returns\n",
    "    -------\n",
    "    result : str\n",
    "        The string which gets reversed str1 and concated with str2   \n",
    "    \"\"\"\n",
    "\n",
    "    reverse_str1 = str1[::-1]\n",
    "    result = reverse_str1 + str2\n",
    "    \n",
    "    return result"
   ]
  },
  {
   "cell_type": "code",
   "execution_count": 15,
   "metadata": {
    "slideshow": {
     "slide_type": "subslide"
    }
   },
   "outputs": [
    {
     "name": "stdout",
     "output_type": "stream",
     "text": [
      "Help on function string_reverse_and_concat in module __main__:\n",
      "\n",
      "string_reverse_and_concat(str1, str2)\n",
      "    Returns the reversed and concated strings\n",
      "    \n",
      "    Parameters\n",
      "    ----------\n",
      "    str1 : str\n",
      "        The string which is to be reversed\n",
      "    str2 : str\n",
      "        The string which is to be concated\n",
      "    \n",
      "    \n",
      "    Returns\n",
      "    -------\n",
      "    result : str\n",
      "        The string which gets reversed str1 and concated with str2\n",
      "\n"
     ]
    }
   ],
   "source": [
    "help(string_reverse_and_concat)"
   ]
  },
  {
   "cell_type": "markdown",
   "metadata": {
    "slideshow": {
     "slide_type": "slide"
    }
   },
   "source": [
    "# Генераторы в Python\n",
    "Генераторы и итераторы представляют собой инструменты, которые, как правило, используются для поточной обработки данных.   \n",
    "  \n",
    "Итератор представляет собой объект перечислитель, который для данного объекта выдает следующий элемент, либо бросает исключение, если элементов больше нет."
   ]
  },
  {
   "cell_type": "markdown",
   "metadata": {
    "slideshow": {
     "slide_type": "subslide"
    }
   },
   "source": [
    "## Создание итератора"
   ]
  },
  {
   "cell_type": "code",
   "execution_count": 8,
   "metadata": {
    "slideshow": {
     "slide_type": "subslide"
    }
   },
   "outputs": [
    {
     "name": "stdout",
     "output_type": "stream",
     "text": [
      "<list_iterator object at 0x7ff6d40d10a0>\n",
      "1\n",
      "2\n",
      "5\n",
      "3\n"
     ]
    }
   ],
   "source": [
    "# Из списка\n",
    "it = iter([1, 2, 5, 3])\n",
    "print(it)\n",
    "# Перечисление циклом for\n",
    "for i in it:\n",
    "    print(i)"
   ]
  },
  {
   "cell_type": "code",
   "execution_count": 9,
   "metadata": {
    "slideshow": {
     "slide_type": "subslide"
    }
   },
   "outputs": [
    {
     "name": "stdout",
     "output_type": "stream",
     "text": [
      "1\n",
      "2\n",
      "5\n",
      "3\n"
     ]
    },
    {
     "ename": "StopIteration",
     "evalue": "",
     "output_type": "error",
     "traceback": [
      "\u001b[0;31m---------------------------------------------------------------------------\u001b[0m",
      "\u001b[0;31mStopIteration\u001b[0m                             Traceback (most recent call last)",
      "\u001b[0;32m<ipython-input-9-fb8c1e96a5f8>\u001b[0m in \u001b[0;36m<module>\u001b[0;34m\u001b[0m\n\u001b[1;32m      2\u001b[0m \u001b[0mit\u001b[0m \u001b[0;34m=\u001b[0m \u001b[0miter\u001b[0m\u001b[0;34m(\u001b[0m\u001b[0;34m[\u001b[0m\u001b[0;36m1\u001b[0m\u001b[0;34m,\u001b[0m \u001b[0;36m2\u001b[0m\u001b[0;34m,\u001b[0m \u001b[0;36m5\u001b[0m\u001b[0;34m,\u001b[0m \u001b[0;36m3\u001b[0m\u001b[0;34m]\u001b[0m\u001b[0;34m)\u001b[0m\u001b[0;34m\u001b[0m\u001b[0;34m\u001b[0m\u001b[0m\n\u001b[1;32m      3\u001b[0m \u001b[0;32mwhile\u001b[0m \u001b[0;32mTrue\u001b[0m\u001b[0;34m:\u001b[0m\u001b[0;34m\u001b[0m\u001b[0;34m\u001b[0m\u001b[0m\n\u001b[0;32m----> 4\u001b[0;31m     \u001b[0mprint\u001b[0m\u001b[0;34m(\u001b[0m\u001b[0mnext\u001b[0m\u001b[0;34m(\u001b[0m\u001b[0mit\u001b[0m\u001b[0;34m)\u001b[0m\u001b[0;34m)\u001b[0m\u001b[0;34m\u001b[0m\u001b[0;34m\u001b[0m\u001b[0m\n\u001b[0m",
      "\u001b[0;31mStopIteration\u001b[0m: "
     ]
    }
   ],
   "source": [
    "# Перечисление с помощью функции next\n",
    "it = iter([1, 2, 5, 3])\n",
    "while True:\n",
    "    print(next(it))"
   ]
  },
  {
   "cell_type": "code",
   "execution_count": 10,
   "metadata": {
    "slideshow": {
     "slide_type": "subslide"
    }
   },
   "outputs": [
    {
     "name": "stdout",
     "output_type": "stream",
     "text": [
      "2\n",
      "4\n",
      "8\n",
      "16\n"
     ]
    }
   ],
   "source": [
    "# Создание бесконечного генератора в функции\n",
    "def fun_iter(val):\n",
    "    s = 1\n",
    "    while True:\n",
    "        s = s * val\n",
    "        yield s\n",
    "        \n",
    "fit = fun_iter(2)\n",
    "for i in range(4):\n",
    "    print(next(fit))"
   ]
  },
  {
   "cell_type": "markdown",
   "metadata": {
    "slideshow": {
     "slide_type": "slide"
    }
   },
   "source": [
    "# Файлы\n",
    "\n",
    "Файл __example.txt__ имеет следующее содержание:  \n",
    "_Hello  \n",
    "world!_  \n",
    "Открытие файла для чтения\n",
    "```python\n",
    "f = open('example.txt')\n",
    "f.read()  # 'Hello\\nworld!\\n'\n",
    "```\n",
    "__После окончания работы с файлом его обязательно нужно закрыть__\n",
    "```python\n",
    "f.close()\n",
    "```\n",
    "Конструкция _with ... as ..._ сама происзводит открытие и закрытие файла\n",
    "```python\n",
    "with open('example.txt') as f:\n",
    "    f.read()\n",
    "```\n",
    "\n",
    "Чтение строки файла\n",
    "```python\n",
    "with open('example.txt') as f:\n",
    "    f.readline()  # 'Hello\\n'\n",
    "```"
   ]
  },
  {
   "cell_type": "markdown",
   "metadata": {
    "slideshow": {
     "slide_type": "subslide"
    }
   },
   "source": [
    "Режим открытия файла\n",
    "* Открытие файла для чтение 'r'\n",
    "* Открытие файла для записи 'w'\n",
    "* Открытие файла для добавления 'a'\n",
    "* Открытие файла в двоичном режиме 'b'\n",
    "```python\n",
    "with open('out.txt', 'w') as f:\n",
    "    for s in ['It is\\n', 'output\\n']:\n",
    "        f.writeline()\n",
    "```\n",
    "\n",
    "Файл __out.txt__ тепреь содержит:  \n",
    "_It is  \n",
    "output_  "
   ]
  },
  {
   "cell_type": "markdown",
   "metadata": {
    "slideshow": {
     "slide_type": "slide"
    }
   },
   "source": [
    "# Исключения\n",
    "\n",
    "Конструкция _try ... except ..._ позволяет обрабатывать ошибки/исключения в процессе выполнения программы"
   ]
  },
  {
   "cell_type": "code",
   "execution_count": 11,
   "metadata": {},
   "outputs": [
    {
     "ename": "TypeError",
     "evalue": "unsupported operand type(s) for +: 'int' and 'str'",
     "output_type": "error",
     "traceback": [
      "\u001b[0;31m---------------------------------------------------------------------------\u001b[0m",
      "\u001b[0;31mTypeError\u001b[0m                                 Traceback (most recent call last)",
      "\u001b[0;32m<ipython-input-11-fd1b8605b7a4>\u001b[0m in \u001b[0;36m<module>\u001b[0;34m\u001b[0m\n\u001b[0;32m----> 1\u001b[0;31m \u001b[0ms\u001b[0m \u001b[0;34m=\u001b[0m \u001b[0;36m1\u001b[0m \u001b[0;34m+\u001b[0m \u001b[0;34m'2'\u001b[0m\u001b[0;34m\u001b[0m\u001b[0;34m\u001b[0m\u001b[0m\n\u001b[0m",
      "\u001b[0;31mTypeError\u001b[0m: unsupported operand type(s) for +: 'int' and 'str'"
     ]
    }
   ],
   "source": [
    "s = 1 + '2'"
   ]
  },
  {
   "cell_type": "code",
   "execution_count": 12,
   "metadata": {},
   "outputs": [
    {
     "name": "stdout",
     "output_type": "stream",
     "text": [
      "1\n"
     ]
    }
   ],
   "source": [
    "try:\n",
    "    s = 1 + '2'\n",
    "except TypeError:\n",
    "    s = 1\n",
    "print(s)"
   ]
  },
  {
   "cell_type": "markdown",
   "metadata": {
    "slideshow": {
     "slide_type": "subslide"
    }
   },
   "source": [
    "Есть возможность обрабатывать различные исключения"
   ]
  },
  {
   "cell_type": "code",
   "execution_count": 13,
   "metadata": {},
   "outputs": [
    {
     "name": "stdout",
     "output_type": "stream",
     "text": [
      "3 is not number\n",
      "Половина от 1 - ноль\n",
      "5 is not number\n",
      "Половинная сумма для 3 элементов из 6 : 7.3\n"
     ]
    }
   ],
   "source": [
    "import math\n",
    "arr = [3, 2.3, '3', 1, '5', 6]\n",
    "s, k, n = 0, 0, 0\n",
    "for a in arr:\n",
    "    try:\n",
    "        s += a / math.floor(a/2)\n",
    "    except TypeError:\n",
    "        print(a, 'is not number')\n",
    "    except ZeroDivisionError:\n",
    "        print('Половина от', a, '- ноль')\n",
    "    except Exception:\n",
    "        print('Неопределённая ошибка с', a)\n",
    "    else:\n",
    "        k += 1\n",
    "    finally:\n",
    "        n += 1\n",
    "print('Половинная сумма для', k, 'элементов из', n, ':', s)"
   ]
  },
  {
   "cell_type": "markdown",
   "metadata": {
    "slideshow": {
     "slide_type": "slide"
    }
   },
   "source": [
    "# Задания\n",
    "1. Вводится строка. Определить является ли она палиндромом и вывести соответствующее сообщение.\n",
    "2. В строке, состоящей из слов, разделенных пробелом, найти самое длинное слово.\n",
    "3. Генерируется список случайных целых чисел. Определить, сколько в нем четных чисел, а сколько нечетных.\n",
    "4. Дан словарь, состоящий из пар слов. Каждое слово является синонимом к парному ему слову. Все слова в словаре различны. Заменить в строке все слова, входящие в словарь, как ключи, на их синонимы.\n",
    "5. Напишите функцию fib(n), которая по данному целому неотрицательному n возвращает n-e число Фибоначчи. В этой задаче нельзя использовать циклы — используйте рекурсию.\n",
    "6. Сосчитайте количество строк, слов и букв в  произвольном текстовом файле. (слова разделены пробелом, *\\n* не считается символом)  \n",
    "7. Создайте генератор, выводящий бесконечную геометрическую прогрессию. Параметры прогрессии задаются через аргументы генератора  "
   ]
  },
  {
   "cell_type": "markdown",
   "metadata": {
    "slideshow": {
     "slide_type": "slide"
    }
   },
   "source": [
    "# Лабораторные работы\n",
    "\n",
    "\n",
    "**Важно помнить:** \n",
    "* **весь код оформляется в соответствии с PEP8.**\n",
    "* **код разбивается на функции (вне функций только импорты и вызов основной функции)**\n",
    "* **функции документируются**\n",
    "* **необходимо проверять размер матриц на корректность размерности**"
   ]
  },
  {
   "cell_type": "markdown",
   "metadata": {
    "slideshow": {
     "slide_type": "subslide"
    }
   },
   "source": [
    "### Лабораторная работа 2.1. Перемножение матриц\n",
    "\n",
    "Реализовать скрипт matrix_mult.py\n",
    "\n",
    "Входные параметры скрипта:\n",
    "1. Путь к файлу с матрицами. Например, matrix.txt. Внутри файла заданы две целочисленные матрицы.\n",
    "2. Путь к файлу с результатом работы программы\n",
    "\n",
    "Выходные значения: записывает результирующую матрицу в файл с результатом работы программы  \n",
    "\n",
    "Что должен делать скрипт:   \n",
    "1) Прочитать файл, используя встроенные функции Python для работы с файлами.  \n",
    "2) Преобразовать прочитанные строки в матрицы. Матрицы реализовать используя стандартные типы данных Python. Например, список списков.  \n",
    "3) Найти произведение полученных матриц.  \n",
    "4) Записать результат произведения в выходной файл.  "
   ]
  },
  {
   "cell_type": "markdown",
   "metadata": {
    "slideshow": {
     "slide_type": "subslide"
    }
   },
   "source": [
    "Пример матриц в файле:  \n",
    "  \n",
    "1 2 1 2 0 3 2 4  \n",
    "2 3 5 1 3 7 5 2  \n",
    "1 3 5 8 2 7 0 0  \n",
    "4 5 6 7 2 1 3 5  \n",
    "  \n",
    "4 5 5 5  \n",
    "1 2 3 3  \n",
    "0 0 0 0  \n",
    "0 0 1 1  \n",
    "1 1 2 2  \n",
    "3 2 1 1  \n",
    "-2 -3 -1 0  \n",
    "1 2 3 1 "
   ]
  },
  {
   "cell_type": "markdown",
   "metadata": {
    "slideshow": {
     "slide_type": "subslide"
    }
   },
   "source": [
    "### Лабораторная работа 2.2. Операция свёртки\n",
    "\n",
    "Реализовать скрипт matrix_mult.py\n",
    "\n",
    "Входные параметры скрипта:\n",
    "1. Путь к файлу с матрицами. Например, matrix.txt. Внутри файла заданы две целочисленные матрицы (*размер второй матрицы не больше первой*).  \n",
    "2. Путь к файлу с результатом работы программы\n",
    "\n",
    "Выходные значения: записывает результирующую матрицу в файл с результатом работы программы  \n",
    "\n",
    "Что должен делать скрипт:   \n",
    "1) Прочитать файл, используя встроенные функции Python для работы с файлами.  \n",
    "2) Преобразовать прочитанные строки в матрицы. Матрицы реализовать используя стандартные типы данных Python. Например, список списков.  \n",
    "3) Найти свёртку первой матрицы со второй. Вторую матрицу использовать как ядро свёртки. Не нужно добавлять падинг, не нужно использовать шаг ядра свёртки  != 1.  [Wiki](http://neerc.ifmo.ru/wiki/index.php?title=%D0%A1%D0%B2%D0%B5%D1%80%D1%82%D0%BE%D1%87%D0%BD%D1%8B%D0%B5_%D0%BD%D0%B5%D0%B9%D1%80%D0%BE%D0%BD%D0%BD%D1%8B%D0%B5_%D1%81%D0%B5%D1%82%D0%B8&mobileaction=toggle_view_desktop#.D0.A1.D0.B2.D0.B5.D1.80.D1.82.D0.BE.D1.87.D0.BD.D1.8B.D0.B9_.D1.81.D0.BB.D0.BE.D0.B9) [YouTube](https://youtu.be/vcFPxZMVurQ)  \n",
    "4) Записать результат произведения в выходной файл.  "
   ]
  }
 ],
 "metadata": {
  "celltoolbar": "Slideshow",
  "kernelspec": {
   "display_name": "Python 3",
   "language": "python",
   "name": "python3"
  },
  "language_info": {
   "codemirror_mode": {
    "name": "ipython",
    "version": 3
   },
   "file_extension": ".py",
   "mimetype": "text/x-python",
   "name": "python",
   "nbconvert_exporter": "python",
   "pygments_lexer": "ipython3",
   "version": "3.8.3"
  }
 },
 "nbformat": 4,
 "nbformat_minor": 2
}
