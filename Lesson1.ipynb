{
 "cells": [
  {
   "cell_type": "markdown",
   "metadata": {
    "slideshow": {
     "slide_type": "slide"
    }
   },
   "source": [
    "# Введение в Python"
   ]
  },
  {
   "cell_type": "markdown",
   "metadata": {
    "slideshow": {
     "slide_type": "slide"
    }
   },
   "source": [
    "# Особенности языка Python\n",
    "* Python - интерпретируемый язык программирования;\n",
    "* динамическая типизация;\n",
    "* хорошая поддержка модульности;\n",
    "* встроенная поддержка Unicode в строках;\n",
    "* ООП;\n",
    "* автоматическая сборка мусора, отсутствие утечек памяти;\n",
    "* понятный и лаконичный синтаксис;\n",
    "* огромное количество модулей;\n",
    "* кроссплатформенность."
   ]
  },
  {
   "cell_type": "markdown",
   "metadata": {
    "slideshow": {
     "slide_type": "subslide"
    }
   },
   "source": [
    "## Плюсы Python\n",
    "\n",
    "* Идеален для старта в программировании\n",
    "* Простой\n",
    "* Множество доступных сред разработки\n",
    "* Универсальный\n",
    "* Быстрорастущий\n",
    "* Востребованный на рынке"
   ]
  },
  {
   "cell_type": "markdown",
   "metadata": {
    "slideshow": {
     "slide_type": "subslide"
    }
   },
   "source": [
    "## Минусы Python\n",
    "* Python не самый быстрый среди языков программирования. Скорость выполнения программ может быть ниже.\n",
    "* Не самый удобный язык для мобильных разработок\n",
    "* Из-за гибкости типов данных потребление памяти Python не минимальное"
   ]
  },
  {
   "cell_type": "markdown",
   "metadata": {
    "slideshow": {
     "slide_type": "slide"
    }
   },
   "source": [
    "# Основные операции"
   ]
  },
  {
   "cell_type": "code",
   "execution_count": 1,
   "metadata": {
    "slideshow": {
     "slide_type": "-"
    }
   },
   "outputs": [
    {
     "name": "stdout",
     "output_type": "stream",
     "text": [
      "Hello world!\n",
      "Hello world!\n"
     ]
    }
   ],
   "source": [
    "print('Hello world!')\n",
    "print(\"Hello world!\")"
   ]
  },
  {
   "cell_type": "code",
   "execution_count": 2,
   "metadata": {
    "slideshow": {
     "slide_type": "-"
    }
   },
   "outputs": [
    {
     "name": "stdout",
     "output_type": "stream",
     "text": [
      "3\n",
      "14 49\n"
     ]
    }
   ],
   "source": [
    "print(1 + 2)\n",
    "\n",
    "a = 3 + 4\n",
    "b = a * 2\n",
    "c = a ** 2\n",
    "print(b, c)"
   ]
  },
  {
   "cell_type": "code",
   "execution_count": 3,
   "metadata": {},
   "outputs": [
    {
     "name": "stdout",
     "output_type": "stream",
     "text": [
      "11\n",
      "d = 11\n"
     ]
    }
   ],
   "source": [
    "d = input()\n",
    "print('d =', d)"
   ]
  },
  {
   "cell_type": "markdown",
   "metadata": {
    "slideshow": {
     "slide_type": "subslide"
    }
   },
   "source": [
    "#### Динамическая типизация"
   ]
  },
  {
   "cell_type": "code",
   "execution_count": 3,
   "metadata": {},
   "outputs": [
    {
     "name": "stdout",
     "output_type": "stream",
     "text": [
      "<class 'int'>\n",
      "<class 'float'>\n",
      "<class 'str'>\n",
      "<class 'list'>\n"
     ]
    }
   ],
   "source": [
    "a = 1\n",
    "print(type(a))\n",
    "a = 1.2\n",
    "print(type(a))\n",
    "a = 'Str'\n",
    "print(type(a))\n",
    "a = [1, 1.2, 'Str']\n",
    "print(type(a))"
   ]
  },
  {
   "cell_type": "markdown",
   "metadata": {
    "slideshow": {
     "slide_type": "slide"
    }
   },
   "source": [
    "# Синтаксис\n",
    "* Блоки кода (циклы, условные операторы, функции, ...) выделяются отступом на 2 или 4 пробела или один знак табуляции\n",
    "* Каждая операция с новой строки\n",
    "* Для выполнения нескольких операций в одной строке используется \";\"\n",
    "```python\n",
    "a = 2 + 3; b = 3 * 4\n",
    "```\n",
    "* Комментарии начинаются с # или заключаются в тройные ковычки '''Комментарий'''\n",
    "* Возможно переносить продолжение инструкции на следующую строку\n",
    "* Возможно выполнять несколько операций одновнеменно\n",
    "```python\n",
    "a, b = 2 + 3, 3 * 4\n",
    "a, b = b, a\n",
    "```\n",
    "* При записи нескольких инструкций в одной строке используются скобки\n",
    "```python\n",
    "if (a == 12 and b == 5 or\n",
    "    c == 16):  # В конце инструкции двоеточие\n",
    "      print('Условие выполнено')\n",
    "```"
   ]
  },
  {
   "cell_type": "markdown",
   "metadata": {
    "slideshow": {
     "slide_type": "slide"
    }
   },
   "source": [
    "# PEP8\n",
    "* Используйте 4 пробела на один уровень отступа\n",
    "* Никогда не смешивайте символы табуляции и пробелы\n",
    "* Ограничьте максимальную длину строки 79 символами\n",
    "* Пустые строки:\n",
    " * Отделяйте функции (верхнего уровня, не функции внутри функций) и определения классов двумя пустыми строчками\n",
    " * Определения методов внутри класса отделяйте одной пустой строкой\n",
    " * Дополнительные отступы строками могут быть изредка использованы для выделения группы логически связанных функций\n",
    "* Импортирование разных модулей должно быть на разных строчках\n",
    "  \n"
   ]
  },
  {
   "cell_type": "markdown",
   "metadata": {
    "slideshow": {
     "slide_type": "subslide"
    }
   },
   "source": [
    "  \n",
    "* Комментарии, которые противоречат коду, хуже, чем отсутствие комментариев. Всегда исправляйте комментарии, если меняете код!\n",
    "* Старайтесь реже использовать комментарии в строке с кодом\n",
    "  \n",
    "  \n",
    "* Имена:\n",
    " * Никогда не используйте символы l (малелькая латинская буква «эль»), O (заглавная латинская буква «о») или I (заглавная латинская буква «ай») как однобуквенные идентификаторы\n",
    " * Все имена классов должны следовать соглашению CapWords почти без исключений\n",
    " * Имена функций должны состоять из маленьких букв, а слова разделяться символами подчеркивания — это необходимо, чтобы увеличить читабельность\n",
    " \n",
    "и [другие правила](https://pythonworld.ru/osnovy/pep-8-rukovodstvo-po-napisaniyu-koda-na-python.html)"
   ]
  },
  {
   "cell_type": "markdown",
   "metadata": {
    "slideshow": {
     "slide_type": "slide"
    }
   },
   "source": [
    "# Условный оператор\n",
    "Условный оператор имеет следующий синтаксис:\n",
    "```python\n",
    "if a == 13:\n",
    "    print('Выполнено условие 1')\n",
    "elif (a == 12 and 0 <= b <= 20):\n",
    "    print('Выполнено условие 2')\n",
    "else:\n",
    "    print('Ни одно из условий не выполнено')\n",
    "```\n",
    "#### Ложные объекты\n",
    "* Пустые объекты: списки, множества, строки, ...\n",
    "* Число 0\n",
    "* Значение None\n"
   ]
  },
  {
   "cell_type": "markdown",
   "metadata": {
    "slideshow": {
     "slide_type": "subslide"
    }
   },
   "source": [
    "#### Логические операторы:\n",
    "```python\n",
    "a and b\n",
    "a or b\n",
    "not a\n",
    "```\n",
    "#### Трехместное выражение if/else\n",
    "\n",
    "```python\n",
    "if a == 13:\n",
    "    c = 11\n",
    "else:\n",
    "    c = 0\n",
    "```\n",
    "Можно заменить на\n",
    "```python\n",
    "c = 11 if a == 13 else 0\n",
    "```"
   ]
  },
  {
   "cell_type": "markdown",
   "metadata": {
    "slideshow": {
     "slide_type": "slide"
    }
   },
   "source": [
    "# Циклы\n",
    "Цикл **while**\n",
    "```python\n",
    "i = 1\n",
    "while i <= 10:\n",
    "    print(i)\n",
    "    i += 1  # Выведет числа от 1 до 10\n",
    "```\n",
    "Цикл **for**\n",
    "```python\n",
    "for i in range(1, 11):\n",
    "    print(i)  # Выведет числа от 1 до 10\n",
    "```\n",
    "_range(start, stop, step) - функция, возвращающая итератор от start до stop с шагом step_\n",
    "\n"
   ]
  },
  {
   "cell_type": "markdown",
   "metadata": {
    "slideshow": {
     "slide_type": "subslide"
    }
   },
   "source": [
    "Оператор **continue** - оператор, который начинает следующую итерацию цикла\n",
    "```python\n",
    "for i in range(1, 11):\n",
    "    if i == 5:\n",
    "        continue\n",
    "    print(i)  # Выведет числа от 1 до 10 за исключением 5\n",
    "```\n",
    "Оператор **break** - оператор, который прерывает цикл\n",
    "```python\n",
    "for i in range(1, 11):\n",
    "    if i == 5:\n",
    "        break\n",
    "    print(i)  # Выведет числа от 1 до 4\n",
    "```\n",
    "Окончание цикла\n",
    "Если цикл завершился без прерывания, то выполняется условие **else**\n",
    "```python\n",
    "for i in range(1, 11):\n",
    "    print(i)\n",
    "else:\n",
    "    print('Цикл завершился корректно')\n",
    "```"
   ]
  },
  {
   "cell_type": "markdown",
   "metadata": {
    "slideshow": {
     "slide_type": "slide"
    }
   },
   "source": [
    "# Числа\n",
    "#### Целочисленные (int)\n",
    "* Операции +, -, *, /\n",
    "* Целая часть и остаток от деления //, %\n",
    "* Модуль числа *abs(a)*\n",
    "* Возведение в степень *a ** b*\n",
    "#### Вещественные (float)\n",
    "* d = 1.6\n",
    "* Округление числа *round(d)  # 2*\n",
    "* Получение целой части *int(d)  # 1*\n",
    "* Ошибки операций с вещественными числами *0.1 + 0.1 + 0.1 + 0.1 + 0.1 + 0.1 + 0.1 + 0.1 + 0.1 + 0.1  # 0.999999*\n",
    "* Перевод целочисленного в вещественное *float(1)  # 1.0*"
   ]
  },
  {
   "cell_type": "markdown",
   "metadata": {
    "slideshow": {
     "slide_type": "subslide"
    }
   },
   "source": [
    "#### Битовые операции\n",
    "* Побитовое или *a | b*\n",
    "* Побитовое и *a & b*\n",
    "* Инверсия битов *~a*\n",
    "* Побитовое исключающее или *x ^ y*\n",
    "* Битовый сдвиг влево *a << c*\n",
    "* Битовый сдвиг вправо *a >> c*\n",
    "\n",
    "#### Комплексные числа\n",
    "* *x = complex(1, 2)*  \n",
    "или\n",
    "* *x = 1 + 2j*\n",
    "* Операции +, -, *, /\n",
    "* Мнимая часть *x.imag*\n",
    "* Действительная часть *x.real*"
   ]
  },
  {
   "cell_type": "markdown",
   "metadata": {
    "slideshow": {
     "slide_type": "slide"
    }
   },
   "source": [
    "# Модули math, random\n",
    "Подключение модулей"
   ]
  },
  {
   "cell_type": "code",
   "execution_count": 14,
   "metadata": {},
   "outputs": [],
   "source": [
    "import math\n",
    "import random"
   ]
  },
  {
   "cell_type": "markdown",
   "metadata": {
    "slideshow": {
     "slide_type": "subslide"
    }
   },
   "source": [
    "Модуль math содержит различные математические операции\n",
    "```python\n",
    "# Округление вверх и вниз\n",
    "math.ceil(d)\n",
    "math.floor(d)\n",
    "# Тригонометрические и гиперболические функции\n",
    "math.sin(d)\n",
    "math.cos(d)\n",
    "math.tan(d)\n",
    "math.acos(d)\n",
    "math.asin(d)\n",
    "math.tanh(d)\n",
    "math.sinh(d)\n",
    "# Математические константы\n",
    "math.pi\n",
    "math.e\n",
    "```"
   ]
  },
  {
   "cell_type": "code",
   "execution_count": 18,
   "metadata": {
    "slideshow": {
     "slide_type": "subslide"
    }
   },
   "outputs": [
    {
     "name": "stdout",
     "output_type": "stream",
     "text": [
      "Площадь конуса = 134.0412865531645\n",
      "Гипотенуза = 5.0\n"
     ]
    }
   ],
   "source": [
    "# Объём конуса высотой 8 и радиусом основания 4\n",
    "s = 1 / 3 * math.pi * 4 ** 2 * 8\n",
    "# Гипотенуза для треугольник с катетами 3 и 4\n",
    "h = math.sqrt(3 ** 2 + 4 ** 2)\n",
    "\n",
    "print('Площадь конуса =', s)\n",
    "print('Гипотенуза =', h)"
   ]
  },
  {
   "cell_type": "markdown",
   "metadata": {
    "slideshow": {
     "slide_type": "subslide"
    }
   },
   "source": [
    "Модуль random содержит различные операции по работе со случайными числами и выборками\n",
    "```python\n",
    "# Случайное число от 0 до 1\n",
    "random.random()\n",
    "# Случайное целое число из отрезка [a, b]\n",
    "random.randint(a, b)\n",
    "# Случайное число последовательности\n",
    "random.choice(sequence)\n",
    "# Перемешивание последовательности\n",
    "random.shuffle(sequence)\n",
    "# Инициализация генератора случайных чисел\n",
    "random.seed(c)\n",
    "```"
   ]
  },
  {
   "cell_type": "code",
   "execution_count": 19,
   "metadata": {
    "slideshow": {
     "slide_type": "subslide"
    }
   },
   "outputs": [
    {
     "name": "stdout",
     "output_type": "stream",
     "text": [
      "41, 8, 2, 18, 16, 15, 9, 7, 35, 6, \n",
      "41, 41, 41, 41, 41, 41, 41, 41, 41, 41, "
     ]
    }
   ],
   "source": [
    "random.seed(42)  # Задаём воспроизводимость внутри ячейки\n",
    "for i in range(10):\n",
    "    print(random.randint(1, 43), end=', ')\n",
    "print()\n",
    "\n",
    "for i in range(10):\n",
    "    random.seed(42)  # Задаём воспроизводимость внутри цикла\n",
    "    print(random.randint(1, 43), end=', ')"
   ]
  },
  {
   "cell_type": "markdown",
   "metadata": {
    "slideshow": {
     "slide_type": "slide"
    }
   },
   "source": [
    "# Модуль os\n",
    "Подключение модуля"
   ]
  },
  {
   "cell_type": "code",
   "execution_count": 15,
   "metadata": {},
   "outputs": [],
   "source": [
    "import os"
   ]
  },
  {
   "cell_type": "markdown",
   "metadata": {
    "slideshow": {
     "slide_type": "subslide"
    }
   },
   "source": [
    "Модуль os предоставляет множество функций для работы с операционной системой, причём их поведение, как правило, не зависит от ОС, поэтому программы остаются переносимыми.\n",
    "\n",
    "```python\n",
    "os.environ  # словарь переменных окружения. Изменяемый (можно добавлять и удалять переменные окружения)\n",
    "\n",
    "os.getcwd()  # текущая рабочая директория\n",
    "\n",
    "os.listdir(path=\".\")  # список файлов и директорий в папке\n",
    "\n",
    "os.mkdir(path, mode=0o777, *, dir_fd=None)  # создаёт директорию. OSError, если директория существует\n",
    "os.makedirs(path, mode=0o777, exist_ok=False)  # создаёт директорию, создавая при этом промежуточные директории.\n",
    "\n",
    "os.rmdir(path, *, dir_fd=None)  # удаляет пустую директорию\n",
    "# удаляет директорию, затем пытается удалить родительские директории. Удаляет их рекурсивно, пока они пусты\n",
    "os.removedirs(path)  \n",
    "```"
   ]
  },
  {
   "cell_type": "markdown",
   "metadata": {
    "slideshow": {
     "slide_type": "subslide"
    }
   },
   "source": [
    "**os.path** является вложенным модулем в модуль os, и реализует некоторые полезные функции для работы с путями.\n",
    "\n",
    "```python\n",
    "os.path.abspath(path)  # возвращает нормализованный абсолютный путь\n",
    "\n",
    "os.path.basename(path)  # базовое имя пути\n",
    "os.path.dirname(path)  # возвращает имя директории пути path\n",
    "\n",
    "os.path.exists(path)  # возвращает True, если path указывает на существующий путь\n",
    "\n",
    "os.path.isfile(path)  # является ли путь файлом\n",
    "os.path.isdir(path)  # является ли путь директорией\n",
    "\n",
    "os.path.join(path1[, path2[, ...]])  # соединяет пути с учётом особенностей операционной системы.\n",
    "```"
   ]
  },
  {
   "cell_type": "code",
   "execution_count": 26,
   "metadata": {
    "slideshow": {
     "slide_type": "subslide"
    }
   },
   "outputs": [
    {
     "name": "stdout",
     "output_type": "stream",
     "text": [
      "Файлы: ['Lesson1.ipynb', '.ipynb_checkpoints']\n",
      "Абсолютный путь /home/user/Projects/Lessons2/Lesson1.ipynb\n",
      "Директория? False\n"
     ]
    }
   ],
   "source": [
    "# Список файлов в нынешней папке\n",
    "print('Файлы:', os.listdir('./'))\n",
    "# Абсолютный путь до файла\n",
    "filename = './Lesson1.ipynb'\n",
    "print('Абсолютный путь', os.path.abspath(filename))\n",
    "# Проверка, является ли файл директорией\n",
    "print('Директория?', os.path.isdir(filename))"
   ]
  },
  {
   "cell_type": "markdown",
   "metadata": {
    "slideshow": {
     "slide_type": "slide"
    }
   },
   "source": [
    "# Jupyter notebook\n",
    "![alt text](https://jupyter.org/assets/nav_logo.svg \"Jupyter logo\")\n",
    "* Выполнение кода по частям (блоками)\n",
    "* Возможность редактирования кода во время выполнения\n",
    "* Вывод результатов внутри ноутбука\n",
    "* Возможность добавлять описания с помощью языка разметки Markdown\n",
    "* Работа на сервере из любого места"
   ]
  },
  {
   "cell_type": "markdown",
   "metadata": {
    "slideshow": {
     "slide_type": "slide"
    }
   },
   "source": [
    "### Работа в Jupyter notebook\n",
    "#### Установка\n",
    "* На сайте [anaconda.com](http://anaconda.com) скачайте пакет библиотек для Python Anaconda (содержит самые популярные библиотеки) для вашей системы\n",
    "* Установите пакет\n",
    "\n",
    "#### Запуск\n",
    "* В командной строке/териминале/anaconda prompt введите команду **jupyter notebook** или запустите приложение Jupyter Notebook\n",
    "* Jupyter Notebook будет доступен в браузере по адресу [localhost:8888](http://localhost:8888). Если порт 8888 занят, то будет автоматически выбран следующий свободный (8889, 8890 и т.д.)\n",
    "* Если есть необходимость ввести токкен для входа, то его можно узнать в терминале с запущенным jupyter notebook"
   ]
  },
  {
   "cell_type": "markdown",
   "metadata": {
    "slideshow": {
     "slide_type": "subslide"
    }
   },
   "source": [
    "### Работа в Jupyter notebook\n",
    "#### Особенности\n",
    "* Каждый логический блок должен находиться внутри одной ячейки\n",
    "* Переменные хранят своё состояние до перезапуска ядра ноутбука (удаление, измение содержимого ячеек или перезагрузка страницы не влияют на переменные)\n",
    "* Большие логические блоки кода лучше описывать с помощью ячеек в режиме Markdown\n",
    "* Результат выполнения последней строки кода в ячейке выводится в Out\n"
   ]
  },
  {
   "cell_type": "markdown",
   "metadata": {
    "slideshow": {
     "slide_type": "slide"
    }
   },
   "source": [
    "# Задания:\n",
    "1. Сгенерировать случайное трехзначное число. Вычислить сумму его цифр.  \n",
    "2. Сгенерировать случайное число. Вычислить сумму его цифр.  \n",
    "3. Задаётся радиус сферы, найти площадь её поверхности и объём.\n",
    "4. Задаётся год. Определить, является ли он високосным.\n",
    "5. Определить все числа из диапазона 1, N, являющиеся простыми.\n",
    "6. Пользователь делает вклад в размере X рублей сроком на Y лет под 10% годовых (каждый год размер его вклада увеличивается на 10%. Эти деньги прибавляются к сумме вклада, и на них в следующем году тоже будут проценты). Вычислить сумму, которая будет на счету пользователя.\n",
    "7. Вывесть все файлы, находящиеся в папке и её подпапках с помощью их абсолютных имён. Имя папки задаётся абсолютным или относительным именем."
   ]
  },
  {
   "cell_type": "markdown",
   "metadata": {
    "slideshow": {
     "slide_type": "slide"
    }
   },
   "source": [
    "# Лабораторные работы\n",
    "\n",
    "\n",
    "**Важно помнить: весь код оформляется в соответствии с PEP8.**"
   ]
  },
  {
   "cell_type": "markdown",
   "metadata": {
    "slideshow": {
     "slide_type": "subslide"
    }
   },
   "source": [
    "### Лабораторная работа 1. Пузырьковая сортировка.\n",
    "\n",
    "Реализовать скрипт bubble_sort.py\n",
    "\n",
    "Входные параметры скрипта: целое число = длина списка\n",
    "Выходные значения: выводит отсортированный список на экран\n",
    "\n",
    "Что должен делать скрипт:   \n",
    "1) Распарсить входные параметры скрипта с помощью [argparse](https://docs.python.org/3/library/argparse.html)  \n",
    "2) Создать список случайных значений от 0 до 1 длины N (подаётся в качестве входного значения скрипта, получается в пункте 1)  \n",
    "3) Реализовать пузырьковую сортировку с помощью операторов for и if. Никаких sorted!  \n",
    "4) Вывести значения на экран  \n"
   ]
  },
  {
   "cell_type": "markdown",
   "metadata": {
    "slideshow": {
     "slide_type": "subslide"
    }
   },
   "source": [
    "### Лабораторная работа 2. Треугольник Паскаля\n",
    "\n",
    "Реализовать скрипт pascal_triangle.py\n",
    "\n",
    "Входные параметры скрипта: высота треугольника = количество строк в нём\n",
    "Выходные значения: выводит треугольник Паскаля на экран\n",
    "    \n",
    "Что должен делать скрипт:  \n",
    "1) Распарсить входные параметры скрипта с помощью [argparse](https://docs.python.org/3/library/argparse.html)  \n",
    "2) Построить [треугольник Паскаля](https://ru.wikipedia.org/wiki/%D0%A2%D1%80%D0%B5%D1%83%D0%B3%D0%BE%D0%BB%D1%8C%D0%BD%D0%B8%D0%BA_%D0%9F%D0%B0%D1%81%D0%BA%D0%B0%D0%BB%D1%8F) из N строк (подаётся в качестве входного значения скрипта, получается в пункте 1)  \n",
    "3) Вывести треугольник на экран. Обратите внимание, что треугольник должен выводиться в формате равнобедренного треугольника. Для этого в начале каждой строки необходимо добавить нужное число пробелов.\n"
   ]
  }
 ],
 "metadata": {
  "celltoolbar": "Slideshow",
  "kernelspec": {
   "display_name": "Python 3",
   "language": "python",
   "name": "python3"
  },
  "language_info": {
   "codemirror_mode": {
    "name": "ipython",
    "version": 3
   },
   "file_extension": ".py",
   "mimetype": "text/x-python",
   "name": "python",
   "nbconvert_exporter": "python",
   "pygments_lexer": "ipython3",
   "version": "3.8.3"
  }
 },
 "nbformat": 4,
 "nbformat_minor": 2
}
