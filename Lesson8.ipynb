{
 "cells": [
  {
   "cell_type": "markdown",
   "metadata": {
    "slideshow": {
     "slide_type": "slide"
    }
   },
   "source": [
    "# Введение Машинное обучение"
   ]
  },
  {
   "cell_type": "markdown",
   "metadata": {
    "slideshow": {
     "slide_type": "slide"
    }
   },
   "source": [
    "# Что такое машинное обучение\n",
    "Машинное обучение (Machine Learning) — обширный подраздел искусственного интеллекта, \n",
    "изучающий методы построения алгоритмов, способных обучаться.   \n",
    "\n",
    "Различают два типа обучения: \n",
    "* Обучение по прецедентам, или индуктивное обучение (обучение без учителя), \n",
    "основано на выявлении общих закономерностей по частным эмпирическим данным.   \n",
    "* Дедуктивное обучение (обучение с учителем) предполагает формализацию знаний экспертов и их перенос в компьютер в виде базы знаний.  \n",
    "Дедуктивное обучение принято относить к области экспертных систем, поэтому термины машинное обучение и обучение по прецедентам можно считать синонимами.  \n"
   ]
  },
  {
   "cell_type": "markdown",
   "metadata": {
    "slideshow": {
     "slide_type": "subslide"
    }
   },
   "source": [
    "### Решаемые задачи:\n",
    "* Предсказание спроса\n",
    "* Распознавание изображений\n",
    "* Распознавание людей\n",
    "* Определение возраста\n",
    "* Детектирование объектов\n",
    "* Определение позы\n",
    "* Чат-боты\n",
    "* Переводчики"
   ]
  },
  {
   "cell_type": "markdown",
   "metadata": {
    "slideshow": {
     "slide_type": "subslide"
    }
   },
   "source": [
    "![alt text](https://banner2.kisspng.com/20180419/qzq/kisspng-object-detection-deep-learning-convolutional-neura-taobao-real-shot-5ad9392f2abcb5.7623907415241853911751.jpg \"Detection\")"
   ]
  },
  {
   "cell_type": "markdown",
   "metadata": {
    "slideshow": {
     "slide_type": "subslide"
    }
   },
   "source": [
    "![alt text](https://1.bp.blogspot.com/-1rNIXR8OGxk/WDfrkuzNbvI/AAAAAAAABew/SM1A4UqYwIAeL9wtVMjT0nFyGx4iorK2wCLcB/s640/image01.gif \"Translation\")\n"
   ]
  },
  {
   "cell_type": "markdown",
   "metadata": {
    "slideshow": {
     "slide_type": "slide"
    }
   },
   "source": [
    "# Основные задачи машинного обучения"
   ]
  },
  {
   "cell_type": "markdown",
   "metadata": {},
   "source": [
    "__Задача классификации__ — задача, в которой имеется множество объектов (ситуаций), разделённых некоторым образом на классы.\n",
    "\n",
    "Примеры задач классификации:\n",
    "* Задачи медицинской диагностики\n",
    "* Предсказание месторождений полезных ископаемых\n",
    "* Предсказание оттока клиентов\n",
    "* Оптическое распознавание символов\n",
    "* Обнаружение спама\n",
    "* Предсказание возраста\n",
    "\n"
   ]
  },
  {
   "cell_type": "markdown",
   "metadata": {
    "slideshow": {
     "slide_type": "subslide"
    }
   },
   "source": [
    "__Задача регрессии__ - задача, которая позволяет определить по известным характеристикам объекта значение некоторого его параметра. В отличие от задачи классификации значением параметра является не конечное множество классов, а множество действительных чисел.\n",
    "\n",
    "Примеры задач регрессии:\n",
    "* Восстановление зависимости переменных\n",
    "* Предсказание добычи\n",
    "* Предсказание возраста"
   ]
  },
  {
   "cell_type": "markdown",
   "metadata": {
    "slideshow": {
     "slide_type": "subslide"
    }
   },
   "source": [
    "__Задача кластеризации__ - задача, которая заключается в поиске независимых групп (кластеров) и их характеристик во всем множестве анализируемых данных. Решение этой задачи помогает лучше понять данные. Кроме того, группировка однородных объектов позволяет сократить их число, а следовательно, и облегчить анализ.\n",
    "\n",
    "Примеры задач кластеризации:\n",
    "* Разбиение клиентов на целевые группы\n",
    "* Выделение групп людей на основе графа связей в социальных сетях\n",
    "* Повышение релевантности ответов на поисковые запросы путем группировки веб-сайтов по смысловым значениям поискового запроса\n",
    "* Кластеризация используется в сегментации изображений для определения границ и распознавания объектов"
   ]
  },
  {
   "cell_type": "markdown",
   "metadata": {
    "slideshow": {
     "slide_type": "slide"
    }
   },
   "source": [
    "# Scikit-learn"
   ]
  },
  {
   "cell_type": "markdown",
   "metadata": {
    "slideshow": {
     "slide_type": "-"
    }
   },
   "source": [
    "Для работы с Машинным обучением в Python используется библиотека Scikit-learn.  \n",
    "\n",
    "__Библиотека Scikit-learn__ — самый распространенный выбор для решения задач классического машинного обучения. Она предоставляет широкий выбор алгоритмов обучения с учителем и без учителя. Одно из основных преимуществ библиотеки состоит в том, что она работает на основе нескольких распространенных математических библиотек, и легко интегрирует их друг с другом. Еще одним преимуществом является широкое сообщество и подробная документация. \n"
   ]
  },
  {
   "cell_type": "markdown",
   "metadata": {
    "slideshow": {
     "slide_type": "subslide"
    }
   },
   "source": [
    "Библиотека реализует следующие основные методы:\n",
    "\n",
    "* __Линейные__: модели, задача которых построить разделяющую (для классификации) или аппроксимирующую (для регрессии) гиперплоскость.\n",
    "* __Деревья решений__: обучение моделей, базирующихся на множестве условий, оптимально выбранных для решения задачи.\n",
    "* __Ансамблевые методы__: методы, основанные на деревьях решений, которые комбинируют мощь множества деревьев, и таким образом повышают их качество работы, а также позволяют производить отбор признаков (бустинг, бэггинг, случайный лес, мажоритарное голосование).\n",
    "* __Нейронные сети__: комплексный нелинейный метод для задач регрессии и классификации.\n",
    "* __SVM__: нелинейный метод, который обучается определять границы принятия решений.\n",
    "* __Наивный Байес__: прямое вероятностное моделирование для задач классификации.\n",
    "* __PCA__: линейный метод понижения размерности и отбора признаков\n",
    "* __t-SNE__: нелинейный метод понижения размерности.\n",
    "* __K-средних__: самый распространенный метод для кластеризации, требущий на вход число кластеров, по которым должны быть распределены данные."
   ]
  },
  {
   "cell_type": "markdown",
   "metadata": {
    "slideshow": {
     "slide_type": "slide"
    }
   },
   "source": [
    "# Цель работы с данными на примере SVM"
   ]
  },
  {
   "cell_type": "markdown",
   "metadata": {},
   "source": [
    "Большинство моделей для машинного обучения представляют собой математические модели с обучаемыми коэффициентами.  \n",
    "К примеру, Машина Опорных Векторов задаётся гиперплоскостями, которые разделяют заданные характеристики на 2 группы. Параметры этих плоскостей являются обучаемыми параметрами"
   ]
  },
  {
   "cell_type": "markdown",
   "metadata": {
    "slideshow": {
     "slide_type": "subslide"
    }
   },
   "source": [
    "<img src=\"images/LessonsI/SVM1.png\" alt=\"SVM\" height=40% width=40%>"
   ]
  },
  {
   "cell_type": "markdown",
   "metadata": {
    "slideshow": {
     "slide_type": "subslide"
    }
   },
   "source": [
    "Множество точек ${(x_1, c_1), (x_2, c_2), ..., (x_n, c_n)}$, где $c_i$ - класс (1 или -1), а $x_i$ - вектор координат точек.   \n",
    "**Задача**: задать гиперплоскость $wx + b = 0$, которая бы наилучшим образом разделяла эти классы  \n",
    "Вектор $w$   — перпендикуляр к разделяющей гиперплоскости.  \n",
    "Параметр $b \\over {||w||}$ равен по модулю расстоянию от гиперплоскости до начала координат.  \n",
    "  \n",
    "Для оптимального разделения строятся 2 параллельные плоскости $wx + b = 1$ и $wx + b = -1$. Расстояние между ними равно $2 \\over {||w||}$"
   ]
  },
  {
   "cell_type": "markdown",
   "metadata": {
    "slideshow": {
     "slide_type": "subslide"
    }
   },
   "source": [
    "<img src=\"images/LessonsI/SVM.jpg\" alt=\"SVM\" height=60% width=60%>"
   ]
  },
  {
   "cell_type": "markdown",
   "metadata": {
    "slideshow": {
     "slide_type": "subslide"
    }
   },
   "source": [
    "Задача сводится к минимизации w и выполнении для всех i:\n",
    "$$\n",
    "\\begin{cases}\n",
    "w  x_i - b \\geq 1 &{c_i = 1} \\\\\n",
    "w  x_i - b \\leq -1 &{c_i = -1} \\\n",
    "\\end{cases}\n",
    "$$"
   ]
  },
  {
   "cell_type": "markdown",
   "metadata": {
    "slideshow": {
     "slide_type": "slide"
    }
   },
   "source": [
    "# Аналитика данных"
   ]
  },
  {
   "cell_type": "code",
   "execution_count": 1,
   "metadata": {
    "slideshow": {
     "slide_type": "subslide"
    }
   },
   "outputs": [],
   "source": [
    "import matplotlib.pyplot as plt\n",
    "import numpy as np\n",
    "\n",
    "%matplotlib inline"
   ]
  },
  {
   "cell_type": "code",
   "execution_count": 2,
   "metadata": {},
   "outputs": [],
   "source": [
    "np.random.seed(18182)\n",
    "xs = np.arange(10)\n",
    "ys1 = np.random.randint(10, size=10)\n",
    "ys2 = np.random.randint(10, size=10)"
   ]
  },
  {
   "cell_type": "code",
   "execution_count": 15,
   "metadata": {
    "slideshow": {
     "slide_type": "subslide"
    }
   },
   "outputs": [
    {
     "data": {
      "image/png": "[encoded data removed]",
      "text/plain": [
       "<Figure size 432x288 with 1 Axes>"
      ]
     },
     "metadata": {
      "needs_background": "light"
     },
     "output_type": "display_data"
    }
   ],
   "source": [
    "# Рисовании линии\n",
    "plt.plot(xs, ys1, label='Линия')\n",
    "# Рисовании точек\n",
    "plt.scatter(xs, ys2,color='red', label='Точки', marker='<')\n",
    "# Подписи осей\n",
    "plt.xlabel('Ось X')\n",
    "plt.ylabel('Ось Y')\n",
    "\n",
    "plt.title('Какие-то точки')  # Заголовок\n",
    "plt.grid()  # Добавление сетки координат\n",
    "plt.legend()  # Добавление легенды\n",
    "plt.show()"
   ]
  },
  {
   "cell_type": "code",
   "execution_count": 4,
   "metadata": {
    "slideshow": {
     "slide_type": "subslide"
    }
   },
   "outputs": [
    {
     "data": {
      "image/png": "[encoded data removed]",
      "text/plain": [
       "<Figure size 432x288 with 1 Axes>"
      ]
     },
     "metadata": {
      "needs_background": "light"
     },
     "output_type": "display_data"
    },
    {
     "data": {
      "image/png": "[encoded data removed]",
      "text/plain": [
       "<Figure size 432x288 with 1 Axes>"
      ]
     },
     "metadata": {
      "needs_background": "light"
     },
     "output_type": "display_data"
    }
   ],
   "source": [
    "# Столбцы\n",
    "plt.bar(xs, ys1)\n",
    "plt.show()\n",
    "\n",
    "plt.bar(xs, ys1)\n",
    "plt.bar(xs, ys2, bottom=ys1)\n",
    "plt.show()"
   ]
  },
  {
   "cell_type": "code",
   "execution_count": 7,
   "metadata": {
    "slideshow": {
     "slide_type": "subslide"
    }
   },
   "outputs": [
    {
     "data": {
      "image/png": "[encoded data removed]",
      "text/plain": [
       "<Figure size 432x288 with 1 Axes>"
      ]
     },
     "metadata": {
      "needs_background": "light"
     },
     "output_type": "display_data"
    }
   ],
   "source": [
    "plt.bar(xs, ys1, width=0.3)\n",
    "plt.bar(xs+0.2, ys2, width=0.3)\n",
    "plt.grid()\n",
    "plt.show()"
   ]
  },
  {
   "cell_type": "code",
   "execution_count": 8,
   "metadata": {
    "slideshow": {
     "slide_type": "subslide"
    }
   },
   "outputs": [
    {
     "data": {
      "image/png": "[encoded data removed]",
      "text/plain": [
       "<Figure size 432x288 with 1 Axes>"
      ]
     },
     "metadata": {
      "needs_background": "light"
     },
     "output_type": "display_data"
    },
    {
     "data": {
      "image/png": "[encoded data removed]",
      "text/plain": [
       "<Figure size 432x288 with 1 Axes>"
      ]
     },
     "metadata": {
      "needs_background": "light"
     },
     "output_type": "display_data"
    }
   ],
   "source": [
    "# Гистограмма\n",
    "np.random.seed(18182)\n",
    "vals = np.random.rand(1000)\n",
    "plt.hist(vals, bins=100)\n",
    "plt.show()\n",
    "plt.hist(vals, bins=10)\n",
    "plt.show()"
   ]
  },
  {
   "cell_type": "code",
   "execution_count": 13,
   "metadata": {
    "slideshow": {
     "slide_type": "subslide"
    }
   },
   "outputs": [
    {
     "name": "stdout",
     "output_type": "stream",
     "text": [
      "Mean: 0.0033, Std: 1.0\n"
     ]
    },
    {
     "data": {
      "image/png": "[encoded data removed]",
      "text/plain": [
       "<Figure size 432x288 with 1 Axes>"
      ]
     },
     "metadata": {
      "needs_background": "light"
     },
     "output_type": "display_data"
    }
   ],
   "source": [
    "np.random.seed(18182)\n",
    "vals = np.random.normal(size=10000)\n",
    "mn, std = vals.mean(), vals.std()\n",
    "print(f'Mean: {mn:.2}, Std: {std:.2}')\n",
    "plt.hist(vals, bins=100)\n",
    "plt.axvline(mn - 3*std, color='red')\n",
    "plt.axvline(mn + 3*std, color='red')\n",
    "plt.show()"
   ]
  },
  {
   "cell_type": "markdown",
   "metadata": {
    "slideshow": {
     "slide_type": "slide"
    }
   },
   "source": [
    "# Визуализация в pandas"
   ]
  },
  {
   "cell_type": "code",
   "execution_count": 16,
   "metadata": {
    "slideshow": {
     "slide_type": "subslide"
    }
   },
   "outputs": [
    {
     "data": {
      "text/html": [
       "<div>\n",
       "<style scoped>\n",
       "    .dataframe tbody tr th:only-of-type {\n",
       "        vertical-align: middle;\n",
       "    }\n",
       "\n",
       "    .dataframe tbody tr th {\n",
       "        vertical-align: top;\n",
       "    }\n",
       "\n",
       "    .dataframe thead th {\n",
       "        text-align: right;\n",
       "    }\n",
       "</style>\n",
       "<table border=\"1\" class=\"dataframe\">\n",
       "  <thead>\n",
       "    <tr style=\"text-align: right;\">\n",
       "      <th></th>\n",
       "      <th>API</th>\n",
       "      <th>PermitDate</th>\n",
       "      <th>SpudDate</th>\n",
       "      <th>CompletionDate</th>\n",
       "      <th>FirstProductionDate</th>\n",
       "      <th>operatorNameIHS</th>\n",
       "      <th>formation</th>\n",
       "      <th>BasinName</th>\n",
       "      <th>StateName</th>\n",
       "      <th>CountyName</th>\n",
       "      <th>LatWGS84</th>\n",
       "      <th>LonWGS84</th>\n",
       "      <th>BottomHoleLatitude</th>\n",
       "      <th>BottomHoleLongitude</th>\n",
       "      <th>LATERAL_LENGTH_BLEND</th>\n",
       "      <th>PROP_PER_FOOT</th>\n",
       "      <th>WATER_PER_FOOT</th>\n",
       "    </tr>\n",
       "  </thead>\n",
       "  <tbody>\n",
       "    <tr>\n",
       "      <th>0</th>\n",
       "      <td>5005072170100</td>\n",
       "      <td>2014-05-06</td>\n",
       "      <td>2014-05-06</td>\n",
       "      <td>2014-12-02</td>\n",
       "      <td>2014-11-01 00:00:00.000</td>\n",
       "      <td>BURLINGTON RESOURCES O&amp;G CO LP</td>\n",
       "      <td>NIOBRARA</td>\n",
       "      <td>DENVER BASIN</td>\n",
       "      <td>COLORADO</td>\n",
       "      <td>ARAPAHOE</td>\n",
       "      <td>39.684606</td>\n",
       "      <td>-104.642128</td>\n",
       "      <td>39.68445</td>\n",
       "      <td>-104.60557</td>\n",
       "      <td>9005.0</td>\n",
       "      <td>994.6866</td>\n",
       "      <td>591.8004</td>\n",
       "    </tr>\n",
       "    <tr>\n",
       "      <th>1</th>\n",
       "      <td>5123377130000</td>\n",
       "      <td>2013-07-21</td>\n",
       "      <td>2013-10-06</td>\n",
       "      <td>2014-02-26</td>\n",
       "      <td>2014-02-01 00:00:00.000</td>\n",
       "      <td>SRC ENERGY INCORPORATED</td>\n",
       "      <td>NIOBRARA</td>\n",
       "      <td>DENVER BASIN</td>\n",
       "      <td>COLORADO</td>\n",
       "      <td>WELD</td>\n",
       "      <td>40.509320</td>\n",
       "      <td>-104.780980</td>\n",
       "      <td>40.49692</td>\n",
       "      <td>-104.77859</td>\n",
       "      <td>4195.0</td>\n",
       "      <td>991.5857</td>\n",
       "      <td>628.6321</td>\n",
       "    </tr>\n",
       "    <tr>\n",
       "      <th>2</th>\n",
       "      <td>5123379280000</td>\n",
       "      <td>2013-09-08</td>\n",
       "      <td>2013-09-25</td>\n",
       "      <td>2014-09-07</td>\n",
       "      <td>2013-11-01 00:00:00.000</td>\n",
       "      <td>BONANZA CREEK ENERGY OPERATING CO LLC</td>\n",
       "      <td>NIOBRARA</td>\n",
       "      <td>DENVER BASIN</td>\n",
       "      <td>COLORADO</td>\n",
       "      <td>WELD</td>\n",
       "      <td>40.335390</td>\n",
       "      <td>-104.363000</td>\n",
       "      <td>40.34780</td>\n",
       "      <td>-104.36863</td>\n",
       "      <td>4273.0</td>\n",
       "      <td>1000.2760</td>\n",
       "      <td>564.4841</td>\n",
       "    </tr>\n",
       "    <tr>\n",
       "      <th>3</th>\n",
       "      <td>5123379400000</td>\n",
       "      <td>2013-09-11</td>\n",
       "      <td>2014-12-05</td>\n",
       "      <td>2015-03-31</td>\n",
       "      <td>2015-03-01 00:00:00.000</td>\n",
       "      <td>NOBLE ENERGY INCORPORATED</td>\n",
       "      <td>NIOBRARA</td>\n",
       "      <td>DENVER BASIN</td>\n",
       "      <td>COLORADO</td>\n",
       "      <td>WELD</td>\n",
       "      <td>40.152220</td>\n",
       "      <td>-104.530780</td>\n",
       "      <td>40.17445</td>\n",
       "      <td>-104.52932</td>\n",
       "      <td>7078.0</td>\n",
       "      <td>973.4437</td>\n",
       "      <td>824.0020</td>\n",
       "    </tr>\n",
       "    <tr>\n",
       "      <th>4</th>\n",
       "      <td>5123385820100</td>\n",
       "      <td>2014-01-07</td>\n",
       "      <td>2014-01-13</td>\n",
       "      <td>2014-04-23</td>\n",
       "      <td>2014-04-01 00:00:00.000</td>\n",
       "      <td>GREAT WESTERN OPERATING COMPANY LLC</td>\n",
       "      <td>NIOBRARA</td>\n",
       "      <td>DENVER BASIN</td>\n",
       "      <td>COLORADO</td>\n",
       "      <td>WELD</td>\n",
       "      <td>40.508303</td>\n",
       "      <td>-104.868180</td>\n",
       "      <td>40.49558</td>\n",
       "      <td>-104.86757</td>\n",
       "      <td>3211.0</td>\n",
       "      <td>783.5919</td>\n",
       "      <td>603.1414</td>\n",
       "    </tr>\n",
       "  </tbody>\n",
       "</table>\n",
       "</div>"
      ],
      "text/plain": [
       "             API  PermitDate    SpudDate CompletionDate  \\\n",
       "0  5005072170100  2014-05-06  2014-05-06     2014-12-02   \n",
       "1  5123377130000  2013-07-21  2013-10-06     2014-02-26   \n",
       "2  5123379280000  2013-09-08  2013-09-25     2014-09-07   \n",
       "3  5123379400000  2013-09-11  2014-12-05     2015-03-31   \n",
       "4  5123385820100  2014-01-07  2014-01-13     2014-04-23   \n",
       "\n",
       "       FirstProductionDate                        operatorNameIHS formation  \\\n",
       "0  2014-11-01 00:00:00.000         BURLINGTON RESOURCES O&G CO LP  NIOBRARA   \n",
       "1  2014-02-01 00:00:00.000                SRC ENERGY INCORPORATED  NIOBRARA   \n",
       "2  2013-11-01 00:00:00.000  BONANZA CREEK ENERGY OPERATING CO LLC  NIOBRARA   \n",
       "3  2015-03-01 00:00:00.000              NOBLE ENERGY INCORPORATED  NIOBRARA   \n",
       "4  2014-04-01 00:00:00.000    GREAT WESTERN OPERATING COMPANY LLC  NIOBRARA   \n",
       "\n",
       "      BasinName StateName CountyName   LatWGS84    LonWGS84  \\\n",
       "0  DENVER BASIN  COLORADO   ARAPAHOE  39.684606 -104.642128   \n",
       "1  DENVER BASIN  COLORADO       WELD  40.509320 -104.780980   \n",
       "2  DENVER BASIN  COLORADO       WELD  40.335390 -104.363000   \n",
       "3  DENVER BASIN  COLORADO       WELD  40.152220 -104.530780   \n",
       "4  DENVER BASIN  COLORADO       WELD  40.508303 -104.868180   \n",
       "\n",
       "   BottomHoleLatitude  BottomHoleLongitude  LATERAL_LENGTH_BLEND  \\\n",
       "0            39.68445           -104.60557                9005.0   \n",
       "1            40.49692           -104.77859                4195.0   \n",
       "2            40.34780           -104.36863                4273.0   \n",
       "3            40.17445           -104.52932                7078.0   \n",
       "4            40.49558           -104.86757                3211.0   \n",
       "\n",
       "   PROP_PER_FOOT  WATER_PER_FOOT  \n",
       "0       994.6866        591.8004  \n",
       "1       991.5857        628.6321  \n",
       "2      1000.2760        564.4841  \n",
       "3       973.4437        824.0020  \n",
       "4       783.5919        603.1414  "
      ]
     },
     "execution_count": 16,
     "metadata": {},
     "output_type": "execute_result"
    }
   ],
   "source": [
    "import pandas as pd\n",
    "df = pd.read_csv('data/wells_info.csv')\n",
    "df.head()"
   ]
  },
  {
   "cell_type": "code",
   "execution_count": 17,
   "metadata": {
    "slideshow": {
     "slide_type": "subslide"
    }
   },
   "outputs": [
    {
     "data": {
      "image/png": "[encoded data removed]",
      "text/plain": [
       "<Figure size 432x288 with 1 Axes>"
      ]
     },
     "metadata": {
      "needs_background": "light"
     },
     "output_type": "display_data"
    }
   ],
   "source": [
    "df.plot('BottomHoleLatitude', 'BottomHoleLongitude', kind='scatter')\n",
    "plt.show()"
   ]
  },
  {
   "cell_type": "code",
   "execution_count": 18,
   "metadata": {
    "slideshow": {
     "slide_type": "subslide"
    }
   },
   "outputs": [
    {
     "data": {
      "image/png": "[encoded data removed]",
      "text/plain": [
       "<Figure size 432x288 with 1 Axes>"
      ]
     },
     "metadata": {
      "needs_background": "light"
     },
     "output_type": "display_data"
    }
   ],
   "source": [
    "df.drop('API', axis=1).boxplot()\n",
    "plt.xticks(rotation=-25)\n",
    "plt.show()"
   ]
  },
  {
   "cell_type": "code",
   "execution_count": 19,
   "metadata": {
    "slideshow": {
     "slide_type": "subslide"
    }
   },
   "outputs": [
    {
     "data": {
      "image/png": "[encoded data removed]",
      "text/plain": [
       "<Figure size 432x288 with 1 Axes>"
      ]
     },
     "metadata": {
      "needs_background": "light"
     },
     "output_type": "display_data"
    }
   ],
   "source": [
    "# pandas позволяет работать с датами и временем\n",
    "df['CompletionDate'] = pd.to_datetime(df['CompletionDate'])\n",
    "df['CompletionDate'].hist()\n",
    "plt.show()"
   ]
  },
  {
   "cell_type": "code",
   "execution_count": 22,
   "metadata": {
    "slideshow": {
     "slide_type": "subslide"
    }
   },
   "outputs": [
    {
     "data": {
      "image/png": "[encoded data removed]",
      "text/plain": [
       "<Figure size 432x288 with 1 Axes>"
      ]
     },
     "metadata": {
      "needs_background": "light"
     },
     "output_type": "display_data"
    }
   ],
   "source": [
    "df['Month'] = df['CompletionDate'].dt.month\n",
    "df.groupby('Month').mean()[['LonWGS84', 'BottomHoleLongitude']].plot(alpha=0.5, grid=True)\n",
    "plt.show()"
   ]
  },
  {
   "cell_type": "markdown",
   "metadata": {
    "slideshow": {
     "slide_type": "subslide"
    }
   },
   "source": [
    "### Отображение с группировкой"
   ]
  },
  {
   "cell_type": "code",
   "execution_count": 23,
   "metadata": {
    "slideshow": {
     "slide_type": "subslide"
    }
   },
   "outputs": [
    {
     "data": {
      "image/png": "[encoded data removed]",
      "text/plain": [
       "<Figure size 576x576 with 12 Axes>"
      ]
     },
     "metadata": {
      "needs_background": "light"
     },
     "output_type": "display_data"
    }
   ],
   "source": [
    "# Гистограмма по группам\n",
    "df.hist('LatWGS84', by='formation', figsize=(8, 8))\n",
    "plt.subplots_adjust(hspace=0.9)\n",
    "plt.show()"
   ]
  },
  {
   "cell_type": "code",
   "execution_count": 24,
   "metadata": {
    "slideshow": {
     "slide_type": "subslide"
    }
   },
   "outputs": [
    {
     "data": {
      "image/png": "[encoded data removed]",
      "text/plain": [
       "<Figure size 576x432 with 1 Axes>"
      ]
     },
     "metadata": {
      "needs_background": "light"
     },
     "output_type": "display_data"
    }
   ],
   "source": [
    "# Boxplot по группам\n",
    "df.boxplot('LatWGS84', by='formation', figsize=(8, 6))\n",
    "plt.subplots_adjust(hspace=0.9)\n",
    "plt.xticks(rotation=-25, ha='left')\n",
    "plt.show()"
   ]
  },
  {
   "cell_type": "markdown",
   "metadata": {
    "slideshow": {
     "slide_type": "slide"
    }
   },
   "source": [
    "# seaborn"
   ]
  },
  {
   "cell_type": "code",
   "execution_count": 25,
   "metadata": {
    "slideshow": {
     "slide_type": "subslide"
    }
   },
   "outputs": [
    {
     "data": {
      "image/png": "[encoded data removed]",
      "text/plain": [
       "<Figure size 720x720 with 20 Axes>"
      ]
     },
     "metadata": {
      "needs_background": "light"
     },
     "output_type": "display_data"
    }
   ],
   "source": [
    "import seaborn as sns\n",
    "\n",
    "cols = ['LonWGS84', 'LatWGS84', 'BottomHoleLongitude', 'BottomHoleLatitude']\n",
    "sns.pairplot(df[cols])\n",
    "plt.show()"
   ]
  },
  {
   "cell_type": "code",
   "execution_count": 26,
   "metadata": {
    "slideshow": {
     "slide_type": "subslide"
    }
   },
   "outputs": [
    {
     "data": {
      "image/png": "[encoded data removed]",
      "text/plain": [
       "<Figure size 432x288 with 1 Axes>"
      ]
     },
     "metadata": {
      "needs_background": "light"
     },
     "output_type": "display_data"
    }
   ],
   "source": [
    "sns.distplot(df['BottomHoleLongitude'])\n",
    "plt.show()"
   ]
  },
  {
   "cell_type": "code",
   "execution_count": 27,
   "metadata": {
    "slideshow": {
     "slide_type": "subslide"
    }
   },
   "outputs": [
    {
     "data": {
      "image/png": "[encoded data removed]",
      "text/plain": [
       "<Figure size 432x432 with 3 Axes>"
      ]
     },
     "metadata": {
      "needs_background": "light"
     },
     "output_type": "display_data"
    }
   ],
   "source": [
    "sns.jointplot(df['LonWGS84'], df['LatWGS84'])\n",
    "plt.show()"
   ]
  },
  {
   "cell_type": "code",
   "execution_count": 28,
   "metadata": {
    "slideshow": {
     "slide_type": "subslide"
    }
   },
   "outputs": [
    {
     "data": {
      "text/plain": [
       "<matplotlib.axes._subplots.AxesSubplot at 0x7f25b0619550>"
      ]
     },
     "execution_count": 28,
     "metadata": {},
     "output_type": "execute_result"
    },
    {
     "data": {
      "image/png": "[encoded data removed]",
      "text/plain": [
       "<Figure size 432x288 with 2 Axes>"
      ]
     },
     "metadata": {
      "needs_background": "light"
     },
     "output_type": "display_data"
    }
   ],
   "source": [
    "# Матрица корреляции\n",
    "corr_matrix = df.corr()\n",
    "sns.heatmap(corr_matrix)"
   ]
  },
  {
   "cell_type": "markdown",
   "metadata": {
    "slideshow": {
     "slide_type": "slide"
    }
   },
   "source": [
    "# Работа с признаками"
   ]
  },
  {
   "cell_type": "markdown",
   "metadata": {},
   "source": [
    "Работа с признаками делится на 3 этапа:\n",
    "* Извлечение признаков – превращение данных, специфических для предметной области, в понятные для модели векторы\n",
    "* Преобразования признаков – трансформация данных для повышения точности алгоритма\n",
    "* Выбор признаков – отсечение ненужных признаков"
   ]
  },
  {
   "cell_type": "markdown",
   "metadata": {
    "slideshow": {
     "slide_type": "slide"
    }
   },
   "source": [
    "# Извлечение признаков (Feature Extraction)"
   ]
  },
  {
   "cell_type": "markdown",
   "metadata": {
    "slideshow": {
     "slide_type": "slide"
    }
   },
   "source": [
    "# Тексты"
   ]
  },
  {
   "cell_type": "code",
   "execution_count": 16,
   "metadata": {},
   "outputs": [
    {
     "name": "stdout",
     "output_type": "stream",
     "text": [
      "Модель для N-грамм от 1 до 1 слова\n",
      "[[1 1 1 1]\n",
      " [1 1 1 1]]\n",
      "{'не': 1, 'работу': 3, 'он': 2, 'делает': 0}\n",
      "\n",
      "Модель для N-грамм от 1 до 2 слов\n",
      "[[1 1 1 1 0 1 0 1 1]\n",
      " [1 1 1 0 1 1 1 0 1]]\n",
      "{'не': 2, 'он': 5, 'он не': 7, 'не он': 4, 'делает работу': 1, 'делает': 0, 'не делает': 3, 'работу': 8, 'он делает': 6}\n"
     ]
    }
   ],
   "source": [
    "# N-граммы (комбинации из N последовательных терминов)\n",
    "from sklearn.feature_extraction.text import CountVectorizer\n",
    "\n",
    "print(\"Модель для N-грамм от 1 до 1 слова\")\n",
    "vect = CountVectorizer(ngram_range=(1, 1)) \n",
    "res = vect.fit_transform(['он не делает работу', 'не он делает работу']).toarray()\n",
    "print(res)\n",
    "print(vect.vocabulary_)\n",
    "\n",
    "print()\n",
    "print(\"Модель для N-грамм от 1 до 2 слов\")\n",
    "vect = CountVectorizer(ngram_range=(1, 2)) \n",
    "res = vect.fit_transform(['он не делает работу', 'не он делает работу']).toarray()\n",
    "print(res)\n",
    "print(vect.vocabulary_)"
   ]
  },
  {
   "cell_type": "markdown",
   "metadata": {
    "slideshow": {
     "slide_type": "subslide"
    }
   },
   "source": [
    "__TF-IDF__ — статистическая мера, используемая для оценки важности слова в контексте документа, являющегося частью коллекции документов или корпуса. Вес некоторого слова пропорционален частоте употребления этого слова в документе и обратно пропорционален частоте употребления слова во всех документах коллекции.\n",
    "\n",
    "![alt text](https://wikimedia.org/api/rest_v1/media/math/render/svg/8ef207eb03f6e9b6f71e73739f45b5179b4f17cc \"tf\")\n",
    "![alt text](https://wikimedia.org/api/rest_v1/media/math/render/svg/b88834044365dea6aedba224eabe7147d4d328ef \"idf\")\n",
    "![alt text](https://wikimedia.org/api/rest_v1/media/math/render/svg/fa3cf0b54c09151473641f8364c2da3480cc98f1 \"tfidf\")"
   ]
  },
  {
   "cell_type": "markdown",
   "metadata": {
    "slideshow": {
     "slide_type": "subslide"
    }
   },
   "source": [
    "### Word2Vec\n",
    "![alt text](https://miro.medium.com/max/1014/1*dm9dudL37B6JG8saeR3zIw.png \"W2V\")"
   ]
  },
  {
   "cell_type": "markdown",
   "metadata": {
    "slideshow": {
     "slide_type": "slide"
    }
   },
   "source": [
    "# Изображения"
   ]
  },
  {
   "cell_type": "code",
   "execution_count": 18,
   "metadata": {},
   "outputs": [],
   "source": [
    "import matplotlib.pyplot as plt\n",
    "import numpy as np\n",
    "%matplotlib inline"
   ]
  },
  {
   "cell_type": "code",
   "execution_count": 20,
   "metadata": {},
   "outputs": [
    {
     "name": "stdout",
     "output_type": "stream",
     "text": [
      "(206, 245, 3)\n",
      "[[[255 255 255]\n",
      "  [255 255 255]\n",
      "  [255 255 255]]\n",
      "\n",
      " [[255 255 255]\n",
      "  [255 255 255]\n",
      "  [255 255 255]]]\n"
     ]
    },
    {
     "data": {
      "image/png": "[encoded data removed]",
      "text/plain": [
       "<Figure size 432x288 with 1 Axes>"
      ]
     },
     "metadata": {},
     "output_type": "display_data"
    }
   ],
   "source": [
    "image = plt.imread('data/eye.jpg')\n",
    "print(image.shape)\n",
    "print(image[:2, :3])\n",
    "plt.imshow(image)\n",
    "plt.show()"
   ]
  },
  {
   "cell_type": "markdown",
   "metadata": {
    "slideshow": {
     "slide_type": "slide"
    }
   },
   "source": [
    "# Время"
   ]
  },
  {
   "cell_type": "code",
   "execution_count": 43,
   "metadata": {
    "slideshow": {
     "slide_type": "subslide"
    }
   },
   "outputs": [
    {
     "data": {
      "text/html": [
       "<div>\n",
       "<style scoped>\n",
       "    .dataframe tbody tr th:only-of-type {\n",
       "        vertical-align: middle;\n",
       "    }\n",
       "\n",
       "    .dataframe tbody tr th {\n",
       "        vertical-align: top;\n",
       "    }\n",
       "\n",
       "    .dataframe thead th {\n",
       "        text-align: right;\n",
       "    }\n",
       "</style>\n",
       "<table border=\"1\" class=\"dataframe\">\n",
       "  <thead>\n",
       "    <tr style=\"text-align: right;\">\n",
       "      <th></th>\n",
       "      <th>API</th>\n",
       "      <th>PermitDate</th>\n",
       "      <th>SpudDate</th>\n",
       "      <th>CompletionDate</th>\n",
       "      <th>FirstProductionDate</th>\n",
       "      <th>operatorNameIHS</th>\n",
       "      <th>formation</th>\n",
       "      <th>BasinName</th>\n",
       "      <th>StateName</th>\n",
       "      <th>CountyName</th>\n",
       "      <th>LatWGS84</th>\n",
       "      <th>LonWGS84</th>\n",
       "      <th>BottomHoleLatitude</th>\n",
       "      <th>BottomHoleLongitude</th>\n",
       "      <th>LATERAL_LENGTH_BLEND</th>\n",
       "      <th>PROP_PER_FOOT</th>\n",
       "      <th>WATER_PER_FOOT</th>\n",
       "    </tr>\n",
       "  </thead>\n",
       "  <tbody>\n",
       "    <tr>\n",
       "      <th>0</th>\n",
       "      <td>5005072170100</td>\n",
       "      <td>2014-05-06</td>\n",
       "      <td>2014-05-06</td>\n",
       "      <td>2014-12-02</td>\n",
       "      <td>2014-11-01 00:00:00.000</td>\n",
       "      <td>BURLINGTON RESOURCES O&amp;G CO LP</td>\n",
       "      <td>NIOBRARA</td>\n",
       "      <td>DENVER BASIN</td>\n",
       "      <td>COLORADO</td>\n",
       "      <td>ARAPAHOE</td>\n",
       "      <td>39.684606</td>\n",
       "      <td>-104.642128</td>\n",
       "      <td>39.68445</td>\n",
       "      <td>-104.60557</td>\n",
       "      <td>9005.0</td>\n",
       "      <td>994.6866</td>\n",
       "      <td>591.8004</td>\n",
       "    </tr>\n",
       "    <tr>\n",
       "      <th>1</th>\n",
       "      <td>5123377130000</td>\n",
       "      <td>2013-07-21</td>\n",
       "      <td>2013-10-06</td>\n",
       "      <td>2014-02-26</td>\n",
       "      <td>2014-02-01 00:00:00.000</td>\n",
       "      <td>SRC ENERGY INCORPORATED</td>\n",
       "      <td>NIOBRARA</td>\n",
       "      <td>DENVER BASIN</td>\n",
       "      <td>COLORADO</td>\n",
       "      <td>WELD</td>\n",
       "      <td>40.509320</td>\n",
       "      <td>-104.780980</td>\n",
       "      <td>40.49692</td>\n",
       "      <td>-104.77859</td>\n",
       "      <td>4195.0</td>\n",
       "      <td>991.5857</td>\n",
       "      <td>628.6321</td>\n",
       "    </tr>\n",
       "    <tr>\n",
       "      <th>2</th>\n",
       "      <td>5123379280000</td>\n",
       "      <td>2013-09-08</td>\n",
       "      <td>2013-09-25</td>\n",
       "      <td>2014-09-07</td>\n",
       "      <td>2013-11-01 00:00:00.000</td>\n",
       "      <td>BONANZA CREEK ENERGY OPERATING CO LLC</td>\n",
       "      <td>NIOBRARA</td>\n",
       "      <td>DENVER BASIN</td>\n",
       "      <td>COLORADO</td>\n",
       "      <td>WELD</td>\n",
       "      <td>40.335390</td>\n",
       "      <td>-104.363000</td>\n",
       "      <td>40.34780</td>\n",
       "      <td>-104.36863</td>\n",
       "      <td>4273.0</td>\n",
       "      <td>1000.2760</td>\n",
       "      <td>564.4841</td>\n",
       "    </tr>\n",
       "    <tr>\n",
       "      <th>3</th>\n",
       "      <td>5123379400000</td>\n",
       "      <td>2013-09-11</td>\n",
       "      <td>2014-12-05</td>\n",
       "      <td>2015-03-31</td>\n",
       "      <td>2015-03-01 00:00:00.000</td>\n",
       "      <td>NOBLE ENERGY INCORPORATED</td>\n",
       "      <td>NIOBRARA</td>\n",
       "      <td>DENVER BASIN</td>\n",
       "      <td>COLORADO</td>\n",
       "      <td>WELD</td>\n",
       "      <td>40.152220</td>\n",
       "      <td>-104.530780</td>\n",
       "      <td>40.17445</td>\n",
       "      <td>-104.52932</td>\n",
       "      <td>7078.0</td>\n",
       "      <td>973.4437</td>\n",
       "      <td>824.0020</td>\n",
       "    </tr>\n",
       "    <tr>\n",
       "      <th>4</th>\n",
       "      <td>5123385820100</td>\n",
       "      <td>2014-01-07</td>\n",
       "      <td>2014-01-13</td>\n",
       "      <td>2014-04-23</td>\n",
       "      <td>2014-04-01 00:00:00.000</td>\n",
       "      <td>GREAT WESTERN OPERATING COMPANY LLC</td>\n",
       "      <td>NIOBRARA</td>\n",
       "      <td>DENVER BASIN</td>\n",
       "      <td>COLORADO</td>\n",
       "      <td>WELD</td>\n",
       "      <td>40.508303</td>\n",
       "      <td>-104.868180</td>\n",
       "      <td>40.49558</td>\n",
       "      <td>-104.86757</td>\n",
       "      <td>3211.0</td>\n",
       "      <td>783.5919</td>\n",
       "      <td>603.1414</td>\n",
       "    </tr>\n",
       "  </tbody>\n",
       "</table>\n",
       "</div>"
      ],
      "text/plain": [
       "             API  PermitDate    SpudDate CompletionDate  \\\n",
       "0  5005072170100  2014-05-06  2014-05-06     2014-12-02   \n",
       "1  5123377130000  2013-07-21  2013-10-06     2014-02-26   \n",
       "2  5123379280000  2013-09-08  2013-09-25     2014-09-07   \n",
       "3  5123379400000  2013-09-11  2014-12-05     2015-03-31   \n",
       "4  5123385820100  2014-01-07  2014-01-13     2014-04-23   \n",
       "\n",
       "       FirstProductionDate                        operatorNameIHS formation  \\\n",
       "0  2014-11-01 00:00:00.000         BURLINGTON RESOURCES O&G CO LP  NIOBRARA   \n",
       "1  2014-02-01 00:00:00.000                SRC ENERGY INCORPORATED  NIOBRARA   \n",
       "2  2013-11-01 00:00:00.000  BONANZA CREEK ENERGY OPERATING CO LLC  NIOBRARA   \n",
       "3  2015-03-01 00:00:00.000              NOBLE ENERGY INCORPORATED  NIOBRARA   \n",
       "4  2014-04-01 00:00:00.000    GREAT WESTERN OPERATING COMPANY LLC  NIOBRARA   \n",
       "\n",
       "      BasinName StateName CountyName   LatWGS84    LonWGS84  \\\n",
       "0  DENVER BASIN  COLORADO   ARAPAHOE  39.684606 -104.642128   \n",
       "1  DENVER BASIN  COLORADO       WELD  40.509320 -104.780980   \n",
       "2  DENVER BASIN  COLORADO       WELD  40.335390 -104.363000   \n",
       "3  DENVER BASIN  COLORADO       WELD  40.152220 -104.530780   \n",
       "4  DENVER BASIN  COLORADO       WELD  40.508303 -104.868180   \n",
       "\n",
       "   BottomHoleLatitude  BottomHoleLongitude  LATERAL_LENGTH_BLEND  \\\n",
       "0            39.68445           -104.60557                9005.0   \n",
       "1            40.49692           -104.77859                4195.0   \n",
       "2            40.34780           -104.36863                4273.0   \n",
       "3            40.17445           -104.52932                7078.0   \n",
       "4            40.49558           -104.86757                3211.0   \n",
       "\n",
       "   PROP_PER_FOOT  WATER_PER_FOOT  \n",
       "0       994.6866        591.8004  \n",
       "1       991.5857        628.6321  \n",
       "2      1000.2760        564.4841  \n",
       "3       973.4437        824.0020  \n",
       "4       783.5919        603.1414  "
      ]
     },
     "execution_count": 43,
     "metadata": {},
     "output_type": "execute_result"
    }
   ],
   "source": [
    "import numpy as np\n",
    "import pandas as pd\n",
    "\n",
    "# Устанавливаем точность для отображения вещественных чисел numpy массивов\n",
    "np.set_printoptions(precision=3)\n",
    "\n",
    "df = pd.read_csv('data/wells_info.csv')\n",
    "df['CompletionDate'] = pd.to_datetime(df['CompletionDate'])\n",
    "df.head()"
   ]
  },
  {
   "cell_type": "code",
   "execution_count": 44,
   "metadata": {
    "slideshow": {
     "slide_type": "subslide"
    }
   },
   "outputs": [
    {
     "data": {
      "text/plain": [
       "0    1\n",
       "1    2\n",
       "2    6\n",
       "3    1\n",
       "Name: CompletionDate, dtype: int64"
      ]
     },
     "execution_count": 44,
     "metadata": {},
     "output_type": "execute_result"
    }
   ],
   "source": [
    "# Получение дня недели\n",
    "df['CompletionDate'].dt.dayofweek[:4]"
   ]
  },
  {
   "cell_type": "code",
   "execution_count": 45,
   "metadata": {
    "slideshow": {
     "slide_type": "subslide"
    }
   },
   "outputs": [
    {
     "name": "stdout",
     "output_type": "stream",
     "text": [
      "[ 7.  3. 11. 16. 11. 19.  1. 14.  8. 14.]\n",
      "[-0.259  0.707 -0.966 -0.5   -0.966  0.259  0.966 -0.866 -0.5   -0.866]\n",
      "[ 0.966  0.707  0.259 -0.866  0.259 -0.966  0.259 -0.5    0.866 -0.5  ]\n"
     ]
    }
   ],
   "source": [
    "# Проекция на окружность с последующим использованием двух координат\n",
    "def make_harmonic_features(value, period=24):\n",
    "    value *= 2 * np.pi / period\n",
    "    return np.cos(value), np.sin(value)\n",
    "\n",
    "hours = np.random.randint(0, 24, size=(10)).astype(float)\n",
    "print(hours)\n",
    "cos_, sin_ = make_harmonic_features(hours)\n",
    "print(cos_)\n",
    "print(sin_)"
   ]
  },
  {
   "cell_type": "markdown",
   "metadata": {
    "slideshow": {
     "slide_type": "slide"
    }
   },
   "source": [
    "# Категории"
   ]
  },
  {
   "cell_type": "code",
   "execution_count": 34,
   "metadata": {},
   "outputs": [
    {
     "data": {
      "text/plain": [
       "8           NIOBRARA\n",
       "9             CODELL\n",
       "10          NIOBRARA\n",
       "11          NIOBRARA\n",
       "12       BONE SPRING\n",
       "13    WOLFCAMP UPPER\n",
       "14       THREE FORKS\n",
       "Name: formation, dtype: object"
      ]
     },
     "execution_count": 34,
     "metadata": {},
     "output_type": "execute_result"
    }
   ],
   "source": [
    "df['formation'][8:15]"
   ]
  },
  {
   "cell_type": "code",
   "execution_count": 35,
   "metadata": {},
   "outputs": [
    {
     "data": {
      "text/html": [
       "<div>\n",
       "<style scoped>\n",
       "    .dataframe tbody tr th:only-of-type {\n",
       "        vertical-align: middle;\n",
       "    }\n",
       "\n",
       "    .dataframe tbody tr th {\n",
       "        vertical-align: top;\n",
       "    }\n",
       "\n",
       "    .dataframe thead th {\n",
       "        text-align: right;\n",
       "    }\n",
       "</style>\n",
       "<table border=\"1\" class=\"dataframe\">\n",
       "  <thead>\n",
       "    <tr style=\"text-align: right;\">\n",
       "      <th></th>\n",
       "      <th>BAKKEN</th>\n",
       "      <th>BONE SPRING</th>\n",
       "      <th>CODELL</th>\n",
       "      <th>NIOBRARA</th>\n",
       "      <th>OSWEGO</th>\n",
       "      <th>SPRABERRY</th>\n",
       "      <th>THREE FORKS</th>\n",
       "      <th>THREE FORKS / BAKKEN</th>\n",
       "      <th>WOLFCAMP</th>\n",
       "      <th>WOLFCAMP UPPER</th>\n",
       "      <th>WOODFORD</th>\n",
       "    </tr>\n",
       "  </thead>\n",
       "  <tbody>\n",
       "    <tr>\n",
       "      <th>8</th>\n",
       "      <td>0</td>\n",
       "      <td>0</td>\n",
       "      <td>0</td>\n",
       "      <td>1</td>\n",
       "      <td>0</td>\n",
       "      <td>0</td>\n",
       "      <td>0</td>\n",
       "      <td>0</td>\n",
       "      <td>0</td>\n",
       "      <td>0</td>\n",
       "      <td>0</td>\n",
       "    </tr>\n",
       "    <tr>\n",
       "      <th>9</th>\n",
       "      <td>0</td>\n",
       "      <td>0</td>\n",
       "      <td>1</td>\n",
       "      <td>0</td>\n",
       "      <td>0</td>\n",
       "      <td>0</td>\n",
       "      <td>0</td>\n",
       "      <td>0</td>\n",
       "      <td>0</td>\n",
       "      <td>0</td>\n",
       "      <td>0</td>\n",
       "    </tr>\n",
       "    <tr>\n",
       "      <th>10</th>\n",
       "      <td>0</td>\n",
       "      <td>0</td>\n",
       "      <td>0</td>\n",
       "      <td>1</td>\n",
       "      <td>0</td>\n",
       "      <td>0</td>\n",
       "      <td>0</td>\n",
       "      <td>0</td>\n",
       "      <td>0</td>\n",
       "      <td>0</td>\n",
       "      <td>0</td>\n",
       "    </tr>\n",
       "    <tr>\n",
       "      <th>11</th>\n",
       "      <td>0</td>\n",
       "      <td>0</td>\n",
       "      <td>0</td>\n",
       "      <td>1</td>\n",
       "      <td>0</td>\n",
       "      <td>0</td>\n",
       "      <td>0</td>\n",
       "      <td>0</td>\n",
       "      <td>0</td>\n",
       "      <td>0</td>\n",
       "      <td>0</td>\n",
       "    </tr>\n",
       "    <tr>\n",
       "      <th>12</th>\n",
       "      <td>0</td>\n",
       "      <td>1</td>\n",
       "      <td>0</td>\n",
       "      <td>0</td>\n",
       "      <td>0</td>\n",
       "      <td>0</td>\n",
       "      <td>0</td>\n",
       "      <td>0</td>\n",
       "      <td>0</td>\n",
       "      <td>0</td>\n",
       "      <td>0</td>\n",
       "    </tr>\n",
       "    <tr>\n",
       "      <th>13</th>\n",
       "      <td>0</td>\n",
       "      <td>0</td>\n",
       "      <td>0</td>\n",
       "      <td>0</td>\n",
       "      <td>0</td>\n",
       "      <td>0</td>\n",
       "      <td>0</td>\n",
       "      <td>0</td>\n",
       "      <td>0</td>\n",
       "      <td>1</td>\n",
       "      <td>0</td>\n",
       "    </tr>\n",
       "    <tr>\n",
       "      <th>14</th>\n",
       "      <td>0</td>\n",
       "      <td>0</td>\n",
       "      <td>0</td>\n",
       "      <td>0</td>\n",
       "      <td>0</td>\n",
       "      <td>0</td>\n",
       "      <td>1</td>\n",
       "      <td>0</td>\n",
       "      <td>0</td>\n",
       "      <td>0</td>\n",
       "      <td>0</td>\n",
       "    </tr>\n",
       "  </tbody>\n",
       "</table>\n",
       "</div>"
      ],
      "text/plain": [
       "    BAKKEN  BONE SPRING  CODELL  NIOBRARA  OSWEGO  SPRABERRY  THREE FORKS  \\\n",
       "8        0            0       0         1       0          0            0   \n",
       "9        0            0       1         0       0          0            0   \n",
       "10       0            0       0         1       0          0            0   \n",
       "11       0            0       0         1       0          0            0   \n",
       "12       0            1       0         0       0          0            0   \n",
       "13       0            0       0         0       0          0            0   \n",
       "14       0            0       0         0       0          0            1   \n",
       "\n",
       "    THREE FORKS / BAKKEN  WOLFCAMP  WOLFCAMP UPPER  WOODFORD  \n",
       "8                      0         0               0         0  \n",
       "9                      0         0               0         0  \n",
       "10                     0         0               0         0  \n",
       "11                     0         0               0         0  \n",
       "12                     0         0               0         0  \n",
       "13                     0         0               1         0  \n",
       "14                     0         0               0         0  "
      ]
     },
     "execution_count": 35,
     "metadata": {},
     "output_type": "execute_result"
    }
   ],
   "source": [
    "pd.get_dummies(df['formation'])[8:15]"
   ]
  },
  {
   "cell_type": "markdown",
   "metadata": {
    "slideshow": {
     "slide_type": "slide"
    }
   },
   "source": [
    "# Преобразования признаков (Feature transformations)"
   ]
  },
  {
   "cell_type": "markdown",
   "metadata": {
    "slideshow": {
     "slide_type": "slide"
    }
   },
   "source": [
    "# Нормализация и изменение распределения"
   ]
  },
  {
   "cell_type": "code",
   "execution_count": 39,
   "metadata": {},
   "outputs": [
    {
     "data": {
      "text/html": [
       "<div>\n",
       "<style scoped>\n",
       "    .dataframe tbody tr th:only-of-type {\n",
       "        vertical-align: middle;\n",
       "    }\n",
       "\n",
       "    .dataframe tbody tr th {\n",
       "        vertical-align: top;\n",
       "    }\n",
       "\n",
       "    .dataframe thead th {\n",
       "        text-align: right;\n",
       "    }\n",
       "</style>\n",
       "<table border=\"1\" class=\"dataframe\">\n",
       "  <thead>\n",
       "    <tr style=\"text-align: right;\">\n",
       "      <th></th>\n",
       "      <th>LatWGS84</th>\n",
       "      <th>LonWGS84</th>\n",
       "      <th>BottomHoleLatitude</th>\n",
       "      <th>BottomHoleLongitude</th>\n",
       "      <th>LATERAL_LENGTH_BLEND</th>\n",
       "      <th>PROP_PER_FOOT</th>\n",
       "      <th>WATER_PER_FOOT</th>\n",
       "    </tr>\n",
       "  </thead>\n",
       "  <tbody>\n",
       "    <tr>\n",
       "      <th>0</th>\n",
       "      <td>39.684606</td>\n",
       "      <td>-104.642128</td>\n",
       "      <td>39.68445</td>\n",
       "      <td>-104.60557</td>\n",
       "      <td>9005.0</td>\n",
       "      <td>994.6866</td>\n",
       "      <td>591.8004</td>\n",
       "    </tr>\n",
       "    <tr>\n",
       "      <th>1</th>\n",
       "      <td>40.509320</td>\n",
       "      <td>-104.780980</td>\n",
       "      <td>40.49692</td>\n",
       "      <td>-104.77859</td>\n",
       "      <td>4195.0</td>\n",
       "      <td>991.5857</td>\n",
       "      <td>628.6321</td>\n",
       "    </tr>\n",
       "    <tr>\n",
       "      <th>2</th>\n",
       "      <td>40.335390</td>\n",
       "      <td>-104.363000</td>\n",
       "      <td>40.34780</td>\n",
       "      <td>-104.36863</td>\n",
       "      <td>4273.0</td>\n",
       "      <td>1000.2760</td>\n",
       "      <td>564.4841</td>\n",
       "    </tr>\n",
       "    <tr>\n",
       "      <th>3</th>\n",
       "      <td>40.152220</td>\n",
       "      <td>-104.530780</td>\n",
       "      <td>40.17445</td>\n",
       "      <td>-104.52932</td>\n",
       "      <td>7078.0</td>\n",
       "      <td>973.4437</td>\n",
       "      <td>824.0020</td>\n",
       "    </tr>\n",
       "    <tr>\n",
       "      <th>4</th>\n",
       "      <td>40.508303</td>\n",
       "      <td>-104.868180</td>\n",
       "      <td>40.49558</td>\n",
       "      <td>-104.86757</td>\n",
       "      <td>3211.0</td>\n",
       "      <td>783.5919</td>\n",
       "      <td>603.1414</td>\n",
       "    </tr>\n",
       "  </tbody>\n",
       "</table>\n",
       "</div>"
      ],
      "text/plain": [
       "    LatWGS84    LonWGS84  BottomHoleLatitude  BottomHoleLongitude  \\\n",
       "0  39.684606 -104.642128            39.68445           -104.60557   \n",
       "1  40.509320 -104.780980            40.49692           -104.77859   \n",
       "2  40.335390 -104.363000            40.34780           -104.36863   \n",
       "3  40.152220 -104.530780            40.17445           -104.52932   \n",
       "4  40.508303 -104.868180            40.49558           -104.86757   \n",
       "\n",
       "   LATERAL_LENGTH_BLEND  PROP_PER_FOOT  WATER_PER_FOOT  \n",
       "0                9005.0       994.6866        591.8004  \n",
       "1                4195.0       991.5857        628.6321  \n",
       "2                4273.0      1000.2760        564.4841  \n",
       "3                7078.0       973.4437        824.0020  \n",
       "4                3211.0       783.5919        603.1414  "
      ]
     },
     "execution_count": 39,
     "metadata": {},
     "output_type": "execute_result"
    }
   ],
   "source": [
    "df_num = df[['LatWGS84', 'LonWGS84', 'BottomHoleLatitude',\n",
    "       'BottomHoleLongitude', 'LATERAL_LENGTH_BLEND', 'PROP_PER_FOOT',\n",
    "       'WATER_PER_FOOT']]\n",
    "df_num.head()"
   ]
  },
  {
   "cell_type": "code",
   "execution_count": 56,
   "metadata": {
    "slideshow": {
     "slide_type": "subslide"
    }
   },
   "outputs": [
    {
     "name": "stdout",
     "output_type": "stream",
     "text": [
      "[[-0.196 -0.958 -0.195 -0.938  0.734  0.423 -0.289]\n",
      " [-0.075 -1.042 -0.076 -1.043 -1.094  0.416 -0.228]\n",
      " [-0.1   -0.789 -0.098 -0.795 -1.064  0.434 -0.334]\n",
      " [-0.127 -0.891 -0.123 -0.892  0.002  0.378  0.094]]\n",
      "[[0.488 0.043 0.489 0.05  0.751 0.456 0.18 ]\n",
      " [0.534 0.023 0.534 0.026 0.269 0.454 0.191]\n",
      " [0.525 0.082 0.526 0.083 0.277 0.459 0.172]\n",
      " [0.514 0.058 0.516 0.061 0.558 0.445 0.251]]\n",
      "\n"
     ]
    }
   ],
   "source": [
    "# Масштабирование\n",
    "from sklearn.preprocessing import MinMaxScaler, StandardScaler\n",
    "\n",
    "scaler = StandardScaler()  # (x - x.mean()) / x.std()\n",
    "df_scaled = scaler.fit_transform(df_num)\n",
    "print(df_scaled[:4])\n",
    "\n",
    "scaler = MinMaxScaler()  # (x - x.min()) / (x.max() - x.min())\n",
    "df_scaled = scaler.fit_transform(df_num)\n",
    "print(df_scaled[:4])\n",
    "print()"
   ]
  },
  {
   "cell_type": "code",
   "execution_count": 66,
   "metadata": {
    "slideshow": {
     "slide_type": "subslide"
    }
   },
   "outputs": [],
   "source": [
    "# Изменение распределения\n",
    "from scipy.stats import lognorm\n",
    "\n",
    "# Содаем случайные данные с логнормальным распределением\n",
    "data = lognorm(s=1).rvs(1000)\n",
    "plt.hist(data, bins=100)\n",
    "plt.show()"
   ]
  },
  {
   "cell_type": "code",
   "execution_count": 71,
   "metadata": {},
   "outputs": [
    {
     "data": {
      "image/png": "[encoded data removed]",
      "text/plain": [
       "<Figure size 432x288 with 1 Axes>"
      ]
     },
     "metadata": {},
     "output_type": "display_data"
    }
   ],
   "source": [
    "# С помощью логарифмирования приводим к нормальному распределению\n",
    "plt.hist(np.log(data), bins=100)\n",
    "plt.show()"
   ]
  },
  {
   "cell_type": "markdown",
   "metadata": {
    "slideshow": {
     "slide_type": "slide"
    }
   },
   "source": [
    "# Генерация новых признаков"
   ]
  },
  {
   "cell_type": "code",
   "execution_count": 83,
   "metadata": {},
   "outputs": [
    {
     "data": {
      "text/html": [
       "<div>\n",
       "<style scoped>\n",
       "    .dataframe tbody tr th:only-of-type {\n",
       "        vertical-align: middle;\n",
       "    }\n",
       "\n",
       "    .dataframe tbody tr th {\n",
       "        vertical-align: top;\n",
       "    }\n",
       "\n",
       "    .dataframe thead th {\n",
       "        text-align: right;\n",
       "    }\n",
       "</style>\n",
       "<table border=\"1\" class=\"dataframe\">\n",
       "  <thead>\n",
       "    <tr style=\"text-align: right;\">\n",
       "      <th></th>\n",
       "      <th>LatWGS84</th>\n",
       "      <th>LonWGS84</th>\n",
       "    </tr>\n",
       "  </thead>\n",
       "  <tbody>\n",
       "    <tr>\n",
       "      <th>0</th>\n",
       "      <td>0.00000</td>\n",
       "      <td>-0.000</td>\n",
       "    </tr>\n",
       "    <tr>\n",
       "      <th>1</th>\n",
       "      <td>0.00000</td>\n",
       "      <td>-0.000</td>\n",
       "    </tr>\n",
       "    <tr>\n",
       "      <th>2</th>\n",
       "      <td>40.33539</td>\n",
       "      <td>-104.363</td>\n",
       "    </tr>\n",
       "    <tr>\n",
       "      <th>3</th>\n",
       "      <td>0.00000</td>\n",
       "      <td>-0.000</td>\n",
       "    </tr>\n",
       "    <tr>\n",
       "      <th>4</th>\n",
       "      <td>0.00000</td>\n",
       "      <td>-0.000</td>\n",
       "    </tr>\n",
       "  </tbody>\n",
       "</table>\n",
       "</div>"
      ],
      "text/plain": [
       "   LatWGS84  LonWGS84\n",
       "0   0.00000    -0.000\n",
       "1   0.00000    -0.000\n",
       "2  40.33539  -104.363\n",
       "3   0.00000    -0.000\n",
       "4   0.00000    -0.000"
      ]
     },
     "execution_count": 83,
     "metadata": {},
     "output_type": "execute_result"
    }
   ],
   "source": [
    "# Проверка, является ли день завершения выходным\n",
    "is_weekend = df['CompletionDate'].dt.dayofweek.isin([5, 6]).astype(int)\n",
    "\n",
    "# Оставляем лишь те координаты, когда день завершения является выходным\n",
    "df_coord = (df[['LatWGS84', 'LonWGS84']].T * is_weekend).T\n",
    "df_coord.head()"
   ]
  },
  {
   "cell_type": "markdown",
   "metadata": {
    "slideshow": {
     "slide_type": "slide"
    }
   },
   "source": [
    "# Заполнение пропусков"
   ]
  },
  {
   "cell_type": "code",
   "execution_count": 84,
   "metadata": {},
   "outputs": [
    {
     "data": {
      "text/html": [
       "<div>\n",
       "<style scoped>\n",
       "    .dataframe tbody tr th:only-of-type {\n",
       "        vertical-align: middle;\n",
       "    }\n",
       "\n",
       "    .dataframe tbody tr th {\n",
       "        vertical-align: top;\n",
       "    }\n",
       "\n",
       "    .dataframe thead th {\n",
       "        text-align: right;\n",
       "    }\n",
       "</style>\n",
       "<table border=\"1\" class=\"dataframe\">\n",
       "  <thead>\n",
       "    <tr style=\"text-align: right;\">\n",
       "      <th></th>\n",
       "      <th>API</th>\n",
       "      <th>CompletionDate</th>\n",
       "      <th>FirstProductionDate</th>\n",
       "      <th>formation</th>\n",
       "      <th>BasinName</th>\n",
       "      <th>StateName</th>\n",
       "      <th>CountyName</th>\n",
       "      <th>LatWGS84</th>\n",
       "      <th>LonWGS84</th>\n",
       "      <th>PROP_PER_FOOT</th>\n",
       "    </tr>\n",
       "  </thead>\n",
       "  <tbody>\n",
       "    <tr>\n",
       "      <th>0</th>\n",
       "      <td>5123402600000</td>\n",
       "      <td>2015-09-13</td>\n",
       "      <td>2015-09-01 00:00:00.000</td>\n",
       "      <td>CODELL</td>\n",
       "      <td>DENVER BASIN</td>\n",
       "      <td>COLORADO</td>\n",
       "      <td>WELD</td>\n",
       "      <td>40.353967</td>\n",
       "      <td>-104.944679</td>\n",
       "      <td>926.5010</td>\n",
       "    </tr>\n",
       "    <tr>\n",
       "      <th>1</th>\n",
       "      <td>5123409020000</td>\n",
       "      <td>2015-09-07</td>\n",
       "      <td>2015-09-01 00:00:00.000</td>\n",
       "      <td>NIOBRARA</td>\n",
       "      <td>NaN</td>\n",
       "      <td>COLORADO</td>\n",
       "      <td>WELD</td>\n",
       "      <td>40.482361</td>\n",
       "      <td>-104.468261</td>\n",
       "      <td>697.0967</td>\n",
       "    </tr>\n",
       "    <tr>\n",
       "      <th>2</th>\n",
       "      <td>5123410480000</td>\n",
       "      <td>NaN</td>\n",
       "      <td>2015-04-01 00:00:00.000</td>\n",
       "      <td>NIOBRARA</td>\n",
       "      <td>DENVER BASIN</td>\n",
       "      <td>NaN</td>\n",
       "      <td>WELD</td>\n",
       "      <td>NaN</td>\n",
       "      <td>NaN</td>\n",
       "      <td>896.9146</td>\n",
       "    </tr>\n",
       "    <tr>\n",
       "      <th>3</th>\n",
       "      <td>30015414470000</td>\n",
       "      <td>2014-01-07</td>\n",
       "      <td>2013-12-01 00:00:00.000</td>\n",
       "      <td>BONE SPRING</td>\n",
       "      <td>PERMIAN BASIN</td>\n",
       "      <td>NEW MEXICO</td>\n",
       "      <td>EDDY</td>\n",
       "      <td>NaN</td>\n",
       "      <td>NaN</td>\n",
       "      <td>648.1232</td>\n",
       "    </tr>\n",
       "    <tr>\n",
       "      <th>4</th>\n",
       "      <td>30025425390000</td>\n",
       "      <td>2015-10-10</td>\n",
       "      <td>2015-08-01 00:00:00.000</td>\n",
       "      <td>WOLFCAMP UPPER</td>\n",
       "      <td>PERMIAN BASIN</td>\n",
       "      <td>NEW MEXICO</td>\n",
       "      <td>LEA</td>\n",
       "      <td>32.080410</td>\n",
       "      <td>-103.530040</td>\n",
       "      <td>1657.9800</td>\n",
       "    </tr>\n",
       "    <tr>\n",
       "      <th>5</th>\n",
       "      <td>33053048870100</td>\n",
       "      <td>2014-11-05</td>\n",
       "      <td>2014-11-01 00:00:00.000</td>\n",
       "      <td>BAKKEN</td>\n",
       "      <td>NaN</td>\n",
       "      <td>NORTH DAKOTA</td>\n",
       "      <td>MCKENZIE</td>\n",
       "      <td>47.995019</td>\n",
       "      <td>-103.561306</td>\n",
       "      <td>984.4741</td>\n",
       "    </tr>\n",
       "    <tr>\n",
       "      <th>6</th>\n",
       "      <td>33053051530000</td>\n",
       "      <td>2014-04-27</td>\n",
       "      <td>2014-04-01 00:00:00.000</td>\n",
       "      <td>BAKKEN</td>\n",
       "      <td>WILLISTON BASIN</td>\n",
       "      <td>NORTH DAKOTA</td>\n",
       "      <td>MCKENZIE</td>\n",
       "      <td>47.992928</td>\n",
       "      <td>-103.020490</td>\n",
       "      <td>341.2530</td>\n",
       "    </tr>\n",
       "  </tbody>\n",
       "</table>\n",
       "</div>"
      ],
      "text/plain": [
       "              API CompletionDate      FirstProductionDate       formation  \\\n",
       "0   5123402600000     2015-09-13  2015-09-01 00:00:00.000          CODELL   \n",
       "1   5123409020000     2015-09-07  2015-09-01 00:00:00.000        NIOBRARA   \n",
       "2   5123410480000            NaN  2015-04-01 00:00:00.000        NIOBRARA   \n",
       "3  30015414470000     2014-01-07  2013-12-01 00:00:00.000     BONE SPRING   \n",
       "4  30025425390000     2015-10-10  2015-08-01 00:00:00.000  WOLFCAMP UPPER   \n",
       "5  33053048870100     2014-11-05  2014-11-01 00:00:00.000          BAKKEN   \n",
       "6  33053051530000     2014-04-27  2014-04-01 00:00:00.000          BAKKEN   \n",
       "\n",
       "         BasinName     StateName CountyName   LatWGS84    LonWGS84  \\\n",
       "0     DENVER BASIN      COLORADO       WELD  40.353967 -104.944679   \n",
       "1              NaN      COLORADO       WELD  40.482361 -104.468261   \n",
       "2     DENVER BASIN           NaN       WELD        NaN         NaN   \n",
       "3    PERMIAN BASIN    NEW MEXICO       EDDY        NaN         NaN   \n",
       "4    PERMIAN BASIN    NEW MEXICO        LEA  32.080410 -103.530040   \n",
       "5              NaN  NORTH DAKOTA   MCKENZIE  47.995019 -103.561306   \n",
       "6  WILLISTON BASIN  NORTH DAKOTA   MCKENZIE  47.992928 -103.020490   \n",
       "\n",
       "   PROP_PER_FOOT  \n",
       "0       926.5010  \n",
       "1       697.0967  \n",
       "2       896.9146  \n",
       "3       648.1232  \n",
       "4      1657.9800  \n",
       "5       984.4741  \n",
       "6       341.2530  "
      ]
     },
     "execution_count": 84,
     "metadata": {},
     "output_type": "execute_result"
    }
   ],
   "source": [
    "df_na = pd.read_csv('data/wells_info_na.csv')\n",
    "df_na"
   ]
  },
  {
   "cell_type": "code",
   "execution_count": 85,
   "metadata": {
    "slideshow": {
     "slide_type": "subslide"
    }
   },
   "outputs": [
    {
     "data": {
      "text/html": [
       "<div>\n",
       "<style scoped>\n",
       "    .dataframe tbody tr th:only-of-type {\n",
       "        vertical-align: middle;\n",
       "    }\n",
       "\n",
       "    .dataframe tbody tr th {\n",
       "        vertical-align: top;\n",
       "    }\n",
       "\n",
       "    .dataframe thead th {\n",
       "        text-align: right;\n",
       "    }\n",
       "</style>\n",
       "<table border=\"1\" class=\"dataframe\">\n",
       "  <thead>\n",
       "    <tr style=\"text-align: right;\">\n",
       "      <th></th>\n",
       "      <th>API</th>\n",
       "      <th>CompletionDate</th>\n",
       "      <th>FirstProductionDate</th>\n",
       "      <th>formation</th>\n",
       "      <th>BasinName</th>\n",
       "      <th>StateName</th>\n",
       "      <th>CountyName</th>\n",
       "      <th>LatWGS84</th>\n",
       "      <th>LonWGS84</th>\n",
       "      <th>PROP_PER_FOOT</th>\n",
       "    </tr>\n",
       "  </thead>\n",
       "  <tbody>\n",
       "    <tr>\n",
       "      <th>0</th>\n",
       "      <td>5123402600000</td>\n",
       "      <td>2015-09-13</td>\n",
       "      <td>2015-09-01 00:00:00.000</td>\n",
       "      <td>CODELL</td>\n",
       "      <td>DENVER BASIN</td>\n",
       "      <td>COLORADO</td>\n",
       "      <td>WELD</td>\n",
       "      <td>40.353967</td>\n",
       "      <td>-104.944679</td>\n",
       "      <td>926.5010</td>\n",
       "    </tr>\n",
       "    <tr>\n",
       "      <th>1</th>\n",
       "      <td>5123409020000</td>\n",
       "      <td>2015-09-07</td>\n",
       "      <td>2015-09-01 00:00:00.000</td>\n",
       "      <td>NIOBRARA</td>\n",
       "      <td>NaN</td>\n",
       "      <td>COLORADO</td>\n",
       "      <td>WELD</td>\n",
       "      <td>40.482361</td>\n",
       "      <td>-104.468261</td>\n",
       "      <td>697.0967</td>\n",
       "    </tr>\n",
       "    <tr>\n",
       "      <th>2</th>\n",
       "      <td>5123410480000</td>\n",
       "      <td>NaN</td>\n",
       "      <td>2015-04-01 00:00:00.000</td>\n",
       "      <td>NIOBRARA</td>\n",
       "      <td>DENVER BASIN</td>\n",
       "      <td>NaN</td>\n",
       "      <td>WELD</td>\n",
       "      <td>40.495332</td>\n",
       "      <td>-103.243875</td>\n",
       "      <td>896.9146</td>\n",
       "    </tr>\n",
       "    <tr>\n",
       "      <th>3</th>\n",
       "      <td>30015414470000</td>\n",
       "      <td>2014-01-07</td>\n",
       "      <td>2013-12-01 00:00:00.000</td>\n",
       "      <td>BONE SPRING</td>\n",
       "      <td>PERMIAN BASIN</td>\n",
       "      <td>NEW MEXICO</td>\n",
       "      <td>EDDY</td>\n",
       "      <td>40.495332</td>\n",
       "      <td>-103.243875</td>\n",
       "      <td>648.1232</td>\n",
       "    </tr>\n",
       "    <tr>\n",
       "      <th>4</th>\n",
       "      <td>30025425390000</td>\n",
       "      <td>2015-10-10</td>\n",
       "      <td>2015-08-01 00:00:00.000</td>\n",
       "      <td>WOLFCAMP UPPER</td>\n",
       "      <td>PERMIAN BASIN</td>\n",
       "      <td>NEW MEXICO</td>\n",
       "      <td>LEA</td>\n",
       "      <td>32.080410</td>\n",
       "      <td>-103.530040</td>\n",
       "      <td>1657.9800</td>\n",
       "    </tr>\n",
       "    <tr>\n",
       "      <th>5</th>\n",
       "      <td>33053048870100</td>\n",
       "      <td>2014-11-05</td>\n",
       "      <td>2014-11-01 00:00:00.000</td>\n",
       "      <td>BAKKEN</td>\n",
       "      <td>NaN</td>\n",
       "      <td>NORTH DAKOTA</td>\n",
       "      <td>MCKENZIE</td>\n",
       "      <td>47.995019</td>\n",
       "      <td>-103.561306</td>\n",
       "      <td>984.4741</td>\n",
       "    </tr>\n",
       "    <tr>\n",
       "      <th>6</th>\n",
       "      <td>33053051530000</td>\n",
       "      <td>2014-04-27</td>\n",
       "      <td>2014-04-01 00:00:00.000</td>\n",
       "      <td>BAKKEN</td>\n",
       "      <td>WILLISTON BASIN</td>\n",
       "      <td>NORTH DAKOTA</td>\n",
       "      <td>MCKENZIE</td>\n",
       "      <td>47.992928</td>\n",
       "      <td>-103.020490</td>\n",
       "      <td>341.2530</td>\n",
       "    </tr>\n",
       "  </tbody>\n",
       "</table>\n",
       "</div>"
      ],
      "text/plain": [
       "              API CompletionDate      FirstProductionDate       formation  \\\n",
       "0   5123402600000     2015-09-13  2015-09-01 00:00:00.000          CODELL   \n",
       "1   5123409020000     2015-09-07  2015-09-01 00:00:00.000        NIOBRARA   \n",
       "2   5123410480000            NaN  2015-04-01 00:00:00.000        NIOBRARA   \n",
       "3  30015414470000     2014-01-07  2013-12-01 00:00:00.000     BONE SPRING   \n",
       "4  30025425390000     2015-10-10  2015-08-01 00:00:00.000  WOLFCAMP UPPER   \n",
       "5  33053048870100     2014-11-05  2014-11-01 00:00:00.000          BAKKEN   \n",
       "6  33053051530000     2014-04-27  2014-04-01 00:00:00.000          BAKKEN   \n",
       "\n",
       "         BasinName     StateName CountyName   LatWGS84    LonWGS84  \\\n",
       "0     DENVER BASIN      COLORADO       WELD  40.353967 -104.944679   \n",
       "1              NaN      COLORADO       WELD  40.482361 -104.468261   \n",
       "2     DENVER BASIN           NaN       WELD  40.495332 -103.243875   \n",
       "3    PERMIAN BASIN    NEW MEXICO       EDDY  40.495332 -103.243875   \n",
       "4    PERMIAN BASIN    NEW MEXICO        LEA  32.080410 -103.530040   \n",
       "5              NaN  NORTH DAKOTA   MCKENZIE  47.995019 -103.561306   \n",
       "6  WILLISTON BASIN  NORTH DAKOTA   MCKENZIE  47.992928 -103.020490   \n",
       "\n",
       "   PROP_PER_FOOT  \n",
       "0       926.5010  \n",
       "1       697.0967  \n",
       "2       896.9146  \n",
       "3       648.1232  \n",
       "4      1657.9800  \n",
       "5       984.4741  \n",
       "6       341.2530  "
      ]
     },
     "execution_count": 85,
     "metadata": {},
     "output_type": "execute_result"
    }
   ],
   "source": [
    "df_na.fillna(df.median())"
   ]
  },
  {
   "cell_type": "markdown",
   "metadata": {
    "slideshow": {
     "slide_type": "slide"
    }
   },
   "source": [
    "# Выбор признаков (Feature selection)"
   ]
  },
  {
   "cell_type": "code",
   "execution_count": 86,
   "metadata": {},
   "outputs": [
    {
     "data": {
      "text/html": [
       "<div>\n",
       "<style scoped>\n",
       "    .dataframe tbody tr th:only-of-type {\n",
       "        vertical-align: middle;\n",
       "    }\n",
       "\n",
       "    .dataframe tbody tr th {\n",
       "        vertical-align: top;\n",
       "    }\n",
       "\n",
       "    .dataframe thead th {\n",
       "        text-align: right;\n",
       "    }\n",
       "</style>\n",
       "<table border=\"1\" class=\"dataframe\">\n",
       "  <thead>\n",
       "    <tr style=\"text-align: right;\">\n",
       "      <th></th>\n",
       "      <th>API</th>\n",
       "      <th>LatWGS84</th>\n",
       "      <th>LonWGS84</th>\n",
       "      <th>BottomHoleLatitude</th>\n",
       "      <th>BottomHoleLongitude</th>\n",
       "      <th>LATERAL_LENGTH_BLEND</th>\n",
       "      <th>PROP_PER_FOOT</th>\n",
       "      <th>WATER_PER_FOOT</th>\n",
       "    </tr>\n",
       "  </thead>\n",
       "  <tbody>\n",
       "    <tr>\n",
       "      <th>API</th>\n",
       "      <td>1.000000</td>\n",
       "      <td>-0.149257</td>\n",
       "      <td>0.540277</td>\n",
       "      <td>-0.149906</td>\n",
       "      <td>0.539946</td>\n",
       "      <td>0.375130</td>\n",
       "      <td>0.047681</td>\n",
       "      <td>0.195961</td>\n",
       "    </tr>\n",
       "    <tr>\n",
       "      <th>LatWGS84</th>\n",
       "      <td>-0.149257</td>\n",
       "      <td>1.000000</td>\n",
       "      <td>-0.277486</td>\n",
       "      <td>0.999996</td>\n",
       "      <td>-0.275742</td>\n",
       "      <td>0.445279</td>\n",
       "      <td>-0.765611</td>\n",
       "      <td>-0.726300</td>\n",
       "    </tr>\n",
       "    <tr>\n",
       "      <th>LonWGS84</th>\n",
       "      <td>0.540277</td>\n",
       "      <td>-0.277486</td>\n",
       "      <td>1.000000</td>\n",
       "      <td>-0.277764</td>\n",
       "      <td>0.999974</td>\n",
       "      <td>0.124690</td>\n",
       "      <td>0.186483</td>\n",
       "      <td>0.337465</td>\n",
       "    </tr>\n",
       "    <tr>\n",
       "      <th>BottomHoleLatitude</th>\n",
       "      <td>-0.149906</td>\n",
       "      <td>0.999996</td>\n",
       "      <td>-0.277764</td>\n",
       "      <td>1.000000</td>\n",
       "      <td>-0.276020</td>\n",
       "      <td>0.444701</td>\n",
       "      <td>-0.765357</td>\n",
       "      <td>-0.726028</td>\n",
       "    </tr>\n",
       "    <tr>\n",
       "      <th>BottomHoleLongitude</th>\n",
       "      <td>0.539946</td>\n",
       "      <td>-0.275742</td>\n",
       "      <td>0.999974</td>\n",
       "      <td>-0.276020</td>\n",
       "      <td>1.000000</td>\n",
       "      <td>0.125881</td>\n",
       "      <td>0.185101</td>\n",
       "      <td>0.335142</td>\n",
       "    </tr>\n",
       "    <tr>\n",
       "      <th>LATERAL_LENGTH_BLEND</th>\n",
       "      <td>0.375130</td>\n",
       "      <td>0.445279</td>\n",
       "      <td>0.124690</td>\n",
       "      <td>0.444701</td>\n",
       "      <td>0.125881</td>\n",
       "      <td>1.000000</td>\n",
       "      <td>-0.297301</td>\n",
       "      <td>-0.193474</td>\n",
       "    </tr>\n",
       "    <tr>\n",
       "      <th>PROP_PER_FOOT</th>\n",
       "      <td>0.047681</td>\n",
       "      <td>-0.765611</td>\n",
       "      <td>0.186483</td>\n",
       "      <td>-0.765357</td>\n",
       "      <td>0.185101</td>\n",
       "      <td>-0.297301</td>\n",
       "      <td>1.000000</td>\n",
       "      <td>0.810387</td>\n",
       "    </tr>\n",
       "    <tr>\n",
       "      <th>WATER_PER_FOOT</th>\n",
       "      <td>0.195961</td>\n",
       "      <td>-0.726300</td>\n",
       "      <td>0.337465</td>\n",
       "      <td>-0.726028</td>\n",
       "      <td>0.335142</td>\n",
       "      <td>-0.193474</td>\n",
       "      <td>0.810387</td>\n",
       "      <td>1.000000</td>\n",
       "    </tr>\n",
       "  </tbody>\n",
       "</table>\n",
       "</div>"
      ],
      "text/plain": [
       "                           API  LatWGS84  LonWGS84  BottomHoleLatitude  \\\n",
       "API                   1.000000 -0.149257  0.540277           -0.149906   \n",
       "LatWGS84             -0.149257  1.000000 -0.277486            0.999996   \n",
       "LonWGS84              0.540277 -0.277486  1.000000           -0.277764   \n",
       "BottomHoleLatitude   -0.149906  0.999996 -0.277764            1.000000   \n",
       "BottomHoleLongitude   0.539946 -0.275742  0.999974           -0.276020   \n",
       "LATERAL_LENGTH_BLEND  0.375130  0.445279  0.124690            0.444701   \n",
       "PROP_PER_FOOT         0.047681 -0.765611  0.186483           -0.765357   \n",
       "WATER_PER_FOOT        0.195961 -0.726300  0.337465           -0.726028   \n",
       "\n",
       "                      BottomHoleLongitude  LATERAL_LENGTH_BLEND  \\\n",
       "API                              0.539946              0.375130   \n",
       "LatWGS84                        -0.275742              0.445279   \n",
       "LonWGS84                         0.999974              0.124690   \n",
       "BottomHoleLatitude              -0.276020              0.444701   \n",
       "BottomHoleLongitude              1.000000              0.125881   \n",
       "LATERAL_LENGTH_BLEND             0.125881              1.000000   \n",
       "PROP_PER_FOOT                    0.185101             -0.297301   \n",
       "WATER_PER_FOOT                   0.335142             -0.193474   \n",
       "\n",
       "                      PROP_PER_FOOT  WATER_PER_FOOT  \n",
       "API                        0.047681        0.195961  \n",
       "LatWGS84                  -0.765611       -0.726300  \n",
       "LonWGS84                   0.186483        0.337465  \n",
       "BottomHoleLatitude        -0.765357       -0.726028  \n",
       "BottomHoleLongitude        0.185101        0.335142  \n",
       "LATERAL_LENGTH_BLEND      -0.297301       -0.193474  \n",
       "PROP_PER_FOOT              1.000000        0.810387  \n",
       "WATER_PER_FOOT             0.810387        1.000000  "
      ]
     },
     "execution_count": 86,
     "metadata": {},
     "output_type": "execute_result"
    }
   ],
   "source": [
    "df.corr()"
   ]
  },
  {
   "cell_type": "code",
   "execution_count": 89,
   "metadata": {},
   "outputs": [],
   "source": [
    "# Удаление совпадающих признаков\n",
    "df_res = df.drop(['BottomHoleLatitude', 'BottomHoleLatitude'], axis=1)\n",
    "\n",
    "# Удаление идентификаторов\n",
    "df_res = df_res.drop('API', axis=1)\n",
    "\n",
    "# Удаление признаков по экспертному мнению\n",
    "df_res = df_res.drop(['SpudDate', 'PermitDate', 'operatorNameIHS'], axis=1)"
   ]
  },
  {
   "cell_type": "markdown",
   "metadata": {
    "slideshow": {
     "slide_type": "subslide"
    }
   },
   "source": [
    "### Отбор с использованием моделей\n",
    "Некоторые модели (к примеру Random Forest) после обучения имеют возможность вывода важности признаков, основываясь на которую можно удалить наименее полезные.\n",
    "\n",
    "![image.png](https://i.stack.imgur.com/uwWJS.png)"
   ]
  },
  {
   "cell_type": "markdown",
   "metadata": {
    "slideshow": {
     "slide_type": "subslide"
    }
   },
   "source": [
    "### Перебор\n",
    "\n",
    "Обучение модели на разных подмножествах признаков и сравнение их результатов"
   ]
  },
  {
   "cell_type": "markdown",
   "metadata": {
    "slideshow": {
     "slide_type": "slide"
    }
   },
   "source": [
    "# Разбиение данных"
   ]
  },
  {
   "cell_type": "markdown",
   "metadata": {},
   "source": [
    "Данные при обучении разделяются на 3 части: тренировочная(train), валидационная(validation) и часть для тестирования(test)\n",
    " \n",
    "* train — часть набора данных на основании которого будет строиться модель\n",
    "* validation — часть набора данных для подбора параметров модели (опционально)\n",
    "* test — часть набора данных для проверки модели"
   ]
  },
  {
   "cell_type": "code",
   "execution_count": 112,
   "metadata": {},
   "outputs": [
    {
     "data": {
      "text/html": [
       "<div>\n",
       "<style scoped>\n",
       "    .dataframe tbody tr th:only-of-type {\n",
       "        vertical-align: middle;\n",
       "    }\n",
       "\n",
       "    .dataframe tbody tr th {\n",
       "        vertical-align: top;\n",
       "    }\n",
       "\n",
       "    .dataframe thead th {\n",
       "        text-align: right;\n",
       "    }\n",
       "</style>\n",
       "<table border=\"1\" class=\"dataframe\">\n",
       "  <thead>\n",
       "    <tr style=\"text-align: right;\">\n",
       "      <th></th>\n",
       "      <th>API</th>\n",
       "      <th>PermitDate</th>\n",
       "      <th>SpudDate</th>\n",
       "      <th>CompletionDate</th>\n",
       "      <th>FirstProductionDate</th>\n",
       "      <th>operatorNameIHS</th>\n",
       "      <th>formation</th>\n",
       "      <th>BasinName</th>\n",
       "      <th>StateName</th>\n",
       "      <th>CountyName</th>\n",
       "      <th>LatWGS84</th>\n",
       "      <th>LonWGS84</th>\n",
       "      <th>BottomHoleLatitude</th>\n",
       "      <th>BottomHoleLongitude</th>\n",
       "      <th>LATERAL_LENGTH_BLEND</th>\n",
       "      <th>PROP_PER_FOOT</th>\n",
       "      <th>WATER_PER_FOOT</th>\n",
       "      <th>Prod1Year</th>\n",
       "      <th>ProdAll</th>\n",
       "    </tr>\n",
       "  </thead>\n",
       "  <tbody>\n",
       "    <tr>\n",
       "      <th>0</th>\n",
       "      <td>5005072170100</td>\n",
       "      <td>2014-05-06</td>\n",
       "      <td>2014-05-06</td>\n",
       "      <td>2014-12-02</td>\n",
       "      <td>2014-11-01 00:00:00.000</td>\n",
       "      <td>BURLINGTON RESOURCES O&amp;G CO LP</td>\n",
       "      <td>NIOBRARA</td>\n",
       "      <td>DENVER BASIN</td>\n",
       "      <td>COLORADO</td>\n",
       "      <td>ARAPAHOE</td>\n",
       "      <td>39.684606</td>\n",
       "      <td>-104.642128</td>\n",
       "      <td>39.68445</td>\n",
       "      <td>-104.60557</td>\n",
       "      <td>9005.0</td>\n",
       "      <td>994.6866</td>\n",
       "      <td>591.8004</td>\n",
       "      <td>126898</td>\n",
       "      <td>201325</td>\n",
       "    </tr>\n",
       "    <tr>\n",
       "      <th>1</th>\n",
       "      <td>5123377130000</td>\n",
       "      <td>2013-07-21</td>\n",
       "      <td>2013-10-06</td>\n",
       "      <td>2014-02-26</td>\n",
       "      <td>2014-02-01 00:00:00.000</td>\n",
       "      <td>SRC ENERGY INCORPORATED</td>\n",
       "      <td>NIOBRARA</td>\n",
       "      <td>DENVER BASIN</td>\n",
       "      <td>COLORADO</td>\n",
       "      <td>WELD</td>\n",
       "      <td>40.509320</td>\n",
       "      <td>-104.780980</td>\n",
       "      <td>40.49692</td>\n",
       "      <td>-104.77859</td>\n",
       "      <td>4195.0</td>\n",
       "      <td>991.5857</td>\n",
       "      <td>628.6321</td>\n",
       "      <td>22616</td>\n",
       "      <td>34625</td>\n",
       "    </tr>\n",
       "    <tr>\n",
       "      <th>2</th>\n",
       "      <td>5123379280000</td>\n",
       "      <td>2013-09-08</td>\n",
       "      <td>2013-09-25</td>\n",
       "      <td>2014-09-07</td>\n",
       "      <td>2013-11-01 00:00:00.000</td>\n",
       "      <td>BONANZA CREEK ENERGY OPERATING CO LLC</td>\n",
       "      <td>NIOBRARA</td>\n",
       "      <td>DENVER BASIN</td>\n",
       "      <td>COLORADO</td>\n",
       "      <td>WELD</td>\n",
       "      <td>40.335390</td>\n",
       "      <td>-104.363000</td>\n",
       "      <td>40.34780</td>\n",
       "      <td>-104.36863</td>\n",
       "      <td>4273.0</td>\n",
       "      <td>1000.2760</td>\n",
       "      <td>564.4841</td>\n",
       "      <td>47523</td>\n",
       "      <td>69009</td>\n",
       "    </tr>\n",
       "    <tr>\n",
       "      <th>3</th>\n",
       "      <td>5123379400000</td>\n",
       "      <td>2013-09-11</td>\n",
       "      <td>2014-12-05</td>\n",
       "      <td>2015-03-31</td>\n",
       "      <td>2015-03-01 00:00:00.000</td>\n",
       "      <td>NOBLE ENERGY INCORPORATED</td>\n",
       "      <td>NIOBRARA</td>\n",
       "      <td>DENVER BASIN</td>\n",
       "      <td>COLORADO</td>\n",
       "      <td>WELD</td>\n",
       "      <td>40.152220</td>\n",
       "      <td>-104.530780</td>\n",
       "      <td>40.17445</td>\n",
       "      <td>-104.52932</td>\n",
       "      <td>7078.0</td>\n",
       "      <td>973.4437</td>\n",
       "      <td>824.0020</td>\n",
       "      <td>59474</td>\n",
       "      <td>81048</td>\n",
       "    </tr>\n",
       "    <tr>\n",
       "      <th>4</th>\n",
       "      <td>5123385820100</td>\n",
       "      <td>2014-01-07</td>\n",
       "      <td>2014-01-13</td>\n",
       "      <td>2014-04-23</td>\n",
       "      <td>2014-04-01 00:00:00.000</td>\n",
       "      <td>GREAT WESTERN OPERATING COMPANY LLC</td>\n",
       "      <td>NIOBRARA</td>\n",
       "      <td>DENVER BASIN</td>\n",
       "      <td>COLORADO</td>\n",
       "      <td>WELD</td>\n",
       "      <td>40.508303</td>\n",
       "      <td>-104.868180</td>\n",
       "      <td>40.49558</td>\n",
       "      <td>-104.86757</td>\n",
       "      <td>3211.0</td>\n",
       "      <td>783.5919</td>\n",
       "      <td>603.1414</td>\n",
       "      <td>14427</td>\n",
       "      <td>18050</td>\n",
       "    </tr>\n",
       "  </tbody>\n",
       "</table>\n",
       "</div>"
      ],
      "text/plain": [
       "             API  PermitDate    SpudDate CompletionDate  \\\n",
       "0  5005072170100  2014-05-06  2014-05-06     2014-12-02   \n",
       "1  5123377130000  2013-07-21  2013-10-06     2014-02-26   \n",
       "2  5123379280000  2013-09-08  2013-09-25     2014-09-07   \n",
       "3  5123379400000  2013-09-11  2014-12-05     2015-03-31   \n",
       "4  5123385820100  2014-01-07  2014-01-13     2014-04-23   \n",
       "\n",
       "       FirstProductionDate                        operatorNameIHS formation  \\\n",
       "0  2014-11-01 00:00:00.000         BURLINGTON RESOURCES O&G CO LP  NIOBRARA   \n",
       "1  2014-02-01 00:00:00.000                SRC ENERGY INCORPORATED  NIOBRARA   \n",
       "2  2013-11-01 00:00:00.000  BONANZA CREEK ENERGY OPERATING CO LLC  NIOBRARA   \n",
       "3  2015-03-01 00:00:00.000              NOBLE ENERGY INCORPORATED  NIOBRARA   \n",
       "4  2014-04-01 00:00:00.000    GREAT WESTERN OPERATING COMPANY LLC  NIOBRARA   \n",
       "\n",
       "      BasinName StateName CountyName   LatWGS84    LonWGS84  \\\n",
       "0  DENVER BASIN  COLORADO   ARAPAHOE  39.684606 -104.642128   \n",
       "1  DENVER BASIN  COLORADO       WELD  40.509320 -104.780980   \n",
       "2  DENVER BASIN  COLORADO       WELD  40.335390 -104.363000   \n",
       "3  DENVER BASIN  COLORADO       WELD  40.152220 -104.530780   \n",
       "4  DENVER BASIN  COLORADO       WELD  40.508303 -104.868180   \n",
       "\n",
       "   BottomHoleLatitude  BottomHoleLongitude  LATERAL_LENGTH_BLEND  \\\n",
       "0            39.68445           -104.60557                9005.0   \n",
       "1            40.49692           -104.77859                4195.0   \n",
       "2            40.34780           -104.36863                4273.0   \n",
       "3            40.17445           -104.52932                7078.0   \n",
       "4            40.49558           -104.86757                3211.0   \n",
       "\n",
       "   PROP_PER_FOOT  WATER_PER_FOOT  Prod1Year  ProdAll  \n",
       "0       994.6866        591.8004     126898   201325  \n",
       "1       991.5857        628.6321      22616    34625  \n",
       "2      1000.2760        564.4841      47523    69009  \n",
       "3       973.4437        824.0020      59474    81048  \n",
       "4       783.5919        603.1414      14427    18050  "
      ]
     },
     "execution_count": 112,
     "metadata": {},
     "output_type": "execute_result"
    }
   ],
   "source": [
    "df_main = pd.read_csv('data/wells_info_with_prod.csv')\n",
    "df_main.head()"
   ]
  },
  {
   "cell_type": "code",
   "execution_count": 113,
   "metadata": {
    "slideshow": {
     "slide_type": "subslide"
    }
   },
   "outputs": [],
   "source": [
    "X = df_main.drop(['Prod1Year', 'ProdAll'], axis=1)\n",
    "y = df_main['ProdAll']"
   ]
  },
  {
   "cell_type": "code",
   "execution_count": 115,
   "metadata": {},
   "outputs": [
    {
     "name": "stdout",
     "output_type": "stream",
     "text": [
      "(32, 17) (8, 17) (10, 17)\n",
      "(32,) (8,) (10,)\n"
     ]
    }
   ],
   "source": [
    "from sklearn.model_selection import train_test_split\n",
    "\n",
    "X_train, X_test, y_train, y_test = train_test_split(X, y, test_size=0.2, random_state=1)\n",
    "X_train, X_val, y_train, y_val = train_test_split(X_train, y_train, test_size=0.2, random_state=1)\n",
    "print(X_train.shape, X_val.shape, X_test.shape)\n",
    "print(y_train.shape, y_val.shape, y_test.shape)"
   ]
  },
  {
   "cell_type": "markdown",
   "metadata": {
    "slideshow": {
     "slide_type": "slide"
    }
   },
   "source": [
    "# Метрики для сравнения"
   ]
  },
  {
   "cell_type": "markdown",
   "metadata": {},
   "source": [
    "Для задачи классификации:\n",
    "* Доля правильных ответов алгоритма (accuracy)\n",
    "* Точность (precision)\n",
    "* Полнота (recall)\n",
    "\n",
    "![image.png](https://miro.medium.com/max/1520/1*OhEnS-T54Cz0YSTl_c3Dwg.jpeg)\n",
    "\n",
    "$$\n",
    "accuracy = {TP + TN \\over TP + TN + FP + FN}\n",
    "$$\n",
    "\n",
    "$$\n",
    "precision = {TP \\over TP + FP}\n",
    "$$\n",
    "\n",
    "$$\n",
    "recall = {TP \\over TP + FN}\n",
    "$$ "
   ]
  },
  {
   "cell_type": "markdown",
   "metadata": {
    "slideshow": {
     "slide_type": "subslide"
    }
   },
   "source": [
    "Для задачи регрессии:\n",
    "\n",
    "* Mean Absolute Error\n",
    "$$\n",
    "MAE = {\\sum_{n}|true_i-predict_i| \\over n}\n",
    "$$\n",
    "* Mean Squared Error\n",
    "$$\n",
    "MAE = {\\sum_{n}(true_i-predict_i)^2 \\over n}\n",
    "$$"
   ]
  },
  {
   "cell_type": "markdown",
   "metadata": {
    "slideshow": {
     "slide_type": "slide"
    }
   },
   "source": [
    "# KFold разбиение"
   ]
  },
  {
   "cell_type": "code",
   "execution_count": 122,
   "metadata": {},
   "outputs": [
    {
     "name": "stdout",
     "output_type": "stream",
     "text": [
      "[13 14 15 16 17 18 19 20 21 22 23 24 25 26 27 28 29 30 31 32 33 34 35 36\n",
      " 37 38 39 40 41 42 43 44 45 46 47 48 49] [ 0  1  2  3  4  5  6  7  8  9 10 11 12]\n",
      "[ 0  1  2  3  4  5  6  7  8  9 10 11 12 26 27 28 29 30 31 32 33 34 35 36\n",
      " 37 38 39 40 41 42 43 44 45 46 47 48 49] [13 14 15 16 17 18 19 20 21 22 23 24 25]\n",
      "[ 0  1  2  3  4  5  6  7  8  9 10 11 12 13 14 15 16 17 18 19 20 21 22 23\n",
      " 24 25 38 39 40 41 42 43 44 45 46 47 48 49] [26 27 28 29 30 31 32 33 34 35 36 37]\n",
      "[ 0  1  2  3  4  5  6  7  8  9 10 11 12 13 14 15 16 17 18 19 20 21 22 23\n",
      " 24 25 26 27 28 29 30 31 32 33 34 35 36 37] [38 39 40 41 42 43 44 45 46 47 48 49]\n"
     ]
    }
   ],
   "source": [
    "from sklearn.model_selection import KFold\n",
    "\n",
    "kf = KFold(n_splits=4)\n",
    "\n",
    "for train, test in kf.split(X):\n",
    "    print(train, test)\n",
    "    X_train, X_test, y_train, y_test = X.iloc[train], X.iloc[test], y.iloc[train], y.iloc[test]\n",
    "    # Обучение и проверка модели\n",
    "    # ..."
   ]
  },
  {
   "cell_type": "markdown",
   "metadata": {
    "slideshow": {
     "slide_type": "subslide"
    }
   },
   "source": [
    "# Кросс валидация"
   ]
  },
  {
   "cell_type": "code",
   "execution_count": 123,
   "metadata": {},
   "outputs": [],
   "source": [
    "from sklearn.model_selection import cross_val_score\n",
    "from sklearn.linear_model import LinearRegression\n",
    "\n",
    "kf = KFold(n_splits=N)\n",
    "results = cross_val_score(LinearRegression(), X, y, cv=kf)"
   ]
  },
  {
   "cell_type": "markdown",
   "metadata": {
    "slideshow": {
     "slide_type": "slide"
    }
   },
   "source": [
    "# Задачи\n",
    "\n",
    "1. Проведите извлечение признаков из *wells_info_with_prod.csv* (хоть один из столбцов с датой и категориальным признаком должен остаться). Целевой переменной будет **Prod1Year**\n",
    "2. Разбейте данные на train и test\n",
    "3. Отмасштабируйте train (в том числе целевую переменную)\n",
    "3. Используя модель масштабирования train отмасштабируйте test (использовать метод transform у той же модели масштабирования)"
   ]
  }
 ],
 "metadata": {
  "celltoolbar": "Slideshow",
  "kernelspec": {
   "display_name": "Python 3",
   "language": "python",
   "name": "python3"
  },
  "language_info": {
   "codemirror_mode": {
    "name": "ipython",
    "version": 3
   },
   "file_extension": ".py",
   "mimetype": "text/x-python",
   "name": "python",
   "nbconvert_exporter": "python",
   "pygments_lexer": "ipython3",
   "version": "3.8.3"
  }
 },
 "nbformat": 4,
 "nbformat_minor": 2
}
